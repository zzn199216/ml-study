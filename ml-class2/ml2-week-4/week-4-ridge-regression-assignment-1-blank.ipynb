{
 "cells": [
  {
   "cell_type": "markdown",
   "metadata": {},
   "source": [
    "# Regression Week 4: Ridge Regression (interpretation)"
   ]
  },
  {
   "cell_type": "markdown",
   "metadata": {},
   "source": [
    "In this notebook, we will run ridge regression multiple times with different L2 penalties to see which one produces the best fit. We will revisit the example of polynomial regression as a means to see the effect of L2 regularization. In particular, we will:\n",
    "* Use a pre-built implementation of regression (GraphLab Create) to run polynomial regression\n",
    "* Use matplotlib to visualize polynomial regressions\n",
    "* Use a pre-built implementation of regression (GraphLab Create) to run polynomial regression, this time with L2 penalty\n",
    "* Use matplotlib to visualize polynomial regressions under L2 regularization\n",
    "* Choose best L2 penalty using cross-validation.\n",
    "* Assess the final fit using test data.\n",
    "\n",
    "We will continue to use the House data from previous notebooks.  (In the next programming assignment for this module, you will implement your own ridge regression learning algorithm using gradient descent.)"
   ]
  },
  {
   "cell_type": "markdown",
   "metadata": {},
   "source": [
    "# Fire up graphlab create"
   ]
  },
  {
   "cell_type": "code",
   "execution_count": 28,
   "metadata": {
    "collapsed": false
   },
   "outputs": [],
   "source": [
    "import graphlab\n",
    "import math\n",
    "import random\n",
    "import numpy"
   ]
  },
  {
   "cell_type": "markdown",
   "metadata": {},
   "source": [
    "# Polynomial regression, revisited"
   ]
  },
  {
   "cell_type": "markdown",
   "metadata": {},
   "source": [
    "We build on the material from Week 3, where we wrote the function to produce an SFrame with columns containing the powers of a given input. Copy and paste the function `polynomial_sframe` from Week 3:"
   ]
  },
  {
   "cell_type": "code",
   "execution_count": 3,
   "metadata": {
    "collapsed": false
   },
   "outputs": [],
   "source": [
    "def polynomial_sframe(feature, degree):\n",
    "    \n",
    "    # assume that degree >= 1\n",
    "    # initialize the SFrame:\n",
    "    poly_sframe = graphlab.SFrame()\n",
    "    # and set poly_sframe['power_1'] equal to the passed feature\n",
    "    \n",
    "    power_1 = graphlab.SArray(feature)\n",
    "    poly_sframe['power_1'] = power_1\n",
    "    \n",
    "    # first check if degree > 1\n",
    "    if degree > 1:\n",
    "        # then loop over the remaining degrees:\n",
    "        # range usually starts at 0 and stops at the endpoint-1. We want it to start at 2 and stop at degree\n",
    "        for power in range(2, degree+1): \n",
    "            # first we'll give the column a name:\n",
    "            name_is = 'power_' + str(power)\n",
    "            # then assign poly_sframe[name] to the appropriate power of feature\n",
    "            data =  feature.apply(lambda x: x**power)\n",
    "            \n",
    "            poly_sframe = poly_sframe.add_column(data,name = name_is)\n",
    "\n",
    "    return poly_sframe\n",
    "    "
   ]
  },
  {
   "cell_type": "markdown",
   "metadata": {},
   "source": [
    "Let's use matplotlib to visualize what a polynomial regression looks like on the house data."
   ]
  },
  {
   "cell_type": "code",
   "execution_count": 4,
   "metadata": {
    "collapsed": false
   },
   "outputs": [],
   "source": [
    "import matplotlib.pyplot as plt\n",
    "%matplotlib inline"
   ]
  },
  {
   "cell_type": "code",
   "execution_count": 23,
   "metadata": {
    "collapsed": false
   },
   "outputs": [],
   "source": [
    "def plot_data(data):    \n",
    "    plt.plot(data['X1'],data['Y'],'k.')\n",
    "    plt.xlabel('x')\n",
    "    plt.ylabel('y')\n"
   ]
  },
  {
   "cell_type": "code",
   "execution_count": 24,
   "metadata": {
    "collapsed": true
   },
   "outputs": [],
   "source": [
    "def plot_poly_predictions(data, model):\n",
    "    plot_data(data)\n",
    "\n",
    "    # Get the degree of the polynomial\n",
    "    deg = len(model.coefficients['value'])-1\n",
    "    \n",
    "    # Create 200 points in the x axis and compute the predicted value for each point\n",
    "    x_pred = graphlab.SFrame({'X1':[i/200.0 for i in range(200)]})\n",
    "    y_pred = model.predict(polynomial_features(x_pred,deg))\n",
    "    \n",
    "    # plot predictions\n",
    "    plt.plot(x_pred['X1'], y_pred, 'g-', label='degree ' + str(deg) + ' fit')\n",
    "    plt.legend(loc='upper left')\n",
    "    plt.axis([0,1,-1.5,2])"
   ]
  },
  {
   "cell_type": "code",
   "execution_count": 87,
   "metadata": {
    "collapsed": false
   },
   "outputs": [],
   "source": [
    "sales = graphlab.SFrame('kc_house_data.gl/')"
   ]
  },
  {
   "cell_type": "markdown",
   "metadata": {},
   "source": [
    "As in Week 3, we will use the sqft_living variable. For plotting purposes (connecting the dots), you'll need to sort by the values of sqft_living. For houses with identical square footage, we break the tie by their prices."
   ]
  },
  {
   "cell_type": "code",
   "execution_count": 88,
   "metadata": {
    "collapsed": false
   },
   "outputs": [],
   "source": [
    "sales = sales.sort(['sqft_living','price'])\n",
    "poly15_data = polynomial_sframe(sales['sqft_living'], 15)\n",
    "my_features = poly15_data.column_names()\n",
    "poly15_data['price'] = sales['price']"
   ]
  },
  {
   "cell_type": "markdown",
   "metadata": {},
   "source": [
    "Let us revisit the 15th-order polynomial model using the 'sqft_living' input. Generate polynomial features up to degree 15 using `polynomial_sframe()` and fit a model with these features. When fitting the model, use an L2 penalty of `1e-5`:"
   ]
  },
  {
   "cell_type": "code",
   "execution_count": 89,
   "metadata": {
    "collapsed": true
   },
   "outputs": [],
   "source": [
    "l2_small_penalty = 1e-5"
   ]
  },
  {
   "cell_type": "markdown",
   "metadata": {},
   "source": [
    "Note: When we have so many features and so few data points, the solution can become highly numerically unstable, which can sometimes lead to strange unpredictable results.  Thus, rather than using no regularization, we will introduce a tiny amount of regularization (`l2_penalty=1e-5`) to make the solution numerically stable.  (In lecture, we discussed the fact that regularization can also help with numerical stability, and here we are seeing a practical example.)\n",
    "\n",
    "With the L2 penalty specified above, fit the model and print out the learned weights.\n",
    "\n",
    "Hint: make sure to add 'price' column to the new SFrame before calling `graphlab.linear_regression.create()`. Also, make sure GraphLab Create doesn't create its own validation set by using the option `validation_set=None` in this call."
   ]
  },
  {
   "cell_type": "code",
   "execution_count": 90,
   "metadata": {
    "collapsed": false
   },
   "outputs": [
    {
     "data": {
      "text/html": [
       "<pre>Linear regression:</pre>"
      ],
      "text/plain": [
       "Linear regression:"
      ]
     },
     "metadata": {},
     "output_type": "display_data"
    },
    {
     "data": {
      "text/html": [
       "<pre>--------------------------------------------------------</pre>"
      ],
      "text/plain": [
       "--------------------------------------------------------"
      ]
     },
     "metadata": {},
     "output_type": "display_data"
    },
    {
     "data": {
      "text/html": [
       "<pre>Number of examples          : 21613</pre>"
      ],
      "text/plain": [
       "Number of examples          : 21613"
      ]
     },
     "metadata": {},
     "output_type": "display_data"
    },
    {
     "data": {
      "text/html": [
       "<pre>Number of features          : 15</pre>"
      ],
      "text/plain": [
       "Number of features          : 15"
      ]
     },
     "metadata": {},
     "output_type": "display_data"
    },
    {
     "data": {
      "text/html": [
       "<pre>Number of unpacked features : 15</pre>"
      ],
      "text/plain": [
       "Number of unpacked features : 15"
      ]
     },
     "metadata": {},
     "output_type": "display_data"
    },
    {
     "data": {
      "text/html": [
       "<pre>Number of coefficients    : 16</pre>"
      ],
      "text/plain": [
       "Number of coefficients    : 16"
      ]
     },
     "metadata": {},
     "output_type": "display_data"
    },
    {
     "data": {
      "text/html": [
       "<pre>Starting Newton Method</pre>"
      ],
      "text/plain": [
       "Starting Newton Method"
      ]
     },
     "metadata": {},
     "output_type": "display_data"
    },
    {
     "data": {
      "text/html": [
       "<pre>--------------------------------------------------------</pre>"
      ],
      "text/plain": [
       "--------------------------------------------------------"
      ]
     },
     "metadata": {},
     "output_type": "display_data"
    },
    {
     "data": {
      "text/html": [
       "<pre>+-----------+----------+--------------+--------------------+---------------+</pre>"
      ],
      "text/plain": [
       "+-----------+----------+--------------+--------------------+---------------+"
      ]
     },
     "metadata": {},
     "output_type": "display_data"
    },
    {
     "data": {
      "text/html": [
       "<pre>| Iteration | Passes   | Elapsed Time | Training-max_error | Training-rmse |</pre>"
      ],
      "text/plain": [
       "| Iteration | Passes   | Elapsed Time | Training-max_error | Training-rmse |"
      ]
     },
     "metadata": {},
     "output_type": "display_data"
    },
    {
     "data": {
      "text/html": [
       "<pre>+-----------+----------+--------------+--------------------+---------------+</pre>"
      ],
      "text/plain": [
       "+-----------+----------+--------------+--------------------+---------------+"
      ]
     },
     "metadata": {},
     "output_type": "display_data"
    },
    {
     "data": {
      "text/html": [
       "<pre>| 1         | 2        | 0.023001     | 2662555.737393     | 245656.462164 |</pre>"
      ],
      "text/plain": [
       "| 1         | 2        | 0.023001     | 2662555.737393     | 245656.462164 |"
      ]
     },
     "metadata": {},
     "output_type": "display_data"
    },
    {
     "data": {
      "text/html": [
       "<pre>+-----------+----------+--------------+--------------------+---------------+</pre>"
      ],
      "text/plain": [
       "+-----------+----------+--------------+--------------------+---------------+"
      ]
     },
     "metadata": {},
     "output_type": "display_data"
    },
    {
     "data": {
      "text/html": [
       "<pre>SUCCESS: Optimal solution found.</pre>"
      ],
      "text/plain": [
       "SUCCESS: Optimal solution found."
      ]
     },
     "metadata": {},
     "output_type": "display_data"
    },
    {
     "data": {
      "text/html": [
       "<pre></pre>"
      ],
      "text/plain": []
     },
     "metadata": {},
     "output_type": "display_data"
    }
   ],
   "source": [
    "model = graphlab.linear_regression.create(poly15_data, target = 'price',l2_penalty = l2_small_penalty ,\n",
    "                                          features = my_features, validation_set = None)"
   ]
  },
  {
   "cell_type": "code",
   "execution_count": 34,
   "metadata": {
    "collapsed": false
   },
   "outputs": [
    {
     "data": {
      "text/plain": [
       "dtype: float\n",
       "Rows: 16\n",
       "[167924.86308807274, 103.09093487105974, 0.1346045702701208, -0.00012907137531754047, 5.1892899540486513e-08, -7.771693847004842e-12, 1.7114497310738695e-16, 4.5117779732666087e-20, -4.788384934881503e-25, -2.333435014580626e-28, -7.29023393037323e-33, 7.228293965548741e-37, 6.904713108429753e-41, -3.6584524449627094e-46, -3.7957617321742e-49, 1.1372325070328419e-53]"
      ]
     },
     "execution_count": 34,
     "metadata": {},
     "output_type": "execute_result"
    }
   ],
   "source": [
    "model.coefficients['value']"
   ]
  },
  {
   "cell_type": "code",
   "execution_count": 91,
   "metadata": {
    "collapsed": true
   },
   "outputs": [],
   "source": [
    "def print_coefficients(model):    \n",
    "    # Get the degree of the polynomial\n",
    "    deg = len(model.coefficients['value'])-1\n",
    "\n",
    "    # Get learned parameters as a list\n",
    "    w = list(model.coefficients['value'])\n",
    "\n",
    "    # Numpy has a nifty function to print out polynomials in a pretty way\n",
    "    # (We'll use it, but it needs the parameters in the reverse order)\n",
    "    print 'Learned polynomial for degree ' + str(deg) + ':'\n",
    "    w.reverse()\n",
    "    print numpy.poly1d(w)"
   ]
  },
  {
   "cell_type": "code",
   "execution_count": 92,
   "metadata": {
    "collapsed": false
   },
   "outputs": [
    {
     "name": "stdout",
     "output_type": "stream",
     "text": [
      "Learned polynomial for degree 15:\n",
      "           15             14             13             12\n",
      "1.137e-53 x  - 3.796e-49 x  - 3.658e-46 x  + 6.905e-41 x \n",
      "              11            10             9             8\n",
      " + 7.228e-37 x  - 7.29e-33 x  - 2.333e-28 x - 4.788e-25 x\n",
      "              7             6             5             4             3\n",
      " + 4.512e-20 x + 1.711e-16 x - 7.772e-12 x + 5.189e-08 x - 0.0001291 x\n",
      "           2\n",
      " + 0.1346 x + 103.1 x + 1.679e+05\n"
     ]
    }
   ],
   "source": [
    "print_coefficients(model)"
   ]
  },
  {
   "cell_type": "code",
   "execution_count": null,
   "metadata": {
    "collapsed": true
   },
   "outputs": [],
   "source": []
  },
  {
   "cell_type": "code",
   "execution_count": null,
   "metadata": {
    "collapsed": true
   },
   "outputs": [],
   "source": []
  },
  {
   "cell_type": "markdown",
   "metadata": {},
   "source": [
    "***QUIZ QUESTION:  What's the learned value for the coefficient of feature `power_1`?***"
   ]
  },
  {
   "cell_type": "markdown",
   "metadata": {},
   "source": [
    "# Observe overfitting"
   ]
  },
  {
   "cell_type": "markdown",
   "metadata": {},
   "source": [
    "Recall from Week 3 that the polynomial fit of degree 15 changed wildly whenever the data changed. In particular, when we split the sales data into four subsets and fit the model of degree 15, the result came out to be very different for each subset. The model had a *high variance*. We will see in a moment that ridge regression reduces such variance. But first, we must reproduce the experiment we did in Week 3."
   ]
  },
  {
   "cell_type": "markdown",
   "metadata": {},
   "source": [
    "First, split the data into split the sales data into four subsets of roughly equal size and call them `set_1`, `set_2`, `set_3`, and `set_4`. Use `.random_split` function and make sure you set `seed=0`. "
   ]
  },
  {
   "cell_type": "code",
   "execution_count": 94,
   "metadata": {
    "collapsed": true
   },
   "outputs": [],
   "source": [
    "sales = sales.sort(['sqft_living','price'])\n",
    "poly15_data = polynomial_sframe(sales['sqft_living'], 15)\n",
    "my_features = poly15_data.column_names()\n",
    "poly15_data['price'] = sales['price']\n",
    "\n",
    "(semi_split1, semi_split2) = poly15_data.random_split(.5,seed=0)\n",
    "(set_1, set_2) = semi_split1.random_split(0.5, seed=0)\n",
    "(set_3, set_4) = semi_split2.random_split(0.5, seed=0)"
   ]
  },
  {
   "cell_type": "markdown",
   "metadata": {},
   "source": [
    "Next, fit a 15th degree polynomial on `set_1`, `set_2`, `set_3`, and `set_4`, using 'sqft_living' to predict prices. Print the weights and make a plot of the resulting model.\n",
    "\n",
    "Hint: When calling `graphlab.linear_regression.create()`, use the same L2 penalty as before (i.e. `l2_small_penalty`).  Also, make sure GraphLab Create doesn't create its own validation set by using the option `validation_set = None` in this call."
   ]
  },
  {
   "cell_type": "code",
   "execution_count": 95,
   "metadata": {
    "collapsed": false
   },
   "outputs": [
    {
     "data": {
      "text/html": [
       "<pre>Linear regression:</pre>"
      ],
      "text/plain": [
       "Linear regression:"
      ]
     },
     "metadata": {},
     "output_type": "display_data"
    },
    {
     "data": {
      "text/html": [
       "<pre>--------------------------------------------------------</pre>"
      ],
      "text/plain": [
       "--------------------------------------------------------"
      ]
     },
     "metadata": {},
     "output_type": "display_data"
    },
    {
     "data": {
      "text/html": [
       "<pre>Number of examples          : 5404</pre>"
      ],
      "text/plain": [
       "Number of examples          : 5404"
      ]
     },
     "metadata": {},
     "output_type": "display_data"
    },
    {
     "data": {
      "text/html": [
       "<pre>Number of features          : 15</pre>"
      ],
      "text/plain": [
       "Number of features          : 15"
      ]
     },
     "metadata": {},
     "output_type": "display_data"
    },
    {
     "data": {
      "text/html": [
       "<pre>Number of unpacked features : 15</pre>"
      ],
      "text/plain": [
       "Number of unpacked features : 15"
      ]
     },
     "metadata": {},
     "output_type": "display_data"
    },
    {
     "data": {
      "text/html": [
       "<pre>Number of coefficients    : 16</pre>"
      ],
      "text/plain": [
       "Number of coefficients    : 16"
      ]
     },
     "metadata": {},
     "output_type": "display_data"
    },
    {
     "data": {
      "text/html": [
       "<pre>Starting Newton Method</pre>"
      ],
      "text/plain": [
       "Starting Newton Method"
      ]
     },
     "metadata": {},
     "output_type": "display_data"
    },
    {
     "data": {
      "text/html": [
       "<pre>--------------------------------------------------------</pre>"
      ],
      "text/plain": [
       "--------------------------------------------------------"
      ]
     },
     "metadata": {},
     "output_type": "display_data"
    },
    {
     "data": {
      "text/html": [
       "<pre>+-----------+----------+--------------+--------------------+---------------+</pre>"
      ],
      "text/plain": [
       "+-----------+----------+--------------+--------------------+---------------+"
      ]
     },
     "metadata": {},
     "output_type": "display_data"
    },
    {
     "data": {
      "text/html": [
       "<pre>| Iteration | Passes   | Elapsed Time | Training-max_error | Training-rmse |</pre>"
      ],
      "text/plain": [
       "| Iteration | Passes   | Elapsed Time | Training-max_error | Training-rmse |"
      ]
     },
     "metadata": {},
     "output_type": "display_data"
    },
    {
     "data": {
      "text/html": [
       "<pre>+-----------+----------+--------------+--------------------+---------------+</pre>"
      ],
      "text/plain": [
       "+-----------+----------+--------------+--------------------+---------------+"
      ]
     },
     "metadata": {},
     "output_type": "display_data"
    },
    {
     "data": {
      "text/html": [
       "<pre>| 1         | 2        | 0.013000     | 2191984.901477     | 248699.117253 |</pre>"
      ],
      "text/plain": [
       "| 1         | 2        | 0.013000     | 2191984.901477     | 248699.117253 |"
      ]
     },
     "metadata": {},
     "output_type": "display_data"
    },
    {
     "data": {
      "text/html": [
       "<pre>+-----------+----------+--------------+--------------------+---------------+</pre>"
      ],
      "text/plain": [
       "+-----------+----------+--------------+--------------------+---------------+"
      ]
     },
     "metadata": {},
     "output_type": "display_data"
    },
    {
     "data": {
      "text/html": [
       "<pre>SUCCESS: Optimal solution found.</pre>"
      ],
      "text/plain": [
       "SUCCESS: Optimal solution found."
      ]
     },
     "metadata": {},
     "output_type": "display_data"
    },
    {
     "data": {
      "text/html": [
       "<pre></pre>"
      ],
      "text/plain": []
     },
     "metadata": {},
     "output_type": "display_data"
    }
   ],
   "source": [
    "model1 = graphlab.linear_regression.create(set_1, target = 'price',l2_penalty=l2_small_penalty ,\n",
    "                                          features = my_features, validation_set = None)"
   ]
  },
  {
   "cell_type": "code",
   "execution_count": 96,
   "metadata": {
    "collapsed": false
   },
   "outputs": [
    {
     "data": {
      "text/html": [
       "<pre>Linear regression:</pre>"
      ],
      "text/plain": [
       "Linear regression:"
      ]
     },
     "metadata": {},
     "output_type": "display_data"
    },
    {
     "data": {
      "text/html": [
       "<pre>--------------------------------------------------------</pre>"
      ],
      "text/plain": [
       "--------------------------------------------------------"
      ]
     },
     "metadata": {},
     "output_type": "display_data"
    },
    {
     "data": {
      "text/html": [
       "<pre>Number of examples          : 5398</pre>"
      ],
      "text/plain": [
       "Number of examples          : 5398"
      ]
     },
     "metadata": {},
     "output_type": "display_data"
    },
    {
     "data": {
      "text/html": [
       "<pre>Number of features          : 15</pre>"
      ],
      "text/plain": [
       "Number of features          : 15"
      ]
     },
     "metadata": {},
     "output_type": "display_data"
    },
    {
     "data": {
      "text/html": [
       "<pre>Number of unpacked features : 15</pre>"
      ],
      "text/plain": [
       "Number of unpacked features : 15"
      ]
     },
     "metadata": {},
     "output_type": "display_data"
    },
    {
     "data": {
      "text/html": [
       "<pre>Number of coefficients    : 16</pre>"
      ],
      "text/plain": [
       "Number of coefficients    : 16"
      ]
     },
     "metadata": {},
     "output_type": "display_data"
    },
    {
     "data": {
      "text/html": [
       "<pre>Starting Newton Method</pre>"
      ],
      "text/plain": [
       "Starting Newton Method"
      ]
     },
     "metadata": {},
     "output_type": "display_data"
    },
    {
     "data": {
      "text/html": [
       "<pre>--------------------------------------------------------</pre>"
      ],
      "text/plain": [
       "--------------------------------------------------------"
      ]
     },
     "metadata": {},
     "output_type": "display_data"
    },
    {
     "data": {
      "text/html": [
       "<pre>+-----------+----------+--------------+--------------------+---------------+</pre>"
      ],
      "text/plain": [
       "+-----------+----------+--------------+--------------------+---------------+"
      ]
     },
     "metadata": {},
     "output_type": "display_data"
    },
    {
     "data": {
      "text/html": [
       "<pre>| Iteration | Passes   | Elapsed Time | Training-max_error | Training-rmse |</pre>"
      ],
      "text/plain": [
       "| Iteration | Passes   | Elapsed Time | Training-max_error | Training-rmse |"
      ]
     },
     "metadata": {},
     "output_type": "display_data"
    },
    {
     "data": {
      "text/html": [
       "<pre>+-----------+----------+--------------+--------------------+---------------+</pre>"
      ],
      "text/plain": [
       "+-----------+----------+--------------+--------------------+---------------+"
      ]
     },
     "metadata": {},
     "output_type": "display_data"
    },
    {
     "data": {
      "text/html": [
       "<pre>| 1         | 2        | 0.022002     | 1975178.190939     | 234533.610645 |</pre>"
      ],
      "text/plain": [
       "| 1         | 2        | 0.022002     | 1975178.190939     | 234533.610645 |"
      ]
     },
     "metadata": {},
     "output_type": "display_data"
    },
    {
     "data": {
      "text/html": [
       "<pre>+-----------+----------+--------------+--------------------+---------------+</pre>"
      ],
      "text/plain": [
       "+-----------+----------+--------------+--------------------+---------------+"
      ]
     },
     "metadata": {},
     "output_type": "display_data"
    },
    {
     "data": {
      "text/html": [
       "<pre>SUCCESS: Optimal solution found.</pre>"
      ],
      "text/plain": [
       "SUCCESS: Optimal solution found."
      ]
     },
     "metadata": {},
     "output_type": "display_data"
    },
    {
     "data": {
      "text/html": [
       "<pre></pre>"
      ],
      "text/plain": []
     },
     "metadata": {},
     "output_type": "display_data"
    }
   ],
   "source": [
    "model2 = graphlab.linear_regression.create(set_2, target = 'price',l2_penalty=l2_small_penalty ,\n",
    "                                          features = my_features, validation_set = None)"
   ]
  },
  {
   "cell_type": "code",
   "execution_count": 97,
   "metadata": {
    "collapsed": false
   },
   "outputs": [
    {
     "data": {
      "text/html": [
       "<pre>Linear regression:</pre>"
      ],
      "text/plain": [
       "Linear regression:"
      ]
     },
     "metadata": {},
     "output_type": "display_data"
    },
    {
     "data": {
      "text/html": [
       "<pre>--------------------------------------------------------</pre>"
      ],
      "text/plain": [
       "--------------------------------------------------------"
      ]
     },
     "metadata": {},
     "output_type": "display_data"
    },
    {
     "data": {
      "text/html": [
       "<pre>Number of examples          : 5409</pre>"
      ],
      "text/plain": [
       "Number of examples          : 5409"
      ]
     },
     "metadata": {},
     "output_type": "display_data"
    },
    {
     "data": {
      "text/html": [
       "<pre>Number of features          : 15</pre>"
      ],
      "text/plain": [
       "Number of features          : 15"
      ]
     },
     "metadata": {},
     "output_type": "display_data"
    },
    {
     "data": {
      "text/html": [
       "<pre>Number of unpacked features : 15</pre>"
      ],
      "text/plain": [
       "Number of unpacked features : 15"
      ]
     },
     "metadata": {},
     "output_type": "display_data"
    },
    {
     "data": {
      "text/html": [
       "<pre>Number of coefficients    : 16</pre>"
      ],
      "text/plain": [
       "Number of coefficients    : 16"
      ]
     },
     "metadata": {},
     "output_type": "display_data"
    },
    {
     "data": {
      "text/html": [
       "<pre>Starting Newton Method</pre>"
      ],
      "text/plain": [
       "Starting Newton Method"
      ]
     },
     "metadata": {},
     "output_type": "display_data"
    },
    {
     "data": {
      "text/html": [
       "<pre>--------------------------------------------------------</pre>"
      ],
      "text/plain": [
       "--------------------------------------------------------"
      ]
     },
     "metadata": {},
     "output_type": "display_data"
    },
    {
     "data": {
      "text/html": [
       "<pre>+-----------+----------+--------------+--------------------+---------------+</pre>"
      ],
      "text/plain": [
       "+-----------+----------+--------------+--------------------+---------------+"
      ]
     },
     "metadata": {},
     "output_type": "display_data"
    },
    {
     "data": {
      "text/html": [
       "<pre>| Iteration | Passes   | Elapsed Time | Training-max_error | Training-rmse |</pre>"
      ],
      "text/plain": [
       "| Iteration | Passes   | Elapsed Time | Training-max_error | Training-rmse |"
      ]
     },
     "metadata": {},
     "output_type": "display_data"
    },
    {
     "data": {
      "text/html": [
       "<pre>+-----------+----------+--------------+--------------------+---------------+</pre>"
      ],
      "text/plain": [
       "+-----------+----------+--------------+--------------------+---------------+"
      ]
     },
     "metadata": {},
     "output_type": "display_data"
    },
    {
     "data": {
      "text/html": [
       "<pre>| 1         | 2        | 0.011000     | 2283722.683416     | 251097.728068 |</pre>"
      ],
      "text/plain": [
       "| 1         | 2        | 0.011000     | 2283722.683416     | 251097.728068 |"
      ]
     },
     "metadata": {},
     "output_type": "display_data"
    },
    {
     "data": {
      "text/html": [
       "<pre>+-----------+----------+--------------+--------------------+---------------+</pre>"
      ],
      "text/plain": [
       "+-----------+----------+--------------+--------------------+---------------+"
      ]
     },
     "metadata": {},
     "output_type": "display_data"
    },
    {
     "data": {
      "text/html": [
       "<pre>SUCCESS: Optimal solution found.</pre>"
      ],
      "text/plain": [
       "SUCCESS: Optimal solution found."
      ]
     },
     "metadata": {},
     "output_type": "display_data"
    },
    {
     "data": {
      "text/html": [
       "<pre></pre>"
      ],
      "text/plain": []
     },
     "metadata": {},
     "output_type": "display_data"
    }
   ],
   "source": [
    "model3 = graphlab.linear_regression.create(set_3, target = 'price',l2_penalty=l2_small_penalty ,\n",
    "                                          features = my_features, validation_set = None)"
   ]
  },
  {
   "cell_type": "code",
   "execution_count": 98,
   "metadata": {
    "collapsed": false
   },
   "outputs": [
    {
     "data": {
      "text/html": [
       "<pre>Linear regression:</pre>"
      ],
      "text/plain": [
       "Linear regression:"
      ]
     },
     "metadata": {},
     "output_type": "display_data"
    },
    {
     "data": {
      "text/html": [
       "<pre>--------------------------------------------------------</pre>"
      ],
      "text/plain": [
       "--------------------------------------------------------"
      ]
     },
     "metadata": {},
     "output_type": "display_data"
    },
    {
     "data": {
      "text/html": [
       "<pre>Number of examples          : 5402</pre>"
      ],
      "text/plain": [
       "Number of examples          : 5402"
      ]
     },
     "metadata": {},
     "output_type": "display_data"
    },
    {
     "data": {
      "text/html": [
       "<pre>Number of features          : 15</pre>"
      ],
      "text/plain": [
       "Number of features          : 15"
      ]
     },
     "metadata": {},
     "output_type": "display_data"
    },
    {
     "data": {
      "text/html": [
       "<pre>Number of unpacked features : 15</pre>"
      ],
      "text/plain": [
       "Number of unpacked features : 15"
      ]
     },
     "metadata": {},
     "output_type": "display_data"
    },
    {
     "data": {
      "text/html": [
       "<pre>Number of coefficients    : 16</pre>"
      ],
      "text/plain": [
       "Number of coefficients    : 16"
      ]
     },
     "metadata": {},
     "output_type": "display_data"
    },
    {
     "data": {
      "text/html": [
       "<pre>Starting Newton Method</pre>"
      ],
      "text/plain": [
       "Starting Newton Method"
      ]
     },
     "metadata": {},
     "output_type": "display_data"
    },
    {
     "data": {
      "text/html": [
       "<pre>--------------------------------------------------------</pre>"
      ],
      "text/plain": [
       "--------------------------------------------------------"
      ]
     },
     "metadata": {},
     "output_type": "display_data"
    },
    {
     "data": {
      "text/html": [
       "<pre>+-----------+----------+--------------+--------------------+---------------+</pre>"
      ],
      "text/plain": [
       "+-----------+----------+--------------+--------------------+---------------+"
      ]
     },
     "metadata": {},
     "output_type": "display_data"
    },
    {
     "data": {
      "text/html": [
       "<pre>| Iteration | Passes   | Elapsed Time | Training-max_error | Training-rmse |</pre>"
      ],
      "text/plain": [
       "| Iteration | Passes   | Elapsed Time | Training-max_error | Training-rmse |"
      ]
     },
     "metadata": {},
     "output_type": "display_data"
    },
    {
     "data": {
      "text/html": [
       "<pre>+-----------+----------+--------------+--------------------+---------------+</pre>"
      ],
      "text/plain": [
       "+-----------+----------+--------------+--------------------+---------------+"
      ]
     },
     "metadata": {},
     "output_type": "display_data"
    },
    {
     "data": {
      "text/html": [
       "<pre>| 1         | 2        | 0.012001     | 2378292.371871     | 244341.293202 |</pre>"
      ],
      "text/plain": [
       "| 1         | 2        | 0.012001     | 2378292.371871     | 244341.293202 |"
      ]
     },
     "metadata": {},
     "output_type": "display_data"
    },
    {
     "data": {
      "text/html": [
       "<pre>+-----------+----------+--------------+--------------------+---------------+</pre>"
      ],
      "text/plain": [
       "+-----------+----------+--------------+--------------------+---------------+"
      ]
     },
     "metadata": {},
     "output_type": "display_data"
    },
    {
     "data": {
      "text/html": [
       "<pre>SUCCESS: Optimal solution found.</pre>"
      ],
      "text/plain": [
       "SUCCESS: Optimal solution found."
      ]
     },
     "metadata": {},
     "output_type": "display_data"
    },
    {
     "data": {
      "text/html": [
       "<pre></pre>"
      ],
      "text/plain": []
     },
     "metadata": {},
     "output_type": "display_data"
    }
   ],
   "source": [
    "model4 = graphlab.linear_regression.create(set_4, target = 'price',l2_penalty=l2_small_penalty ,\n",
    "                                          features = my_features, validation_set = None)"
   ]
  },
  {
   "cell_type": "code",
   "execution_count": 99,
   "metadata": {
    "collapsed": false
   },
   "outputs": [
    {
     "name": "stdout",
     "output_type": "stream",
     "text": [
      "1: \n",
      "Learned polynomial for degree 15:\n",
      "            15             14           13             12\n",
      "-2.338e-53 x  + 1.527e-49 x  + 3.8e-45 x  + 2.851e-41 x \n",
      "              11             10             9             8\n",
      " - 1.627e-37 x  - 6.838e-33 x  - 6.928e-29 x + 1.593e-25 x\n",
      "              7             6             5             4             3\n",
      " + 1.069e-20 x + 5.975e-17 x - 3.798e-13 x - 1.529e-08 x + 0.0001415 x\n",
      "           2\n",
      " - 0.3973 x + 585.9 x + 9306\n",
      "2: \n",
      "Learned polynomial for degree 15:\n",
      "           15             14             13             12\n",
      "1.301e-50 x  - 1.004e-46 x  - 1.024e-42 x  - 9.413e-40 x \n",
      "              11             10             9             8\n",
      " + 6.517e-35 x  + 6.218e-31 x  - 2.713e-29 x - 4.597e-23 x\n",
      "              7             6             5             4             3\n",
      " - 2.064e-19 x + 2.512e-15 x + 6.843e-12 x - 1.152e-07 x + 0.0004388 x\n",
      "           2\n",
      " - 0.7678 x + 783.5 x - 2.512e+04\n",
      "3:\n",
      "Learned polynomial for degree 15:\n",
      "            15             14             13             12\n",
      "-2.858e-51 x  + 3.556e-47 x  + 2.426e-43 x  - 1.066e-39 x \n",
      "              11            10             9             8\n",
      " - 2.968e-35 x  - 1.72e-31 x  + 1.243e-27 x + 2.571e-23 x\n",
      "              7             6             5             4             3\n",
      " + 4.088e-20 x - 2.082e-15 x - 2.261e-12 x + 1.154e-07 x - 0.0005283 x\n",
      "          2\n",
      " + 1.029 x - 759.3 x + 4.624e+05\n",
      "model 4:\n",
      "Learned polynomial for degree 15:\n",
      "           15             14             13             12\n",
      "4.395e-50 x  - 6.029e-46 x  - 1.799e-42 x  + 2.334e-38 x \n",
      "              11             10             9             8\n",
      " + 2.399e-34 x  + 1.602e-31 x  - 1.324e-26 x - 7.999e-23 x\n",
      "              7             6             5             4             3\n",
      " + 4.215e-19 x + 4.818e-15 x - 2.202e-11 x - 6.383e-08 x + 0.0005553 x\n",
      "          2\n",
      " - 1.225 x + 1248 x - 1.702e+05\n"
     ]
    }
   ],
   "source": [
    "print '1: '\n",
    "print_coefficients(model1)\n",
    "print '2: '\n",
    "print_coefficients(model2)\n",
    "print '3:'\n",
    "print_coefficients(model3)\n",
    "print 'model 4:'\n",
    "print_coefficients(model4)"
   ]
  },
  {
   "cell_type": "code",
   "execution_count": 100,
   "metadata": {
    "collapsed": false
   },
   "outputs": [
    {
     "data": {
      "text/plain": [
       "dtype: float\n",
       "Rows: 16\n",
       "[9306.466629396542, 585.8658048827302, -0.3973058743145133, 0.00014147088868054648, -1.5294595540374782e-08, -3.79756819868747e-13, 5.974819917519741e-17, 1.0688852381717875e-20, 1.59343780942886e-25, -6.928348813622325e-29, -6.838132840281897e-33, -1.6268619964504166e-37, 2.851186423536743e-41, 3.799982189478228e-45, 1.5265265290746777e-49, -2.3380733440658787e-53]"
      ]
     },
     "execution_count": 100,
     "metadata": {},
     "output_type": "execute_result"
    }
   ],
   "source": [
    "model1.coefficients['value']"
   ]
  },
  {
   "cell_type": "code",
   "execution_count": 101,
   "metadata": {
    "collapsed": false
   },
   "outputs": [
    {
     "name": "stdout",
     "output_type": "stream",
     "text": [
      "1:  585.865804883\n",
      "2:  783.493780749\n",
      "3:  -759.251854206\n",
      "4:  1247.59034807\n"
     ]
    }
   ],
   "source": [
    "print '1: ',model1.coefficients['value'][1]\n",
    "print '2: ',model2.coefficients['value'][1]\n",
    "print '3: ',model3.coefficients['value'][1]\n",
    "print '4: ',model4.coefficients['value'][1]"
   ]
  },
  {
   "cell_type": "markdown",
   "metadata": {},
   "source": [
    "The four curves should differ from one another a lot, as should the coefficients you learned.\n",
    "\n",
    "***QUIZ QUESTION:  For the models learned in each of these training sets, what are the smallest and largest values you learned for the coefficient of feature `power_1`?***  (For the purpose of answering this question, negative numbers are considered \"smaller\" than positive numbers. So -5 is smaller than -3, and -3 is smaller than 5 and so forth.)"
   ]
  },
  {
   "cell_type": "markdown",
   "metadata": {},
   "source": [
    "# Ridge regression comes to rescue"
   ]
  },
  {
   "cell_type": "markdown",
   "metadata": {},
   "source": [
    "Generally, whenever we see weights change so much in response to change in data, we believe the variance of our estimate to be large. Ridge regression aims to address this issue by penalizing \"large\" weights. (Weights of `model15` looked quite small, but they are not that small because 'sqft_living' input is in the order of thousands.)\n",
    "\n",
    "With the argument `l2_penalty=1e5`, fit a 15th-order polynomial model on `set_1`, `set_2`, `set_3`, and `set_4`. Other than the change in the `l2_penalty` parameter, the code should be the same as the experiment above. Also, make sure GraphLab Create doesn't create its own validation set by using the option `validation_set = None` in this call."
   ]
  },
  {
   "cell_type": "code",
   "execution_count": 102,
   "metadata": {
    "collapsed": false
   },
   "outputs": [
    {
     "data": {
      "text/html": [
       "<pre>Linear regression:</pre>"
      ],
      "text/plain": [
       "Linear regression:"
      ]
     },
     "metadata": {},
     "output_type": "display_data"
    },
    {
     "data": {
      "text/html": [
       "<pre>--------------------------------------------------------</pre>"
      ],
      "text/plain": [
       "--------------------------------------------------------"
      ]
     },
     "metadata": {},
     "output_type": "display_data"
    },
    {
     "data": {
      "text/html": [
       "<pre>Number of examples          : 5404</pre>"
      ],
      "text/plain": [
       "Number of examples          : 5404"
      ]
     },
     "metadata": {},
     "output_type": "display_data"
    },
    {
     "data": {
      "text/html": [
       "<pre>Number of features          : 15</pre>"
      ],
      "text/plain": [
       "Number of features          : 15"
      ]
     },
     "metadata": {},
     "output_type": "display_data"
    },
    {
     "data": {
      "text/html": [
       "<pre>Number of unpacked features : 15</pre>"
      ],
      "text/plain": [
       "Number of unpacked features : 15"
      ]
     },
     "metadata": {},
     "output_type": "display_data"
    },
    {
     "data": {
      "text/html": [
       "<pre>Number of coefficients    : 16</pre>"
      ],
      "text/plain": [
       "Number of coefficients    : 16"
      ]
     },
     "metadata": {},
     "output_type": "display_data"
    },
    {
     "data": {
      "text/html": [
       "<pre>Starting Newton Method</pre>"
      ],
      "text/plain": [
       "Starting Newton Method"
      ]
     },
     "metadata": {},
     "output_type": "display_data"
    },
    {
     "data": {
      "text/html": [
       "<pre>--------------------------------------------------------</pre>"
      ],
      "text/plain": [
       "--------------------------------------------------------"
      ]
     },
     "metadata": {},
     "output_type": "display_data"
    },
    {
     "data": {
      "text/html": [
       "<pre>+-----------+----------+--------------+--------------------+---------------+</pre>"
      ],
      "text/plain": [
       "+-----------+----------+--------------+--------------------+---------------+"
      ]
     },
     "metadata": {},
     "output_type": "display_data"
    },
    {
     "data": {
      "text/html": [
       "<pre>| Iteration | Passes   | Elapsed Time | Training-max_error | Training-rmse |</pre>"
      ],
      "text/plain": [
       "| Iteration | Passes   | Elapsed Time | Training-max_error | Training-rmse |"
      ]
     },
     "metadata": {},
     "output_type": "display_data"
    },
    {
     "data": {
      "text/html": [
       "<pre>+-----------+----------+--------------+--------------------+---------------+</pre>"
      ],
      "text/plain": [
       "+-----------+----------+--------------+--------------------+---------------+"
      ]
     },
     "metadata": {},
     "output_type": "display_data"
    },
    {
     "data": {
      "text/html": [
       "<pre>| 1         | 2        | 0.012001     | 5978778.434729     | 374261.720860 |</pre>"
      ],
      "text/plain": [
       "| 1         | 2        | 0.012001     | 5978778.434729     | 374261.720860 |"
      ]
     },
     "metadata": {},
     "output_type": "display_data"
    },
    {
     "data": {
      "text/html": [
       "<pre>+-----------+----------+--------------+--------------------+---------------+</pre>"
      ],
      "text/plain": [
       "+-----------+----------+--------------+--------------------+---------------+"
      ]
     },
     "metadata": {},
     "output_type": "display_data"
    },
    {
     "data": {
      "text/html": [
       "<pre>SUCCESS: Optimal solution found.</pre>"
      ],
      "text/plain": [
       "SUCCESS: Optimal solution found."
      ]
     },
     "metadata": {},
     "output_type": "display_data"
    },
    {
     "data": {
      "text/html": [
       "<pre></pre>"
      ],
      "text/plain": []
     },
     "metadata": {},
     "output_type": "display_data"
    }
   ],
   "source": [
    "model1 = graphlab.linear_regression.create(set_1, target = 'price',l2_penalty=1e5 ,\n",
    "                                          features = my_features, validation_set = None)"
   ]
  },
  {
   "cell_type": "code",
   "execution_count": 103,
   "metadata": {
    "collapsed": false
   },
   "outputs": [
    {
     "data": {
      "text/html": [
       "<pre>Linear regression:</pre>"
      ],
      "text/plain": [
       "Linear regression:"
      ]
     },
     "metadata": {},
     "output_type": "display_data"
    },
    {
     "data": {
      "text/html": [
       "<pre>--------------------------------------------------------</pre>"
      ],
      "text/plain": [
       "--------------------------------------------------------"
      ]
     },
     "metadata": {},
     "output_type": "display_data"
    },
    {
     "data": {
      "text/html": [
       "<pre>Number of examples          : 5398</pre>"
      ],
      "text/plain": [
       "Number of examples          : 5398"
      ]
     },
     "metadata": {},
     "output_type": "display_data"
    },
    {
     "data": {
      "text/html": [
       "<pre>Number of features          : 15</pre>"
      ],
      "text/plain": [
       "Number of features          : 15"
      ]
     },
     "metadata": {},
     "output_type": "display_data"
    },
    {
     "data": {
      "text/html": [
       "<pre>Number of unpacked features : 15</pre>"
      ],
      "text/plain": [
       "Number of unpacked features : 15"
      ]
     },
     "metadata": {},
     "output_type": "display_data"
    },
    {
     "data": {
      "text/html": [
       "<pre>Number of coefficients    : 16</pre>"
      ],
      "text/plain": [
       "Number of coefficients    : 16"
      ]
     },
     "metadata": {},
     "output_type": "display_data"
    },
    {
     "data": {
      "text/html": [
       "<pre>Starting Newton Method</pre>"
      ],
      "text/plain": [
       "Starting Newton Method"
      ]
     },
     "metadata": {},
     "output_type": "display_data"
    },
    {
     "data": {
      "text/html": [
       "<pre>--------------------------------------------------------</pre>"
      ],
      "text/plain": [
       "--------------------------------------------------------"
      ]
     },
     "metadata": {},
     "output_type": "display_data"
    },
    {
     "data": {
      "text/html": [
       "<pre>+-----------+----------+--------------+--------------------+---------------+</pre>"
      ],
      "text/plain": [
       "+-----------+----------+--------------+--------------------+---------------+"
      ]
     },
     "metadata": {},
     "output_type": "display_data"
    },
    {
     "data": {
      "text/html": [
       "<pre>| Iteration | Passes   | Elapsed Time | Training-max_error | Training-rmse |</pre>"
      ],
      "text/plain": [
       "| Iteration | Passes   | Elapsed Time | Training-max_error | Training-rmse |"
      ]
     },
     "metadata": {},
     "output_type": "display_data"
    },
    {
     "data": {
      "text/html": [
       "<pre>+-----------+----------+--------------+--------------------+---------------+</pre>"
      ],
      "text/plain": [
       "+-----------+----------+--------------+--------------------+---------------+"
      ]
     },
     "metadata": {},
     "output_type": "display_data"
    },
    {
     "data": {
      "text/html": [
       "<pre>| 1         | 2        | 0.011000     | 2984894.541944     | 323238.809634 |</pre>"
      ],
      "text/plain": [
       "| 1         | 2        | 0.011000     | 2984894.541944     | 323238.809634 |"
      ]
     },
     "metadata": {},
     "output_type": "display_data"
    },
    {
     "data": {
      "text/html": [
       "<pre>+-----------+----------+--------------+--------------------+---------------+</pre>"
      ],
      "text/plain": [
       "+-----------+----------+--------------+--------------------+---------------+"
      ]
     },
     "metadata": {},
     "output_type": "display_data"
    },
    {
     "data": {
      "text/html": [
       "<pre>SUCCESS: Optimal solution found.</pre>"
      ],
      "text/plain": [
       "SUCCESS: Optimal solution found."
      ]
     },
     "metadata": {},
     "output_type": "display_data"
    },
    {
     "data": {
      "text/html": [
       "<pre></pre>"
      ],
      "text/plain": []
     },
     "metadata": {},
     "output_type": "display_data"
    }
   ],
   "source": [
    "model2 = graphlab.linear_regression.create(set_2, target = 'price',l2_penalty=1e5 ,\n",
    "                                          features = my_features, validation_set = None)"
   ]
  },
  {
   "cell_type": "code",
   "execution_count": 104,
   "metadata": {
    "collapsed": false
   },
   "outputs": [
    {
     "data": {
      "text/html": [
       "<pre>Linear regression:</pre>"
      ],
      "text/plain": [
       "Linear regression:"
      ]
     },
     "metadata": {},
     "output_type": "display_data"
    },
    {
     "data": {
      "text/html": [
       "<pre>--------------------------------------------------------</pre>"
      ],
      "text/plain": [
       "--------------------------------------------------------"
      ]
     },
     "metadata": {},
     "output_type": "display_data"
    },
    {
     "data": {
      "text/html": [
       "<pre>Number of examples          : 5409</pre>"
      ],
      "text/plain": [
       "Number of examples          : 5409"
      ]
     },
     "metadata": {},
     "output_type": "display_data"
    },
    {
     "data": {
      "text/html": [
       "<pre>Number of features          : 15</pre>"
      ],
      "text/plain": [
       "Number of features          : 15"
      ]
     },
     "metadata": {},
     "output_type": "display_data"
    },
    {
     "data": {
      "text/html": [
       "<pre>Number of unpacked features : 15</pre>"
      ],
      "text/plain": [
       "Number of unpacked features : 15"
      ]
     },
     "metadata": {},
     "output_type": "display_data"
    },
    {
     "data": {
      "text/html": [
       "<pre>Number of coefficients    : 16</pre>"
      ],
      "text/plain": [
       "Number of coefficients    : 16"
      ]
     },
     "metadata": {},
     "output_type": "display_data"
    },
    {
     "data": {
      "text/html": [
       "<pre>Starting Newton Method</pre>"
      ],
      "text/plain": [
       "Starting Newton Method"
      ]
     },
     "metadata": {},
     "output_type": "display_data"
    },
    {
     "data": {
      "text/html": [
       "<pre>--------------------------------------------------------</pre>"
      ],
      "text/plain": [
       "--------------------------------------------------------"
      ]
     },
     "metadata": {},
     "output_type": "display_data"
    },
    {
     "data": {
      "text/html": [
       "<pre>+-----------+----------+--------------+--------------------+---------------+</pre>"
      ],
      "text/plain": [
       "+-----------+----------+--------------+--------------------+---------------+"
      ]
     },
     "metadata": {},
     "output_type": "display_data"
    },
    {
     "data": {
      "text/html": [
       "<pre>| Iteration | Passes   | Elapsed Time | Training-max_error | Training-rmse |</pre>"
      ],
      "text/plain": [
       "| Iteration | Passes   | Elapsed Time | Training-max_error | Training-rmse |"
      ]
     },
     "metadata": {},
     "output_type": "display_data"
    },
    {
     "data": {
      "text/html": [
       "<pre>+-----------+----------+--------------+--------------------+---------------+</pre>"
      ],
      "text/plain": [
       "+-----------+----------+--------------+--------------------+---------------+"
      ]
     },
     "metadata": {},
     "output_type": "display_data"
    },
    {
     "data": {
      "text/html": [
       "<pre>| 1         | 2        | 0.011001     | 3695342.767093     | 350033.521294 |</pre>"
      ],
      "text/plain": [
       "| 1         | 2        | 0.011001     | 3695342.767093     | 350033.521294 |"
      ]
     },
     "metadata": {},
     "output_type": "display_data"
    },
    {
     "data": {
      "text/html": [
       "<pre>+-----------+----------+--------------+--------------------+---------------+</pre>"
      ],
      "text/plain": [
       "+-----------+----------+--------------+--------------------+---------------+"
      ]
     },
     "metadata": {},
     "output_type": "display_data"
    },
    {
     "data": {
      "text/html": [
       "<pre>SUCCESS: Optimal solution found.</pre>"
      ],
      "text/plain": [
       "SUCCESS: Optimal solution found."
      ]
     },
     "metadata": {},
     "output_type": "display_data"
    },
    {
     "data": {
      "text/html": [
       "<pre></pre>"
      ],
      "text/plain": []
     },
     "metadata": {},
     "output_type": "display_data"
    }
   ],
   "source": [
    "model3 = graphlab.linear_regression.create(set_3, target = 'price',l2_penalty=1e5 ,\n",
    "                                          features = my_features, validation_set = None)"
   ]
  },
  {
   "cell_type": "code",
   "execution_count": 105,
   "metadata": {
    "collapsed": false
   },
   "outputs": [
    {
     "data": {
      "text/html": [
       "<pre>Linear regression:</pre>"
      ],
      "text/plain": [
       "Linear regression:"
      ]
     },
     "metadata": {},
     "output_type": "display_data"
    },
    {
     "data": {
      "text/html": [
       "<pre>--------------------------------------------------------</pre>"
      ],
      "text/plain": [
       "--------------------------------------------------------"
      ]
     },
     "metadata": {},
     "output_type": "display_data"
    },
    {
     "data": {
      "text/html": [
       "<pre>Number of examples          : 5402</pre>"
      ],
      "text/plain": [
       "Number of examples          : 5402"
      ]
     },
     "metadata": {},
     "output_type": "display_data"
    },
    {
     "data": {
      "text/html": [
       "<pre>Number of features          : 15</pre>"
      ],
      "text/plain": [
       "Number of features          : 15"
      ]
     },
     "metadata": {},
     "output_type": "display_data"
    },
    {
     "data": {
      "text/html": [
       "<pre>Number of unpacked features : 15</pre>"
      ],
      "text/plain": [
       "Number of unpacked features : 15"
      ]
     },
     "metadata": {},
     "output_type": "display_data"
    },
    {
     "data": {
      "text/html": [
       "<pre>Number of coefficients    : 16</pre>"
      ],
      "text/plain": [
       "Number of coefficients    : 16"
      ]
     },
     "metadata": {},
     "output_type": "display_data"
    },
    {
     "data": {
      "text/html": [
       "<pre>Starting Newton Method</pre>"
      ],
      "text/plain": [
       "Starting Newton Method"
      ]
     },
     "metadata": {},
     "output_type": "display_data"
    },
    {
     "data": {
      "text/html": [
       "<pre>--------------------------------------------------------</pre>"
      ],
      "text/plain": [
       "--------------------------------------------------------"
      ]
     },
     "metadata": {},
     "output_type": "display_data"
    },
    {
     "data": {
      "text/html": [
       "<pre>+-----------+----------+--------------+--------------------+---------------+</pre>"
      ],
      "text/plain": [
       "+-----------+----------+--------------+--------------------+---------------+"
      ]
     },
     "metadata": {},
     "output_type": "display_data"
    },
    {
     "data": {
      "text/html": [
       "<pre>| Iteration | Passes   | Elapsed Time | Training-max_error | Training-rmse |</pre>"
      ],
      "text/plain": [
       "| Iteration | Passes   | Elapsed Time | Training-max_error | Training-rmse |"
      ]
     },
     "metadata": {},
     "output_type": "display_data"
    },
    {
     "data": {
      "text/html": [
       "<pre>+-----------+----------+--------------+--------------------+---------------+</pre>"
      ],
      "text/plain": [
       "+-----------+----------+--------------+--------------------+---------------+"
      ]
     },
     "metadata": {},
     "output_type": "display_data"
    },
    {
     "data": {
      "text/html": [
       "<pre>| 1         | 2        | 0.020001     | 3601895.280124     | 323111.582889 |</pre>"
      ],
      "text/plain": [
       "| 1         | 2        | 0.020001     | 3601895.280124     | 323111.582889 |"
      ]
     },
     "metadata": {},
     "output_type": "display_data"
    },
    {
     "data": {
      "text/html": [
       "<pre>+-----------+----------+--------------+--------------------+---------------+</pre>"
      ],
      "text/plain": [
       "+-----------+----------+--------------+--------------------+---------------+"
      ]
     },
     "metadata": {},
     "output_type": "display_data"
    },
    {
     "data": {
      "text/html": [
       "<pre>SUCCESS: Optimal solution found.</pre>"
      ],
      "text/plain": [
       "SUCCESS: Optimal solution found."
      ]
     },
     "metadata": {},
     "output_type": "display_data"
    },
    {
     "data": {
      "text/html": [
       "<pre></pre>"
      ],
      "text/plain": []
     },
     "metadata": {},
     "output_type": "display_data"
    }
   ],
   "source": [
    "model4 = graphlab.linear_regression.create(set_4, target = 'price',l2_penalty=1e5 ,\n",
    "                                          features = my_features, validation_set = None)"
   ]
  },
  {
   "cell_type": "code",
   "execution_count": null,
   "metadata": {
    "collapsed": false
   },
   "outputs": [],
   "source": []
  },
  {
   "cell_type": "code",
   "execution_count": 106,
   "metadata": {
    "collapsed": false
   },
   "outputs": [
    {
     "name": "stdout",
     "output_type": "stream",
     "text": [
      "1:  2.58738875673\n",
      "2:  2.04470474182\n",
      "3:  2.26890421877\n",
      "4:  1.91040938244\n"
     ]
    }
   ],
   "source": [
    "print '1: ',model1.coefficients['value'][1]\n",
    "print '2: ',model2.coefficients['value'][1]\n",
    "print '3: ',model3.coefficients['value'][1]\n",
    "print '4: ',model4.coefficients['value'][1]"
   ]
  },
  {
   "cell_type": "markdown",
   "metadata": {},
   "source": [
    "These curves should vary a lot less, now that you applied a high degree of regularization.\n",
    "\n",
    "***QUIZ QUESTION:  For the models learned with the high level of regularization in each of these training sets, what are the smallest and largest values you learned for the coefficient of feature `power_1`?*** (For the purpose of answering this question, negative numbers are considered \"smaller\" than positive numbers. So -5 is smaller than -3, and -3 is smaller than 5 and so forth.)"
   ]
  },
  {
   "cell_type": "markdown",
   "metadata": {},
   "source": [
    "# Selecting an L2 penalty via cross-validation"
   ]
  },
  {
   "cell_type": "markdown",
   "metadata": {},
   "source": [
    "Just like the polynomial degree, the L2 penalty is a \"magic\" parameter we need to select. We could use the validation set approach as we did in the last module, but that approach has a major disadvantage: it leaves fewer observations available for training. **Cross-validation** seeks to overcome this issue by using all of the training set in a smart way.\n",
    "\n",
    "We will implement a kind of cross-validation called **k-fold cross-validation**. The method gets its name because it involves dividing the training set into k segments of roughtly equal size. Similar to the validation set method, we measure the validation error with one of the segments designated as the validation set. The major difference is that we repeat the process k times as follows:\n",
    "\n",
    "Set aside segment 0 as the validation set, and fit a model on rest of data, and evalutate it on this validation set<br>\n",
    "Set aside segment 1 as the validation set, and fit a model on rest of data, and evalutate it on this validation set<br>\n",
    "...<br>\n",
    "Set aside segment k-1 as the validation set, and fit a model on rest of data, and evalutate it on this validation set\n",
    "\n",
    "After this process, we compute the average of the k validation errors, and use it as an estimate of the generalization error. Notice that  all observations are used for both training and validation, as we iterate over segments of data. \n",
    "\n",
    "To estimate the generalization error well, it is crucial to shuffle the training data before dividing them into segments. GraphLab Create has a utility function for shuffling a given SFrame. We reserve 10% of the data as the test set and shuffle the remainder. (Make sure to use `seed=1` to get consistent answer.)"
   ]
  },
  {
   "cell_type": "markdown",
   "metadata": {},
   "source": [
    "#my_features = poly15_data.column_names()"
   ]
  },
  {
   "cell_type": "markdown",
   "metadata": {},
   "source": [
    "sales = sales.sort(['sqft_living','price'])\n",
    "poly15_data = polynomial_sframe(sales['sqft_living'], 15)\n",
    "my_features = poly15_data.column_names()\n",
    "poly15_data['price'] = sales['price']"
   ]
  },
  {
   "cell_type": "code",
   "execution_count": 422,
   "metadata": {
    "collapsed": true
   },
   "outputs": [],
   "source": [
    "(train_valid, test) = sales.random_split(.9, seed=1)\n",
    "train_valid_shuffled = graphlab.toolkits.cross_validation.shuffle(train_valid, random_seed=1)"
   ]
  },
  {
   "cell_type": "markdown",
   "metadata": {},
   "source": [
    "Once the data is shuffled, we divide it into equal segments. Each segment should receive `n/k` elements, where `n` is the number of observations in the training set and `k` is the number of segments. Since the segment 0 starts at index 0 and contains `n/k` elements, it ends at index `(n/k)-1`. The segment 1 starts where the segment 0 left off, at index `(n/k)`. With `n/k` elements, the segment 1 ends at index `(n*2/k)-1`. Continuing in this fashion, we deduce that the segment `i` starts at index `(n*i/k)` and ends at `(n*(i+1)/k)-1`."
   ]
  },
  {
   "cell_type": "markdown",
   "metadata": {},
   "source": [
    "With this pattern in mind, we write a short loop that prints the starting and ending indices of each segment, just to make sure you are getting the splits right."
   ]
  },
  {
   "cell_type": "code",
   "execution_count": 361,
   "metadata": {
    "collapsed": false
   },
   "outputs": [
    {
     "name": "stdout",
     "output_type": "stream",
     "text": [
      "19396\n",
      "21613\n",
      "2217\n",
      "1939\n",
      "0 (0, 1938)   1938\n",
      "1 (1939, 3878)   1939\n",
      "2 (3879, 5817)   1938\n",
      "3 (5818, 7757)   1939\n",
      "4 (7758, 9697)   1939\n",
      "5 (9698, 11636)   1938\n",
      "6 (11637, 13576)   1939\n",
      "7 (13577, 15515)   1938\n",
      "8 (15516, 17455)   1939\n",
      "9 (17456, 19395)   1939\n"
     ]
    }
   ],
   "source": [
    "n = len(train_valid_shuffled)\n",
    "k = 10 # 10-fold cross-validation\n",
    "print n\n",
    "print len(sales)\n",
    "print len(sales)-n\n",
    "print n/k\n",
    "for i in xrange(k):\n",
    "    start = (n*i)//k\n",
    "    end = (n*(i+1))//k-1\n",
    "    print i, (start, end) ,' ' ,end-start"
   ]
  },
  {
   "cell_type": "markdown",
   "metadata": {
    "collapsed": false
   },
   "source": [
    "Let us familiarize ourselves with array slicing with SFrame. To extract a continuous slice from an SFrame, use colon in square brackets. For instance, the following cell extracts rows 0 to 9 of `train_valid_shuffled`. Notice that the first index (0) is included in the slice but the last index (10) is omitted."
   ]
  },
  {
   "cell_type": "code",
   "execution_count": 338,
   "metadata": {
    "collapsed": true
   },
   "outputs": [
    {
     "data": {
      "text/html": [
       "<div style=\"max-height:1000px;max-width:1500px;overflow:auto;\"><table frame=\"box\" rules=\"cols\">\n",
       "    <tr>\n",
       "        <th style=\"padding-left: 1em; padding-right: 1em; text-align: center\">id</th>\n",
       "        <th style=\"padding-left: 1em; padding-right: 1em; text-align: center\">price</th>\n",
       "        <th style=\"padding-left: 1em; padding-right: 1em; text-align: center\">bedrooms</th>\n",
       "        <th style=\"padding-left: 1em; padding-right: 1em; text-align: center\">bathrooms</th>\n",
       "        <th style=\"padding-left: 1em; padding-right: 1em; text-align: center\">sqft_living</th>\n",
       "        <th style=\"padding-left: 1em; padding-right: 1em; text-align: center\">sqft_lot</th>\n",
       "        <th style=\"padding-left: 1em; padding-right: 1em; text-align: center\">floors</th>\n",
       "        <th style=\"padding-left: 1em; padding-right: 1em; text-align: center\">waterfront</th>\n",
       "        <th style=\"padding-left: 1em; padding-right: 1em; text-align: center\">view</th>\n",
       "        <th style=\"padding-left: 1em; padding-right: 1em; text-align: center\">condition</th>\n",
       "        <th style=\"padding-left: 1em; padding-right: 1em; text-align: center\">grade</th>\n",
       "    </tr>\n",
       "    <tr>\n",
       "        <td style=\"padding-left: 1em; padding-right: 1em; text-align: center; vertical-align: top\">2780400035</td>\n",
       "        <td style=\"padding-left: 1em; padding-right: 1em; text-align: center; vertical-align: top\">665000.0</td>\n",
       "        <td style=\"padding-left: 1em; padding-right: 1em; text-align: center; vertical-align: top\">4.0</td>\n",
       "        <td style=\"padding-left: 1em; padding-right: 1em; text-align: center; vertical-align: top\">2.5</td>\n",
       "        <td style=\"padding-left: 1em; padding-right: 1em; text-align: center; vertical-align: top\">2800.0</td>\n",
       "        <td style=\"padding-left: 1em; padding-right: 1em; text-align: center; vertical-align: top\">5900</td>\n",
       "        <td style=\"padding-left: 1em; padding-right: 1em; text-align: center; vertical-align: top\">1</td>\n",
       "        <td style=\"padding-left: 1em; padding-right: 1em; text-align: center; vertical-align: top\">0</td>\n",
       "        <td style=\"padding-left: 1em; padding-right: 1em; text-align: center; vertical-align: top\">0</td>\n",
       "        <td style=\"padding-left: 1em; padding-right: 1em; text-align: center; vertical-align: top\">3</td>\n",
       "        <td style=\"padding-left: 1em; padding-right: 1em; text-align: center; vertical-align: top\">8</td>\n",
       "    </tr>\n",
       "    <tr>\n",
       "        <td style=\"padding-left: 1em; padding-right: 1em; text-align: center; vertical-align: top\">1703050500</td>\n",
       "        <td style=\"padding-left: 1em; padding-right: 1em; text-align: center; vertical-align: top\">645000.0</td>\n",
       "        <td style=\"padding-left: 1em; padding-right: 1em; text-align: center; vertical-align: top\">3.0</td>\n",
       "        <td style=\"padding-left: 1em; padding-right: 1em; text-align: center; vertical-align: top\">2.5</td>\n",
       "        <td style=\"padding-left: 1em; padding-right: 1em; text-align: center; vertical-align: top\">2490.0</td>\n",
       "        <td style=\"padding-left: 1em; padding-right: 1em; text-align: center; vertical-align: top\">5978</td>\n",
       "        <td style=\"padding-left: 1em; padding-right: 1em; text-align: center; vertical-align: top\">2</td>\n",
       "        <td style=\"padding-left: 1em; padding-right: 1em; text-align: center; vertical-align: top\">0</td>\n",
       "        <td style=\"padding-left: 1em; padding-right: 1em; text-align: center; vertical-align: top\">0</td>\n",
       "        <td style=\"padding-left: 1em; padding-right: 1em; text-align: center; vertical-align: top\">3</td>\n",
       "        <td style=\"padding-left: 1em; padding-right: 1em; text-align: center; vertical-align: top\">9</td>\n",
       "    </tr>\n",
       "    <tr>\n",
       "        <td style=\"padding-left: 1em; padding-right: 1em; text-align: center; vertical-align: top\">5700002325</td>\n",
       "        <td style=\"padding-left: 1em; padding-right: 1em; text-align: center; vertical-align: top\">640000.0</td>\n",
       "        <td style=\"padding-left: 1em; padding-right: 1em; text-align: center; vertical-align: top\">3.0</td>\n",
       "        <td style=\"padding-left: 1em; padding-right: 1em; text-align: center; vertical-align: top\">1.75</td>\n",
       "        <td style=\"padding-left: 1em; padding-right: 1em; text-align: center; vertical-align: top\">2340.0</td>\n",
       "        <td style=\"padding-left: 1em; padding-right: 1em; text-align: center; vertical-align: top\">4206</td>\n",
       "        <td style=\"padding-left: 1em; padding-right: 1em; text-align: center; vertical-align: top\">1</td>\n",
       "        <td style=\"padding-left: 1em; padding-right: 1em; text-align: center; vertical-align: top\">0</td>\n",
       "        <td style=\"padding-left: 1em; padding-right: 1em; text-align: center; vertical-align: top\">0</td>\n",
       "        <td style=\"padding-left: 1em; padding-right: 1em; text-align: center; vertical-align: top\">5</td>\n",
       "        <td style=\"padding-left: 1em; padding-right: 1em; text-align: center; vertical-align: top\">7</td>\n",
       "    </tr>\n",
       "    <tr>\n",
       "        <td style=\"padding-left: 1em; padding-right: 1em; text-align: center; vertical-align: top\">0475000510</td>\n",
       "        <td style=\"padding-left: 1em; padding-right: 1em; text-align: center; vertical-align: top\">594000.0</td>\n",
       "        <td style=\"padding-left: 1em; padding-right: 1em; text-align: center; vertical-align: top\">3.0</td>\n",
       "        <td style=\"padding-left: 1em; padding-right: 1em; text-align: center; vertical-align: top\">1.0</td>\n",
       "        <td style=\"padding-left: 1em; padding-right: 1em; text-align: center; vertical-align: top\">1320.0</td>\n",
       "        <td style=\"padding-left: 1em; padding-right: 1em; text-align: center; vertical-align: top\">5000</td>\n",
       "        <td style=\"padding-left: 1em; padding-right: 1em; text-align: center; vertical-align: top\">1</td>\n",
       "        <td style=\"padding-left: 1em; padding-right: 1em; text-align: center; vertical-align: top\">0</td>\n",
       "        <td style=\"padding-left: 1em; padding-right: 1em; text-align: center; vertical-align: top\">0</td>\n",
       "        <td style=\"padding-left: 1em; padding-right: 1em; text-align: center; vertical-align: top\">4</td>\n",
       "        <td style=\"padding-left: 1em; padding-right: 1em; text-align: center; vertical-align: top\">7</td>\n",
       "    </tr>\n",
       "    <tr>\n",
       "        <td style=\"padding-left: 1em; padding-right: 1em; text-align: center; vertical-align: top\">0844001052</td>\n",
       "        <td style=\"padding-left: 1em; padding-right: 1em; text-align: center; vertical-align: top\">365000.0</td>\n",
       "        <td style=\"padding-left: 1em; padding-right: 1em; text-align: center; vertical-align: top\">4.0</td>\n",
       "        <td style=\"padding-left: 1em; padding-right: 1em; text-align: center; vertical-align: top\">2.5</td>\n",
       "        <td style=\"padding-left: 1em; padding-right: 1em; text-align: center; vertical-align: top\">1904.0</td>\n",
       "        <td style=\"padding-left: 1em; padding-right: 1em; text-align: center; vertical-align: top\">8200</td>\n",
       "        <td style=\"padding-left: 1em; padding-right: 1em; text-align: center; vertical-align: top\">2</td>\n",
       "        <td style=\"padding-left: 1em; padding-right: 1em; text-align: center; vertical-align: top\">0</td>\n",
       "        <td style=\"padding-left: 1em; padding-right: 1em; text-align: center; vertical-align: top\">0</td>\n",
       "        <td style=\"padding-left: 1em; padding-right: 1em; text-align: center; vertical-align: top\">5</td>\n",
       "        <td style=\"padding-left: 1em; padding-right: 1em; text-align: center; vertical-align: top\">7</td>\n",
       "    </tr>\n",
       "    <tr>\n",
       "        <td style=\"padding-left: 1em; padding-right: 1em; text-align: center; vertical-align: top\">2781280290</td>\n",
       "        <td style=\"padding-left: 1em; padding-right: 1em; text-align: center; vertical-align: top\">305000.0</td>\n",
       "        <td style=\"padding-left: 1em; padding-right: 1em; text-align: center; vertical-align: top\">3.0</td>\n",
       "        <td style=\"padding-left: 1em; padding-right: 1em; text-align: center; vertical-align: top\">2.5</td>\n",
       "        <td style=\"padding-left: 1em; padding-right: 1em; text-align: center; vertical-align: top\">1610.0</td>\n",
       "        <td style=\"padding-left: 1em; padding-right: 1em; text-align: center; vertical-align: top\">3516</td>\n",
       "        <td style=\"padding-left: 1em; padding-right: 1em; text-align: center; vertical-align: top\">2</td>\n",
       "        <td style=\"padding-left: 1em; padding-right: 1em; text-align: center; vertical-align: top\">0</td>\n",
       "        <td style=\"padding-left: 1em; padding-right: 1em; text-align: center; vertical-align: top\">0</td>\n",
       "        <td style=\"padding-left: 1em; padding-right: 1em; text-align: center; vertical-align: top\">3</td>\n",
       "        <td style=\"padding-left: 1em; padding-right: 1em; text-align: center; vertical-align: top\">8</td>\n",
       "    </tr>\n",
       "    <tr>\n",
       "        <td style=\"padding-left: 1em; padding-right: 1em; text-align: center; vertical-align: top\">2214800630</td>\n",
       "        <td style=\"padding-left: 1em; padding-right: 1em; text-align: center; vertical-align: top\">239950.0</td>\n",
       "        <td style=\"padding-left: 1em; padding-right: 1em; text-align: center; vertical-align: top\">3.0</td>\n",
       "        <td style=\"padding-left: 1em; padding-right: 1em; text-align: center; vertical-align: top\">2.25</td>\n",
       "        <td style=\"padding-left: 1em; padding-right: 1em; text-align: center; vertical-align: top\">1560.0</td>\n",
       "        <td style=\"padding-left: 1em; padding-right: 1em; text-align: center; vertical-align: top\">8280</td>\n",
       "        <td style=\"padding-left: 1em; padding-right: 1em; text-align: center; vertical-align: top\">2</td>\n",
       "        <td style=\"padding-left: 1em; padding-right: 1em; text-align: center; vertical-align: top\">0</td>\n",
       "        <td style=\"padding-left: 1em; padding-right: 1em; text-align: center; vertical-align: top\">0</td>\n",
       "        <td style=\"padding-left: 1em; padding-right: 1em; text-align: center; vertical-align: top\">4</td>\n",
       "        <td style=\"padding-left: 1em; padding-right: 1em; text-align: center; vertical-align: top\">7</td>\n",
       "    </tr>\n",
       "    <tr>\n",
       "        <td style=\"padding-left: 1em; padding-right: 1em; text-align: center; vertical-align: top\">2114700540</td>\n",
       "        <td style=\"padding-left: 1em; padding-right: 1em; text-align: center; vertical-align: top\">366000.0</td>\n",
       "        <td style=\"padding-left: 1em; padding-right: 1em; text-align: center; vertical-align: top\">3.0</td>\n",
       "        <td style=\"padding-left: 1em; padding-right: 1em; text-align: center; vertical-align: top\">2.5</td>\n",
       "        <td style=\"padding-left: 1em; padding-right: 1em; text-align: center; vertical-align: top\">1320.0</td>\n",
       "        <td style=\"padding-left: 1em; padding-right: 1em; text-align: center; vertical-align: top\">4320</td>\n",
       "        <td style=\"padding-left: 1em; padding-right: 1em; text-align: center; vertical-align: top\">1</td>\n",
       "        <td style=\"padding-left: 1em; padding-right: 1em; text-align: center; vertical-align: top\">0</td>\n",
       "        <td style=\"padding-left: 1em; padding-right: 1em; text-align: center; vertical-align: top\">0</td>\n",
       "        <td style=\"padding-left: 1em; padding-right: 1em; text-align: center; vertical-align: top\">3</td>\n",
       "        <td style=\"padding-left: 1em; padding-right: 1em; text-align: center; vertical-align: top\">6</td>\n",
       "    </tr>\n",
       "    <tr>\n",
       "        <td style=\"padding-left: 1em; padding-right: 1em; text-align: center; vertical-align: top\">2596400050</td>\n",
       "        <td style=\"padding-left: 1em; padding-right: 1em; text-align: center; vertical-align: top\">375000.0</td>\n",
       "        <td style=\"padding-left: 1em; padding-right: 1em; text-align: center; vertical-align: top\">3.0</td>\n",
       "        <td style=\"padding-left: 1em; padding-right: 1em; text-align: center; vertical-align: top\">1.0</td>\n",
       "        <td style=\"padding-left: 1em; padding-right: 1em; text-align: center; vertical-align: top\">1960.0</td>\n",
       "        <td style=\"padding-left: 1em; padding-right: 1em; text-align: center; vertical-align: top\">7955</td>\n",
       "        <td style=\"padding-left: 1em; padding-right: 1em; text-align: center; vertical-align: top\">1</td>\n",
       "        <td style=\"padding-left: 1em; padding-right: 1em; text-align: center; vertical-align: top\">0</td>\n",
       "        <td style=\"padding-left: 1em; padding-right: 1em; text-align: center; vertical-align: top\">0</td>\n",
       "        <td style=\"padding-left: 1em; padding-right: 1em; text-align: center; vertical-align: top\">4</td>\n",
       "        <td style=\"padding-left: 1em; padding-right: 1em; text-align: center; vertical-align: top\">7</td>\n",
       "    </tr>\n",
       "    <tr>\n",
       "        <td style=\"padding-left: 1em; padding-right: 1em; text-align: center; vertical-align: top\">4140900050</td>\n",
       "        <td style=\"padding-left: 1em; padding-right: 1em; text-align: center; vertical-align: top\">440000.0</td>\n",
       "        <td style=\"padding-left: 1em; padding-right: 1em; text-align: center; vertical-align: top\">4.0</td>\n",
       "        <td style=\"padding-left: 1em; padding-right: 1em; text-align: center; vertical-align: top\">1.75</td>\n",
       "        <td style=\"padding-left: 1em; padding-right: 1em; text-align: center; vertical-align: top\">2180.0</td>\n",
       "        <td style=\"padding-left: 1em; padding-right: 1em; text-align: center; vertical-align: top\">10200</td>\n",
       "        <td style=\"padding-left: 1em; padding-right: 1em; text-align: center; vertical-align: top\">1</td>\n",
       "        <td style=\"padding-left: 1em; padding-right: 1em; text-align: center; vertical-align: top\">0</td>\n",
       "        <td style=\"padding-left: 1em; padding-right: 1em; text-align: center; vertical-align: top\">2</td>\n",
       "        <td style=\"padding-left: 1em; padding-right: 1em; text-align: center; vertical-align: top\">3</td>\n",
       "        <td style=\"padding-left: 1em; padding-right: 1em; text-align: center; vertical-align: top\">8</td>\n",
       "    </tr>\n",
       "</table>\n",
       "<table frame=\"box\" rules=\"cols\">\n",
       "    <tr>\n",
       "        <th style=\"padding-left: 1em; padding-right: 1em; text-align: center\">sqft_above</th>\n",
       "        <th style=\"padding-left: 1em; padding-right: 1em; text-align: center\">sqft_basement</th>\n",
       "        <th style=\"padding-left: 1em; padding-right: 1em; text-align: center\">yr_built</th>\n",
       "        <th style=\"padding-left: 1em; padding-right: 1em; text-align: center\">yr_renovated</th>\n",
       "        <th style=\"padding-left: 1em; padding-right: 1em; text-align: center\">zipcode</th>\n",
       "        <th style=\"padding-left: 1em; padding-right: 1em; text-align: center\">lat</th>\n",
       "        <th style=\"padding-left: 1em; padding-right: 1em; text-align: center\">long</th>\n",
       "        <th style=\"padding-left: 1em; padding-right: 1em; text-align: center\">sqft_living15</th>\n",
       "        <th style=\"padding-left: 1em; padding-right: 1em; text-align: center\">sqft_lot15</th>\n",
       "    </tr>\n",
       "    <tr>\n",
       "        <td style=\"padding-left: 1em; padding-right: 1em; text-align: center; vertical-align: top\">1660</td>\n",
       "        <td style=\"padding-left: 1em; padding-right: 1em; text-align: center; vertical-align: top\">1140</td>\n",
       "        <td style=\"padding-left: 1em; padding-right: 1em; text-align: center; vertical-align: top\">1963</td>\n",
       "        <td style=\"padding-left: 1em; padding-right: 1em; text-align: center; vertical-align: top\">0</td>\n",
       "        <td style=\"padding-left: 1em; padding-right: 1em; text-align: center; vertical-align: top\">98115</td>\n",
       "        <td style=\"padding-left: 1em; padding-right: 1em; text-align: center; vertical-align: top\">47.68093246</td>\n",
       "        <td style=\"padding-left: 1em; padding-right: 1em; text-align: center; vertical-align: top\">-122.28583258</td>\n",
       "        <td style=\"padding-left: 1em; padding-right: 1em; text-align: center; vertical-align: top\">2580.0</td>\n",
       "        <td style=\"padding-left: 1em; padding-right: 1em; text-align: center; vertical-align: top\">5900.0</td>\n",
       "    </tr>\n",
       "    <tr>\n",
       "        <td style=\"padding-left: 1em; padding-right: 1em; text-align: center; vertical-align: top\">2490</td>\n",
       "        <td style=\"padding-left: 1em; padding-right: 1em; text-align: center; vertical-align: top\">0</td>\n",
       "        <td style=\"padding-left: 1em; padding-right: 1em; text-align: center; vertical-align: top\">2003</td>\n",
       "        <td style=\"padding-left: 1em; padding-right: 1em; text-align: center; vertical-align: top\">0</td>\n",
       "        <td style=\"padding-left: 1em; padding-right: 1em; text-align: center; vertical-align: top\">98074</td>\n",
       "        <td style=\"padding-left: 1em; padding-right: 1em; text-align: center; vertical-align: top\">47.62984888</td>\n",
       "        <td style=\"padding-left: 1em; padding-right: 1em; text-align: center; vertical-align: top\">-122.02177564</td>\n",
       "        <td style=\"padding-left: 1em; padding-right: 1em; text-align: center; vertical-align: top\">2710.0</td>\n",
       "        <td style=\"padding-left: 1em; padding-right: 1em; text-align: center; vertical-align: top\">6629.0</td>\n",
       "    </tr>\n",
       "    <tr>\n",
       "        <td style=\"padding-left: 1em; padding-right: 1em; text-align: center; vertical-align: top\">1170</td>\n",
       "        <td style=\"padding-left: 1em; padding-right: 1em; text-align: center; vertical-align: top\">1170</td>\n",
       "        <td style=\"padding-left: 1em; padding-right: 1em; text-align: center; vertical-align: top\">1917</td>\n",
       "        <td style=\"padding-left: 1em; padding-right: 1em; text-align: center; vertical-align: top\">0</td>\n",
       "        <td style=\"padding-left: 1em; padding-right: 1em; text-align: center; vertical-align: top\">98144</td>\n",
       "        <td style=\"padding-left: 1em; padding-right: 1em; text-align: center; vertical-align: top\">47.57587004</td>\n",
       "        <td style=\"padding-left: 1em; padding-right: 1em; text-align: center; vertical-align: top\">-122.28796</td>\n",
       "        <td style=\"padding-left: 1em; padding-right: 1em; text-align: center; vertical-align: top\">1360.0</td>\n",
       "        <td style=\"padding-left: 1em; padding-right: 1em; text-align: center; vertical-align: top\">4725.0</td>\n",
       "    </tr>\n",
       "    <tr>\n",
       "        <td style=\"padding-left: 1em; padding-right: 1em; text-align: center; vertical-align: top\">1090</td>\n",
       "        <td style=\"padding-left: 1em; padding-right: 1em; text-align: center; vertical-align: top\">230</td>\n",
       "        <td style=\"padding-left: 1em; padding-right: 1em; text-align: center; vertical-align: top\">1920</td>\n",
       "        <td style=\"padding-left: 1em; padding-right: 1em; text-align: center; vertical-align: top\">0</td>\n",
       "        <td style=\"padding-left: 1em; padding-right: 1em; text-align: center; vertical-align: top\">98107</td>\n",
       "        <td style=\"padding-left: 1em; padding-right: 1em; text-align: center; vertical-align: top\">47.66737217</td>\n",
       "        <td style=\"padding-left: 1em; padding-right: 1em; text-align: center; vertical-align: top\">-122.36472902</td>\n",
       "        <td style=\"padding-left: 1em; padding-right: 1em; text-align: center; vertical-align: top\">1700.0</td>\n",
       "        <td style=\"padding-left: 1em; padding-right: 1em; text-align: center; vertical-align: top\">5000.0</td>\n",
       "    </tr>\n",
       "    <tr>\n",
       "        <td style=\"padding-left: 1em; padding-right: 1em; text-align: center; vertical-align: top\">1904</td>\n",
       "        <td style=\"padding-left: 1em; padding-right: 1em; text-align: center; vertical-align: top\">0</td>\n",
       "        <td style=\"padding-left: 1em; padding-right: 1em; text-align: center; vertical-align: top\">1999</td>\n",
       "        <td style=\"padding-left: 1em; padding-right: 1em; text-align: center; vertical-align: top\">0</td>\n",
       "        <td style=\"padding-left: 1em; padding-right: 1em; text-align: center; vertical-align: top\">98010</td>\n",
       "        <td style=\"padding-left: 1em; padding-right: 1em; text-align: center; vertical-align: top\">47.31068733</td>\n",
       "        <td style=\"padding-left: 1em; padding-right: 1em; text-align: center; vertical-align: top\">-122.0012452</td>\n",
       "        <td style=\"padding-left: 1em; padding-right: 1em; text-align: center; vertical-align: top\">1560.0</td>\n",
       "        <td style=\"padding-left: 1em; padding-right: 1em; text-align: center; vertical-align: top\">12426.0</td>\n",
       "    </tr>\n",
       "    <tr>\n",
       "        <td style=\"padding-left: 1em; padding-right: 1em; text-align: center; vertical-align: top\">1610</td>\n",
       "        <td style=\"padding-left: 1em; padding-right: 1em; text-align: center; vertical-align: top\">0</td>\n",
       "        <td style=\"padding-left: 1em; padding-right: 1em; text-align: center; vertical-align: top\">2006</td>\n",
       "        <td style=\"padding-left: 1em; padding-right: 1em; text-align: center; vertical-align: top\">0</td>\n",
       "        <td style=\"padding-left: 1em; padding-right: 1em; text-align: center; vertical-align: top\">98055</td>\n",
       "        <td style=\"padding-left: 1em; padding-right: 1em; text-align: center; vertical-align: top\">47.44911017</td>\n",
       "        <td style=\"padding-left: 1em; padding-right: 1em; text-align: center; vertical-align: top\">-122.1878086</td>\n",
       "        <td style=\"padding-left: 1em; padding-right: 1em; text-align: center; vertical-align: top\">1610.0</td>\n",
       "        <td style=\"padding-left: 1em; padding-right: 1em; text-align: center; vertical-align: top\">3056.0</td>\n",
       "    </tr>\n",
       "    <tr>\n",
       "        <td style=\"padding-left: 1em; padding-right: 1em; text-align: center; vertical-align: top\">1560</td>\n",
       "        <td style=\"padding-left: 1em; padding-right: 1em; text-align: center; vertical-align: top\">0</td>\n",
       "        <td style=\"padding-left: 1em; padding-right: 1em; text-align: center; vertical-align: top\">1979</td>\n",
       "        <td style=\"padding-left: 1em; padding-right: 1em; text-align: center; vertical-align: top\">0</td>\n",
       "        <td style=\"padding-left: 1em; padding-right: 1em; text-align: center; vertical-align: top\">98001</td>\n",
       "        <td style=\"padding-left: 1em; padding-right: 1em; text-align: center; vertical-align: top\">47.33933392</td>\n",
       "        <td style=\"padding-left: 1em; padding-right: 1em; text-align: center; vertical-align: top\">-122.25864364</td>\n",
       "        <td style=\"padding-left: 1em; padding-right: 1em; text-align: center; vertical-align: top\">1920.0</td>\n",
       "        <td style=\"padding-left: 1em; padding-right: 1em; text-align: center; vertical-align: top\">8120.0</td>\n",
       "    </tr>\n",
       "    <tr>\n",
       "        <td style=\"padding-left: 1em; padding-right: 1em; text-align: center; vertical-align: top\">660</td>\n",
       "        <td style=\"padding-left: 1em; padding-right: 1em; text-align: center; vertical-align: top\">660</td>\n",
       "        <td style=\"padding-left: 1em; padding-right: 1em; text-align: center; vertical-align: top\">1918</td>\n",
       "        <td style=\"padding-left: 1em; padding-right: 1em; text-align: center; vertical-align: top\">0</td>\n",
       "        <td style=\"padding-left: 1em; padding-right: 1em; text-align: center; vertical-align: top\">98106</td>\n",
       "        <td style=\"padding-left: 1em; padding-right: 1em; text-align: center; vertical-align: top\">47.53271982</td>\n",
       "        <td style=\"padding-left: 1em; padding-right: 1em; text-align: center; vertical-align: top\">-122.34716948</td>\n",
       "        <td style=\"padding-left: 1em; padding-right: 1em; text-align: center; vertical-align: top\">1190.0</td>\n",
       "        <td style=\"padding-left: 1em; padding-right: 1em; text-align: center; vertical-align: top\">4200.0</td>\n",
       "    </tr>\n",
       "    <tr>\n",
       "        <td style=\"padding-left: 1em; padding-right: 1em; text-align: center; vertical-align: top\">1260</td>\n",
       "        <td style=\"padding-left: 1em; padding-right: 1em; text-align: center; vertical-align: top\">700</td>\n",
       "        <td style=\"padding-left: 1em; padding-right: 1em; text-align: center; vertical-align: top\">1963</td>\n",
       "        <td style=\"padding-left: 1em; padding-right: 1em; text-align: center; vertical-align: top\">0</td>\n",
       "        <td style=\"padding-left: 1em; padding-right: 1em; text-align: center; vertical-align: top\">98177</td>\n",
       "        <td style=\"padding-left: 1em; padding-right: 1em; text-align: center; vertical-align: top\">47.76407345</td>\n",
       "        <td style=\"padding-left: 1em; padding-right: 1em; text-align: center; vertical-align: top\">-122.36361517</td>\n",
       "        <td style=\"padding-left: 1em; padding-right: 1em; text-align: center; vertical-align: top\">1850.0</td>\n",
       "        <td style=\"padding-left: 1em; padding-right: 1em; text-align: center; vertical-align: top\">8219.0</td>\n",
       "    </tr>\n",
       "    <tr>\n",
       "        <td style=\"padding-left: 1em; padding-right: 1em; text-align: center; vertical-align: top\">2000</td>\n",
       "        <td style=\"padding-left: 1em; padding-right: 1em; text-align: center; vertical-align: top\">180</td>\n",
       "        <td style=\"padding-left: 1em; padding-right: 1em; text-align: center; vertical-align: top\">1966</td>\n",
       "        <td style=\"padding-left: 1em; padding-right: 1em; text-align: center; vertical-align: top\">0</td>\n",
       "        <td style=\"padding-left: 1em; padding-right: 1em; text-align: center; vertical-align: top\">98028</td>\n",
       "        <td style=\"padding-left: 1em; padding-right: 1em; text-align: center; vertical-align: top\">47.76382378</td>\n",
       "        <td style=\"padding-left: 1em; padding-right: 1em; text-align: center; vertical-align: top\">-122.27022456</td>\n",
       "        <td style=\"padding-left: 1em; padding-right: 1em; text-align: center; vertical-align: top\">2590.0</td>\n",
       "        <td style=\"padding-left: 1em; padding-right: 1em; text-align: center; vertical-align: top\">10445.0</td>\n",
       "    </tr>\n",
       "</table>\n",
       "[10 rows x 20 columns]<br/>\n",
       "</div>"
      ],
      "text/plain": [
       "Columns:\n",
       "\tid\tstr\n",
       "\tprice\tfloat\n",
       "\tbedrooms\tfloat\n",
       "\tbathrooms\tfloat\n",
       "\tsqft_living\tfloat\n",
       "\tsqft_lot\tint\n",
       "\tfloors\tstr\n",
       "\twaterfront\tint\n",
       "\tview\tint\n",
       "\tcondition\tint\n",
       "\tgrade\tint\n",
       "\tsqft_above\tint\n",
       "\tsqft_basement\tint\n",
       "\tyr_built\tint\n",
       "\tyr_renovated\tint\n",
       "\tzipcode\tstr\n",
       "\tlat\tfloat\n",
       "\tlong\tfloat\n",
       "\tsqft_living15\tfloat\n",
       "\tsqft_lot15\tfloat\n",
       "\n",
       "Rows: 10\n",
       "\n",
       "Data:\n",
       "+------------+----------+----------+-----------+-------------+----------+--------+\n",
       "|     id     |  price   | bedrooms | bathrooms | sqft_living | sqft_lot | floors |\n",
       "+------------+----------+----------+-----------+-------------+----------+--------+\n",
       "| 2780400035 | 665000.0 |   4.0    |    2.5    |    2800.0   |   5900   |   1    |\n",
       "| 1703050500 | 645000.0 |   3.0    |    2.5    |    2490.0   |   5978   |   2    |\n",
       "| 5700002325 | 640000.0 |   3.0    |    1.75   |    2340.0   |   4206   |   1    |\n",
       "| 0475000510 | 594000.0 |   3.0    |    1.0    |    1320.0   |   5000   |   1    |\n",
       "| 0844001052 | 365000.0 |   4.0    |    2.5    |    1904.0   |   8200   |   2    |\n",
       "| 2781280290 | 305000.0 |   3.0    |    2.5    |    1610.0   |   3516   |   2    |\n",
       "| 2214800630 | 239950.0 |   3.0    |    2.25   |    1560.0   |   8280   |   2    |\n",
       "| 2114700540 | 366000.0 |   3.0    |    2.5    |    1320.0   |   4320   |   1    |\n",
       "| 2596400050 | 375000.0 |   3.0    |    1.0    |    1960.0   |   7955   |   1    |\n",
       "| 4140900050 | 440000.0 |   4.0    |    1.75   |    2180.0   |  10200   |   1    |\n",
       "+------------+----------+----------+-----------+-------------+----------+--------+\n",
       "+------------+------+-----------+-------+------------+---------------+----------+\n",
       "| waterfront | view | condition | grade | sqft_above | sqft_basement | yr_built |\n",
       "+------------+------+-----------+-------+------------+---------------+----------+\n",
       "|     0      |  0   |     3     |   8   |    1660    |      1140     |   1963   |\n",
       "|     0      |  0   |     3     |   9   |    2490    |       0       |   2003   |\n",
       "|     0      |  0   |     5     |   7   |    1170    |      1170     |   1917   |\n",
       "|     0      |  0   |     4     |   7   |    1090    |      230      |   1920   |\n",
       "|     0      |  0   |     5     |   7   |    1904    |       0       |   1999   |\n",
       "|     0      |  0   |     3     |   8   |    1610    |       0       |   2006   |\n",
       "|     0      |  0   |     4     |   7   |    1560    |       0       |   1979   |\n",
       "|     0      |  0   |     3     |   6   |    660     |      660      |   1918   |\n",
       "|     0      |  0   |     4     |   7   |    1260    |      700      |   1963   |\n",
       "|     0      |  2   |     3     |   8   |    2000    |      180      |   1966   |\n",
       "+------------+------+-----------+-------+------------+---------------+----------+\n",
       "+--------------+---------+-------------+---------------+---------------+------------+\n",
       "| yr_renovated | zipcode |     lat     |      long     | sqft_living15 | sqft_lot15 |\n",
       "+--------------+---------+-------------+---------------+---------------+------------+\n",
       "|      0       |  98115  | 47.68093246 | -122.28583258 |     2580.0    |   5900.0   |\n",
       "|      0       |  98074  | 47.62984888 | -122.02177564 |     2710.0    |   6629.0   |\n",
       "|      0       |  98144  | 47.57587004 |   -122.28796  |     1360.0    |   4725.0   |\n",
       "|      0       |  98107  | 47.66737217 | -122.36472902 |     1700.0    |   5000.0   |\n",
       "|      0       |  98010  | 47.31068733 |  -122.0012452 |     1560.0    |  12426.0   |\n",
       "|      0       |  98055  | 47.44911017 |  -122.1878086 |     1610.0    |   3056.0   |\n",
       "|      0       |  98001  | 47.33933392 | -122.25864364 |     1920.0    |   8120.0   |\n",
       "|      0       |  98106  | 47.53271982 | -122.34716948 |     1190.0    |   4200.0   |\n",
       "|      0       |  98177  | 47.76407345 | -122.36361517 |     1850.0    |   8219.0   |\n",
       "|      0       |  98028  | 47.76382378 | -122.27022456 |     2590.0    |  10445.0   |\n",
       "+--------------+---------+-------------+---------------+---------------+------------+\n",
       "[10 rows x 20 columns]"
      ]
     },
     "execution_count": 338,
     "metadata": {},
     "output_type": "execute_result"
    }
   ],
   "source": [
    "train_valid_shuffled[0:10] # rows 0 to 9"
   ]
  },
  {
   "cell_type": "markdown",
   "metadata": {},
   "source": [
    "Now let us extract individual segments with array slicing. Consider the scenario where we group the houses in the `train_valid_shuffled` dataframe into k=10 segments of roughly equal size, with starting and ending indices computed as above.\n",
    "Extract the fourth segment (segment 3) and assign it to a variable called `validation4`."
   ]
  },
  {
   "cell_type": "code",
   "execution_count": 362,
   "metadata": {
    "collapsed": false,
    "scrolled": true
   },
   "outputs": [
    {
     "name": "stdout",
     "output_type": "stream",
     "text": [
      "0 +------------+---------------------------+----------+----------+-----------+\n",
      "|     id     |            date           |  price   | bedrooms | bathrooms |\n",
      "+------------+---------------------------+----------+----------+-----------+\n",
      "| 2780400035 | 2014-05-05 00:00:00+00:00 | 665000.0 |   4.0    |    2.5    |\n",
      "| 1703050500 | 2015-03-21 00:00:00+00:00 | 645000.0 |   3.0    |    2.5    |\n",
      "| 5700002325 | 2014-06-05 00:00:00+00:00 | 640000.0 |   3.0    |    1.75   |\n",
      "| 0475000510 | 2014-11-18 00:00:00+00:00 | 594000.0 |   3.0    |    1.0    |\n",
      "| 0844001052 | 2015-01-28 00:00:00+00:00 | 365000.0 |   4.0    |    2.5    |\n",
      "| 2781280290 | 2015-04-27 00:00:00+00:00 | 305000.0 |   3.0    |    2.5    |\n",
      "| 2214800630 | 2014-11-05 00:00:00+00:00 | 239950.0 |   3.0    |    2.25   |\n",
      "| 2114700540 | 2014-10-21 00:00:00+00:00 | 366000.0 |   3.0    |    2.5    |\n",
      "| 2596400050 | 2014-07-30 00:00:00+00:00 | 375000.0 |   3.0    |    1.0    |\n",
      "| 4140900050 | 2015-01-26 00:00:00+00:00 | 440000.0 |   4.0    |    1.75   |\n",
      "+------------+---------------------------+----------+----------+-----------+\n",
      "+-------------+----------+--------+------------+------+-----------+-------+------------+\n",
      "| sqft_living | sqft_lot | floors | waterfront | view | condition | grade | sqft_above |\n",
      "+-------------+----------+--------+------------+------+-----------+-------+------------+\n",
      "|    2800.0   |   5900   |   1    |     0      |  0   |     3     |   8   |    1660    |\n",
      "|    2490.0   |   5978   |   2    |     0      |  0   |     3     |   9   |    2490    |\n",
      "|    2340.0   |   4206   |   1    |     0      |  0   |     5     |   7   |    1170    |\n",
      "|    1320.0   |   5000   |   1    |     0      |  0   |     4     |   7   |    1090    |\n",
      "|    1904.0   |   8200   |   2    |     0      |  0   |     5     |   7   |    1904    |\n",
      "|    1610.0   |   3516   |   2    |     0      |  0   |     3     |   8   |    1610    |\n",
      "|    1560.0   |   8280   |   2    |     0      |  0   |     4     |   7   |    1560    |\n",
      "|    1320.0   |   4320   |   1    |     0      |  0   |     3     |   6   |    660     |\n",
      "|    1960.0   |   7955   |   1    |     0      |  0   |     4     |   7   |    1260    |\n",
      "|    2180.0   |  10200   |   1    |     0      |  2   |     3     |   8   |    2000    |\n",
      "+-------------+----------+--------+------------+------+-----------+-------+------------+\n",
      "+---------------+----------+--------------+---------+-------------+\n",
      "| sqft_basement | yr_built | yr_renovated | zipcode |     lat     |\n",
      "+---------------+----------+--------------+---------+-------------+\n",
      "|      1140     |   1963   |      0       |  98115  | 47.68093246 |\n",
      "|       0       |   2003   |      0       |  98074  | 47.62984888 |\n",
      "|      1170     |   1917   |      0       |  98144  | 47.57587004 |\n",
      "|      230      |   1920   |      0       |  98107  | 47.66737217 |\n",
      "|       0       |   1999   |      0       |  98010  | 47.31068733 |\n",
      "|       0       |   2006   |      0       |  98055  | 47.44911017 |\n",
      "|       0       |   1979   |      0       |  98001  | 47.33933392 |\n",
      "|      660      |   1918   |      0       |  98106  | 47.53271982 |\n",
      "|      700      |   1963   |      0       |  98177  | 47.76407345 |\n",
      "|      180      |   1966   |      0       |  98028  | 47.76382378 |\n",
      "+---------------+----------+--------------+---------+-------------+\n",
      "+---------------+---------------+-----+\n",
      "|      long     | sqft_living15 | ... |\n",
      "+---------------+---------------+-----+\n",
      "| -122.28583258 |     2580.0    | ... |\n",
      "| -122.02177564 |     2710.0    | ... |\n",
      "|   -122.28796  |     1360.0    | ... |\n",
      "| -122.36472902 |     1700.0    | ... |\n",
      "|  -122.0012452 |     1560.0    | ... |\n",
      "|  -122.1878086 |     1610.0    | ... |\n",
      "| -122.25864364 |     1920.0    | ... |\n",
      "| -122.34716948 |     1190.0    | ... |\n",
      "| -122.36361517 |     1850.0    | ... |\n",
      "| -122.27022456 |     2590.0    | ... |\n",
      "+---------------+---------------+-----+\n",
      "[1938 rows x 21 columns]\n",
      "Note: Only the head of the SFrame is printed.\n",
      "You can use print_rows(num_rows=m, num_columns=n) to print more rows and columns.\n",
      "1 +------------+---------------------------+-----------+----------+-----------+\n",
      "|     id     |            date           |   price   | bedrooms | bathrooms |\n",
      "+------------+---------------------------+-----------+----------+-----------+\n",
      "| 7857000716 | 2015-03-13 00:00:00+00:00 |  334998.0 |   2.0    |    1.0    |\n",
      "| 9527000330 | 2014-08-11 00:00:00+00:00 |  508000.0 |   6.0    |    2.75   |\n",
      "| 1310440470 | 2015-01-13 00:00:00+00:00 |  441000.0 |   3.0    |    2.5    |\n",
      "| 1118000340 | 2015-04-08 00:00:00+00:00 | 3000000.0 |   5.0    |    3.75   |\n",
      "| 3121500020 | 2014-07-02 00:00:00+00:00 |  700000.0 |   3.0    |    2.5    |\n",
      "| 1829300520 | 2015-04-12 00:00:00+00:00 |  746500.0 |   4.0    |    2.5    |\n",
      "| 2570600140 | 2015-01-28 00:00:00+00:00 |  196000.0 |   3.0    |    2.25   |\n",
      "| 7300400170 | 2014-09-10 00:00:00+00:00 |  334000.0 |   4.0    |    2.5    |\n",
      "| 1862400522 | 2014-08-22 00:00:00+00:00 |  449000.0 |   3.0    |    2.5    |\n",
      "| 3701900085 | 2014-08-05 00:00:00+00:00 |  169000.0 |   3.0    |    1.5    |\n",
      "+------------+---------------------------+-----------+----------+-----------+\n",
      "+-------------+----------+--------+------------+------+-----------+-------+------------+\n",
      "| sqft_living | sqft_lot | floors | waterfront | view | condition | grade | sqft_above |\n",
      "+-------------+----------+--------+------------+------+-----------+-------+------------+\n",
      "|    1800.0   |   5182   |   1    |     0      |  0   |     3     |   6   |    900     |\n",
      "|    2890.0   |   7500   |   1    |     0      |  0   |     4     |   8   |    1830    |\n",
      "|    2740.0   |   7923   |   2    |     0      |  0   |     3     |   9   |    2740    |\n",
      "|    4590.0   |  11265   |   2    |     0      |  0   |     4     |   11  |    3450    |\n",
      "|    2490.0   |  23891   |   2    |     0      |  0   |     3     |   9   |    2490    |\n",
      "|    3460.0   |   9699   |   2    |     0      |  0   |     3     |   10  |    3460    |\n",
      "|    1510.0   |   9600   |   1    |     0      |  0   |     1     |   7   |    1090    |\n",
      "|    2310.0   |   6200   |   2    |     0      |  0   |     3     |   8   |    2310    |\n",
      "|    1810.0   |   1658   |   3    |     0      |  0   |     3     |   8   |    1810    |\n",
      "|    1570.0   |   6450   |  1.5   |     0      |  0   |     4     |   6   |    1570    |\n",
      "+-------------+----------+--------+------------+------+-----------+-------+------------+\n",
      "+---------------+----------+--------------+---------+-------------+\n",
      "| sqft_basement | yr_built | yr_renovated | zipcode |     lat     |\n",
      "+---------------+----------+--------------+---------+-------------+\n",
      "|      900      |   1942   |      0       |  98108  | 47.55077672 |\n",
      "|      1060     |   1976   |      0       |  98034  | 47.70993819 |\n",
      "|       0       |   1998   |      0       |  98058  | 47.43491246 |\n",
      "|      1140     |   1927   |      0       |  98112  | 47.63894894 |\n",
      "|       0       |   1993   |      0       |  98053  | 47.67162644 |\n",
      "|       0       |   1987   |      0       |  98074  | 47.63696509 |\n",
      "|      420      |   1966   |      0       |  98028  |  47.775797  |\n",
      "|       0       |   1998   |      0       |  98092  | 47.33209432 |\n",
      "|       0       |   1998   |      0       |  98117  | 47.69553373 |\n",
      "|       0       |   1931   |      0       |  98022  | 47.20205465 |\n",
      "+---------------+----------+--------------+---------+-------------+\n",
      "+---------------+---------------+-----+\n",
      "|      long     | sqft_living15 | ... |\n",
      "+---------------+---------------+-----+\n",
      "| -122.30041617 |     1570.0    | ... |\n",
      "| -122.22997237 |     1880.0    | ... |\n",
      "| -122.10542492 |     2740.0    | ... |\n",
      "|  -122.287666  |     3870.0    | ... |\n",
      "| -122.02947748 |     2900.0    | ... |\n",
      "|  -122.040235  |     3140.0    | ... |\n",
      "| -122.23765692 |     1870.0    | ... |\n",
      "| -122.17162059 |     2480.0    | ... |\n",
      "| -122.37623492 |     1470.0    | ... |\n",
      "| -121.99640648 |     1400.0    | ... |\n",
      "+---------------+---------------+-----+\n",
      "[1939 rows x 21 columns]\n",
      "Note: Only the head of the SFrame is printed.\n",
      "You can use print_rows(num_rows=m, num_columns=n) to print more rows and columns.\n",
      "2 +------------+---------------------------+-----------+----------+-----------+\n",
      "|     id     |            date           |   price   | bedrooms | bathrooms |\n",
      "+------------+---------------------------+-----------+----------+-----------+\n",
      "| 3205200240 | 2015-04-30 00:00:00+00:00 |  420000.0 |   4.0    |    1.75   |\n",
      "| 5706200060 | 2014-08-18 00:00:00+00:00 |  399950.0 |   3.0    |    1.0    |\n",
      "| 8635750980 | 2014-07-14 00:00:00+00:00 |  570000.0 |   4.0    |    2.5    |\n",
      "| 6648770240 | 2014-12-24 00:00:00+00:00 |  360000.0 |   4.0    |    2.5    |\n",
      "| 0486000085 | 2014-08-15 00:00:00+00:00 |  866800.0 |   4.0    |    3.5    |\n",
      "| 8857640040 | 2015-04-10 00:00:00+00:00 |  425000.0 |   4.0    |    2.5    |\n",
      "| 7811100230 | 2014-07-24 00:00:00+00:00 |  650000.0 |   4.0    |    2.75   |\n",
      "| 9407110710 | 2014-11-07 00:00:00+00:00 |  195000.0 |   3.0    |    1.75   |\n",
      "| 8106100085 | 2014-05-09 00:00:00+00:00 | 1702500.0 |   5.0    |    4.5    |\n",
      "| 2622029073 | 2014-09-05 00:00:00+00:00 |  437500.0 |   3.0    |    2.25   |\n",
      "+------------+---------------------------+-----------+----------+-----------+\n",
      "+-------------+----------+--------+------------+------+-----------+-------+------------+\n",
      "| sqft_living | sqft_lot | floors | waterfront | view | condition | grade | sqft_above |\n",
      "+-------------+----------+--------+------------+------+-----------+-------+------------+\n",
      "|    1340.0   |   8400   |   1    |     0      |  0   |     5     |   7   |    1340    |\n",
      "|    1020.0   |  18050   |   1    |     0      |  0   |     3     |   7   |    1020    |\n",
      "|    2640.0   |   4200   |   2    |     0      |  0   |     3     |   8   |    2640    |\n",
      "|    2390.0   |   7056   |   2    |     0      |  0   |     3     |   9   |    2390    |\n",
      "|    2970.0   |   5000   |   2    |     0      |  2   |     3     |   9   |    2200    |\n",
      "|    2400.0   |   6053   |   2    |     0      |  0   |     3     |   8   |    2400    |\n",
      "|    2020.0   |  15810   |   1    |     0      |  0   |     4     |   9   |    1620    |\n",
      "|    1510.0   |   8400   |   1    |     0      |  0   |     2     |   7   |    980     |\n",
      "|    5190.0   |  23716   |   2    |     0      |  2   |     3     |   11  |    3390    |\n",
      "|    2100.0   |  205603  |   2    |     0      |  0   |     3     |   8   |    2100    |\n",
      "+-------------+----------+--------+------------+------+-----------+-------+------------+\n",
      "+---------------+----------+--------------+---------+-------------+\n",
      "| sqft_basement | yr_built | yr_renovated | zipcode |     lat     |\n",
      "+---------------+----------+--------------+---------+-------------+\n",
      "|       0       |   1967   |      0       |  98056  | 47.53817915 |\n",
      "|       0       |   1969   |      0       |  98027  | 47.52541976 |\n",
      "|       0       |   1998   |      0       |  98074  | 47.60378453 |\n",
      "|       0       |   1990   |      0       |  98001  | 47.33849044 |\n",
      "|      770      |   2001   |      0       |  98117  | 47.67721979 |\n",
      "|       0       |   2001   |      0       |  98038  | 47.38693934 |\n",
      "|      400      |   1967   |      0       |  98005  | 47.59212896 |\n",
      "|      530      |   1979   |      0       |  98045  | 47.44761754 |\n",
      "|      1800     |   1987   |     2000     |  98040  | 47.58460421 |\n",
      "|       0       |   1983   |      0       |  98070  | 47.36679324 |\n",
      "+---------------+----------+--------------+---------+-------------+\n",
      "+---------------+---------------+-----+\n",
      "|      long     | sqft_living15 | ... |\n",
      "+---------------+---------------+-----+\n",
      "| -122.17338453 |     1980.0    | ... |\n",
      "| -122.04257381 |     1750.0    | ... |\n",
      "| -122.01958677 |     2460.0    | ... |\n",
      "| -122.26444566 |     2590.0    | ... |\n",
      "| -122.39917939 |     1470.0    | ... |\n",
      "| -122.03267447 |     2460.0    | ... |\n",
      "| -122.15482594 |     2210.0    | ... |\n",
      "| -121.77108672 |     1500.0    | ... |\n",
      "| -122.22293588 |     4460.0    | ... |\n",
      "| -122.50471328 |     2396.0    | ... |\n",
      "+---------------+---------------+-----+\n",
      "[1938 rows x 21 columns]\n",
      "Note: Only the head of the SFrame is printed.\n",
      "You can use print_rows(num_rows=m, num_columns=n) to print more rows and columns.\n",
      "3 +------------+---------------------------+----------+----------+-----------+\n",
      "|     id     |            date           |  price   | bedrooms | bathrooms |\n",
      "+------------+---------------------------+----------+----------+-----------+\n",
      "| 3342102880 | 2014-08-11 00:00:00+00:00 | 464000.0 |   3.0    |    2.5    |\n",
      "| 5113400364 | 2015-01-26 00:00:00+00:00 | 650000.0 |   4.0    |    1.5    |\n",
      "| 0984210170 | 2015-03-26 00:00:00+00:00 | 256500.0 |   5.0    |    2.5    |\n",
      "| 6117501755 | 2014-12-30 00:00:00+00:00 | 355000.0 |   4.0    |    1.5    |\n",
      "| 4307300520 | 2015-04-23 00:00:00+00:00 | 359000.0 |   4.0    |    2.5    |\n",
      "| 2926049504 | 2015-04-02 00:00:00+00:00 | 500000.0 |   3.0    |    2.25   |\n",
      "| 2518400046 | 2014-11-18 00:00:00+00:00 | 456700.0 |   3.0    |    1.75   |\n",
      "| 4037000925 | 2015-03-27 00:00:00+00:00 | 650000.0 |   5.0    |    2.25   |\n",
      "| 6400700389 | 2014-07-10 00:00:00+00:00 | 875000.0 |   5.0    |    3.0    |\n",
      "| 1422200090 | 2014-09-15 00:00:00+00:00 | 676500.0 |   3.0    |    1.75   |\n",
      "+------------+---------------------------+----------+----------+-----------+\n",
      "+-------------+----------+--------+------------+------+-----------+-------+------------+\n",
      "| sqft_living | sqft_lot | floors | waterfront | view | condition | grade | sqft_above |\n",
      "+-------------+----------+--------+------------+------+-----------+-------+------------+\n",
      "|    2460.0   |   5400   |   1    |     0      |  0   |     4     |   8   |    1520    |\n",
      "|    2480.0   |   6383   |   1    |     0      |  0   |     3     |   7   |    1380    |\n",
      "|    1960.0   |   7350   |   1    |     0      |  0   |     4     |   7   |    1360    |\n",
      "|    2230.0   |  11536   |   1    |     0      |  1   |     4     |   7   |    1220    |\n",
      "|    2160.0   |   4500   |   2    |     0      |  0   |     3     |   7   |    2160    |\n",
      "|    1700.0   |   9008   |   1    |     0      |  0   |     3     |   8   |    1340    |\n",
      "|    2820.0   |   8879   |   1    |     0      |  0   |     5     |   7   |    1540    |\n",
      "|    2400.0   |  13450   |   1    |     0      |  0   |     5     |   7   |    1200    |\n",
      "|    2960.0   |  15152   |   2    |     0      |  0   |     3     |   9   |    2960    |\n",
      "|    1300.0   |   2446   |   1    |     0      |  3   |     3     |   8   |    880     |\n",
      "+-------------+----------+--------+------------+------+-----------+-------+------------+\n",
      "+---------------+----------+--------------+---------+-------------+\n",
      "| sqft_basement | yr_built | yr_renovated | zipcode |     lat     |\n",
      "+---------------+----------+--------------+---------+-------------+\n",
      "|      940      |   2001   |      0       |  98056  | 47.52306154 |\n",
      "|      1100     |   1946   |      0       |  98119  | 47.64453024 |\n",
      "|      600      |   1969   |      0       |  98058  | 47.43683519 |\n",
      "|      1010     |   1954   |      0       |  98166  | 47.44093899 |\n",
      "|       0       |   2002   |      0       |  98056  | 47.48190195 |\n",
      "|      360      |   1985   |      0       |  98125  | 47.71607008 |\n",
      "|      1280     |   1920   |     1957     |  98146  | 47.50941164 |\n",
      "|      1200     |   1957   |      0       |  98008  | 47.60065127 |\n",
      "|       0       |   2004   |      0       |  98033  |  47.6688659 |\n",
      "|      420      |   1961   |      0       |  98122  | 47.60712689 |\n",
      "+---------------+----------+--------------+---------+-------------+\n",
      "+---------------+---------------+-----+\n",
      "|      long     | sqft_living15 | ... |\n",
      "+---------------+---------------+-----+\n",
      "| -122.20192581 |     1745.0    | ... |\n",
      "| -122.37387334 |     1440.0    | ... |\n",
      "| -122.16517391 |     1900.0    | ... |\n",
      "| -122.34766805 |     2170.0    | ... |\n",
      "| -122.18214778 |     2160.0    | ... |\n",
      "| -122.31712527 |     2340.0    | ... |\n",
      "| -122.37625093 |     1640.0    | ... |\n",
      "| -122.11687972 |     1950.0    | ... |\n",
      "| -122.17936814 |     1850.0    | ... |\n",
      "| -122.28486411 |     2440.0    | ... |\n",
      "+---------------+---------------+-----+\n",
      "[1939 rows x 21 columns]\n",
      "Note: Only the head of the SFrame is printed.\n",
      "You can use print_rows(num_rows=m, num_columns=n) to print more rows and columns.\n",
      "4 +------------+---------------------------+----------+----------+-----------+\n",
      "|     id     |            date           |  price   | bedrooms | bathrooms |\n",
      "+------------+---------------------------+----------+----------+-----------+\n",
      "| 1523059103 | 2014-09-26 00:00:00+00:00 | 390000.0 |   4.0    |    2.5    |\n",
      "| 7183000070 | 2014-08-21 00:00:00+00:00 | 369160.0 |   4.0    |    2.25   |\n",
      "| 1402200440 | 2015-02-12 00:00:00+00:00 | 410000.0 |   5.0    |    2.75   |\n",
      "| 8113100150 | 2014-07-14 00:00:00+00:00 | 210000.0 |   3.0    |    1.0    |\n",
      "| 3888100022 | 2014-09-25 00:00:00+00:00 | 649800.0 |   4.0    |    2.5    |\n",
      "| 9513900050 | 2014-08-12 00:00:00+00:00 | 237000.0 |   3.0    |    2.0    |\n",
      "| 6116500366 | 2015-04-01 00:00:00+00:00 | 439000.0 |   3.0    |    1.0    |\n",
      "| 4279600080 | 2014-12-31 00:00:00+00:00 | 609000.0 |   6.0    |    3.0    |\n",
      "| 7696610240 | 2014-12-10 00:00:00+00:00 | 257000.0 |   4.0    |    1.5    |\n",
      "| 7861000021 | 2015-04-29 00:00:00+00:00 | 309933.0 |   3.0    |    1.75   |\n",
      "+------------+---------------------------+----------+----------+-----------+\n",
      "+-------------+----------+--------+------------+------+-----------+-------+------------+\n",
      "| sqft_living | sqft_lot | floors | waterfront | view | condition | grade | sqft_above |\n",
      "+-------------+----------+--------+------------+------+-----------+-------+------------+\n",
      "|    2570.0   |  22215   |   2    |     0      |  0   |     5     |   7   |    2570    |\n",
      "|    2120.0   |   9680   |   2    |     0      |  2   |     4     |   8   |    2120    |\n",
      "|    2910.0   |  16410   |  1.5   |     0      |  0   |     4     |   8   |    2910    |\n",
      "|    920.0    |   6612   |   1    |     0      |  0   |     3     |   6   |    920     |\n",
      "|    2280.0   |   9827   |   2    |     0      |  0   |     3     |   8   |    2280    |\n",
      "|    1210.0   |   6634   |   1    |     0      |  0   |     4     |   7   |    1210    |\n",
      "|    1530.0   |  19007   |   1    |     0      |  0   |     4     |   8   |    1290    |\n",
      "|    2470.0   |   9267   |   2    |     0      |  0   |     3     |   8   |    2470    |\n",
      "|    1400.0   |   8500   |   2    |     0      |  0   |     3     |   7   |    1400    |\n",
      "|    1820.0   |  78408   |   1    |     0      |  0   |     3     |   6   |    1220    |\n",
      "+-------------+----------+--------+------------+------+-----------+-------+------------+\n",
      "+---------------+----------+--------------+---------+-------------+\n",
      "| sqft_basement | yr_built | yr_renovated | zipcode |     lat     |\n",
      "+---------------+----------+--------------+---------+-------------+\n",
      "|       0       |   1958   |      0       |  98059  | 47.48330581 |\n",
      "|       0       |   1965   |      0       |  98003  | 47.33669221 |\n",
      "|       0       |   1967   |      0       |  98058  | 47.44000165 |\n",
      "|       0       |   1948   |      0       |  98118  | 47.54801538 |\n",
      "|       0       |   1995   |      0       |  98033  | 47.68828257 |\n",
      "|       0       |   1985   |      0       |  98031  | 47.40974772 |\n",
      "|      240      |   1949   |      0       |  98166  | 47.45077722 |\n",
      "|       0       |   1982   |      0       |  98007  | 47.60245986 |\n",
      "|       0       |   1975   |      0       |  98001  | 47.33143946 |\n",
      "|      600      |   1950   |      0       |  98042  | 47.33640314 |\n",
      "+---------------+----------+--------------+---------+-------------+\n",
      "+---------------+---------------+-----+\n",
      "|      long     | sqft_living15 | ... |\n",
      "+---------------+---------------+-----+\n",
      "| -122.15682358 |     2460.0    | ... |\n",
      "| -122.33195418 |     2360.0    | ... |\n",
      "| -122.14479582 |     1980.0    | ... |\n",
      "| -122.28373459 |     1860.0    | ... |\n",
      "| -122.16787166 |     1660.0    | ... |\n",
      "| -122.19270019 |     1560.0    | ... |\n",
      "| -122.35184418 |     2090.0    | ... |\n",
      "| -122.15234778 |     2470.0    | ... |\n",
      "| -122.27541021 |     1580.0    | ... |\n",
      "| -122.12796346 |     1340.0    | ... |\n",
      "+---------------+---------------+-----+\n",
      "[1939 rows x 21 columns]\n",
      "Note: Only the head of the SFrame is printed.\n",
      "You can use print_rows(num_rows=m, num_columns=n) to print more rows and columns.\n",
      "5 +------------+---------------------------+----------+----------+-----------+\n",
      "|     id     |            date           |  price   | bedrooms | bathrooms |\n",
      "+------------+---------------------------+----------+----------+-----------+\n",
      "| 2473460860 | 2014-10-27 00:00:00+00:00 | 260000.0 |   4.0    |    2.5    |\n",
      "| 2597800010 | 2015-03-04 00:00:00+00:00 | 600000.0 |   3.0    |    1.0    |\n",
      "| 3356403820 | 2014-12-05 00:00:00+00:00 | 115000.0 |   2.0    |    1.0    |\n",
      "| 2413301070 | 2015-03-24 00:00:00+00:00 | 280000.0 |   4.0    |    2.25   |\n",
      "| 1525069095 | 2014-06-19 00:00:00+00:00 | 925000.0 |   4.0    |    2.5    |\n",
      "| 3294700030 | 2014-05-09 00:00:00+00:00 | 280950.0 |   3.0    |    1.75   |\n",
      "| 8615800500 | 2014-08-14 00:00:00+00:00 | 875000.0 |   6.0    |    3.25   |\n",
      "| 2883200966 | 2015-03-18 00:00:00+00:00 | 780000.0 |   5.0    |    1.5    |\n",
      "| 8562600500 | 2015-01-09 00:00:00+00:00 | 520000.0 |   3.0    |    1.75   |\n",
      "| 2769600190 | 2014-07-15 00:00:00+00:00 | 630000.0 |   5.0    |    2.0    |\n",
      "+------------+---------------------------+----------+----------+-----------+\n",
      "+-------------+----------+--------+------------+------+-----------+-------+------------+\n",
      "| sqft_living | sqft_lot | floors | waterfront | view | condition | grade | sqft_above |\n",
      "+-------------+----------+--------+------------+------+-----------+-------+------------+\n",
      "|    2110.0   |   8990   |   2    |     0      |  0   |     3     |   8   |    2110    |\n",
      "|    1480.0   |  17360   |   1    |     0      |  1   |     3     |   8   |    1480    |\n",
      "|    1000.0   |  16524   |   1    |     0      |  0   |     3     |   5   |    1000    |\n",
      "|    2100.0   |   8075   |   2    |     0      |  0   |     3     |   8   |    2100    |\n",
      "|    3280.0   |  209088  |   2    |     0      |  0   |     3     |   10  |    3280    |\n",
      "|    1390.0   |   8700   |   1    |     0      |  3   |     4     |   7   |    840     |\n",
      "|    2820.0   |   4536   |   2    |     0      |  0   |     4     |   8   |    1930    |\n",
      "|    1940.0   |   4800   |   2    |     0      |  0   |     3     |   8   |    1940    |\n",
      "|    1540.0   |   7558   |   1    |     0      |  0   |     3     |   8   |    1540    |\n",
      "|    1900.0   |   5000   |   1    |     0      |  2   |     3     |   8   |    1720    |\n",
      "+-------------+----------+--------+------------+------+-----------+-------+------------+\n",
      "+---------------+----------+--------------+---------+-------------+\n",
      "| sqft_basement | yr_built | yr_renovated | zipcode |     lat     |\n",
      "+---------------+----------+--------------+---------+-------------+\n",
      "|       0       |   1977   |      0       |  98058  |  47.445678  |\n",
      "|       0       |   1954   |      0       |  98136  | 47.51793483 |\n",
      "|       0       |   1913   |      0       |  98001  | 47.28405238 |\n",
      "|       0       |   1978   |      0       |  98003  | 47.32505505 |\n",
      "|       0       |   1994   |      0       |  98053  | 47.65526261 |\n",
      "|      550      |   1912   |      0       |  98055  | 47.47245799 |\n",
      "|      890      |   1917   |      0       |  98105  | 47.66876833 |\n",
      "|       0       |   1905   |      0       |  98103  |  47.6844679 |\n",
      "|       0       |   1964   |      0       |  98052  |  47.6707158 |\n",
      "|      180      |   1957   |      0       |  98107  | 47.67354364 |\n",
      "+---------------+----------+--------------+---------+-------------+\n",
      "+---------------+---------------+-----+\n",
      "|      long     | sqft_living15 | ... |\n",
      "+---------------+---------------+-----+\n",
      "| -122.12711512 |     2040.0    | ... |\n",
      "| -122.38716846 |     2250.0    | ... |\n",
      "| -122.25473439 |     1350.0    | ... |\n",
      "| -122.32907171 |     2100.0    | ... |\n",
      "| -122.02307235 |     2460.0    | ... |\n",
      "| -122.20160824 |     1390.0    | ... |\n",
      "|  -122.3085558 |     2820.0    | ... |\n",
      "| -122.33189096 |     1750.0    | ... |\n",
      "| -122.15587403 |     1540.0    | ... |\n",
      "| -122.36152238 |     1770.0    | ... |\n",
      "+---------------+---------------+-----+\n",
      "[1938 rows x 21 columns]\n",
      "Note: Only the head of the SFrame is printed.\n",
      "You can use print_rows(num_rows=m, num_columns=n) to print more rows and columns.\n",
      "6 +------------+---------------------------+----------+----------+-----------+\n",
      "|     id     |            date           |  price   | bedrooms | bathrooms |\n",
      "+------------+---------------------------+----------+----------+-----------+\n",
      "| 1721801161 | 2014-10-30 00:00:00+00:00 | 236000.0 |   4.0    |    2.5    |\n",
      "| 5700004525 | 2014-06-24 00:00:00+00:00 | 970000.0 |   3.0    |    2.25   |\n",
      "| 6619910260 | 2015-04-07 00:00:00+00:00 | 536650.0 |   3.0    |    1.75   |\n",
      "| 2487200680 | 2015-02-24 00:00:00+00:00 | 447000.0 |   2.0    |    1.0    |\n",
      "| 3923400123 | 2014-10-17 00:00:00+00:00 | 294950.0 |   4.0    |    2.0    |\n",
      "| 6666830320 | 2015-03-24 00:00:00+00:00 | 950968.0 |   5.0    |    3.5    |\n",
      "| 5309100295 | 2014-10-17 00:00:00+00:00 | 782000.0 |   4.0    |    1.75   |\n",
      "| 9268200300 | 2014-05-20 00:00:00+00:00 | 490000.0 |   3.0    |    1.0    |\n",
      "| 7224000950 | 2014-11-03 00:00:00+00:00 | 238950.0 |   2.0    |    1.0    |\n",
      "| 5589300435 | 2014-12-03 00:00:00+00:00 | 359000.0 |   4.0    |    1.0    |\n",
      "+------------+---------------------------+----------+----------+-----------+\n",
      "+-------------+----------+--------+------------+------+-----------+-------+------------+\n",
      "| sqft_living | sqft_lot | floors | waterfront | view | condition | grade | sqft_above |\n",
      "+-------------+----------+--------+------------+------+-----------+-------+------------+\n",
      "|    1630.0   |   3060   |   2    |     0      |  0   |     3     |   7   |    1630    |\n",
      "|    3060.0   |   9950   |  1.5   |     0      |  2   |     4     |   9   |    1810    |\n",
      "|    2090.0   |   8910   |   1    |     0      |  0   |     3     |   8   |    1230    |\n",
      "|    720.0    |   7500   |   1    |     0      |  2   |     3     |   6   |    720     |\n",
      "|    2610.0   |  14321   |  1.5   |     0      |  0   |     4     |   6   |    1690    |\n",
      "|    3220.0   |   5081   |   2    |     0      |  0   |     3     |   8   |    3220    |\n",
      "|    1500.0   |   6820   |  1.5   |     0      |  0   |     5     |   7   |    1500    |\n",
      "|    1910.0   |   8190   |   1    |     0      |  0   |     4     |   7   |    1010    |\n",
      "|    810.0    |   4838   |   1    |     0      |  0   |     3     |   5   |    810     |\n",
      "|    2180.0   |  10617   |  1.5   |     0      |  0   |     3     |   7   |    2180    |\n",
      "+-------------+----------+--------+------------+------+-----------+-------+------------+\n",
      "+---------------+----------+--------------+---------+-------------+\n",
      "| sqft_basement | yr_built | yr_renovated | zipcode |     lat     |\n",
      "+---------------+----------+--------------+---------+-------------+\n",
      "|       0       |   2003   |      0       |  98146  |  47.5071519 |\n",
      "|      1250     |   1930   |      0       |  98144  | 47.57898245 |\n",
      "|      860      |   1975   |      0       |  98034  | 47.71489169 |\n",
      "|       0       |   1925   |      0       |  98136  | 47.51848341 |\n",
      "|      920      |   1940   |      0       |  98188  | 47.46724547 |\n",
      "|       0       |   2013   |      0       |  98052  | 47.70483254 |\n",
      "|       0       |   1905   |      0       |  98117  | 47.67938657 |\n",
      "|      900      |   1946   |      0       |  98117  | 47.69703498 |\n",
      "|       0       |   1938   |      0       |  98055  | 47.49093449 |\n",
      "|       0       |   1950   |      0       |  98155  |  47.7522261 |\n",
      "+---------------+----------+--------------+---------+-------------+\n",
      "+---------------+---------------+-----+\n",
      "|      long     | sqft_living15 | ... |\n",
      "+---------------+---------------+-----+\n",
      "| -122.33611842 |     1270.0    | ... |\n",
      "| -122.28446112 |     4950.0    | ... |\n",
      "| -122.22231231 |     2310.0    | ... |\n",
      "| -122.39189699 |     1390.0    | ... |\n",
      "| -122.29637977 |     1630.0    | ... |\n",
      "| -122.11116555 |     2970.0    | ... |\n",
      "| -122.37013886 |     1360.0    | ... |\n",
      "|  -122.3650736 |     1600.0    | ... |\n",
      "| -122.20312038 |     890.0     | ... |\n",
      "| -122.30748485 |     1360.0    | ... |\n",
      "+---------------+---------------+-----+\n",
      "[1939 rows x 21 columns]\n",
      "Note: Only the head of the SFrame is printed.\n",
      "You can use print_rows(num_rows=m, num_columns=n) to print more rows and columns.\n",
      "7 +------------+---------------------------+-----------+----------+-----------+\n",
      "|     id     |            date           |   price   | bedrooms | bathrooms |\n",
      "+------------+---------------------------+-----------+----------+-----------+\n",
      "| 3356402702 | 2014-07-25 00:00:00+00:00 |  215000.0 |   4.0    |    2.5    |\n",
      "| 2205700180 | 2015-04-03 00:00:00+00:00 |  545000.0 |   3.0    |    2.0    |\n",
      "| 4038400150 | 2014-11-13 00:00:00+00:00 |  465000.0 |   3.0    |    1.75   |\n",
      "| 7701960990 | 2014-08-19 00:00:00+00:00 |  870000.0 |   4.0    |    2.5    |\n",
      "| 9273200140 | 2015-01-21 00:00:00+00:00 | 1310000.0 |   2.0    |    2.25   |\n",
      "| 6749700002 | 2014-05-09 00:00:00+00:00 |  376000.0 |   3.0    |    2.0    |\n",
      "| 4027701291 | 2014-08-20 00:00:00+00:00 |  550000.0 |   4.0    |    3.0    |\n",
      "| 3574801350 | 2014-11-20 00:00:00+00:00 |  410000.0 |   3.0    |    2.0    |\n",
      "| 9578090180 | 2015-04-03 00:00:00+00:00 |  850000.0 |   4.0    |    3.0    |\n",
      "| 0526059103 | 2014-10-13 00:00:00+00:00 |  325000.0 |   2.0    |    1.0    |\n",
      "+------------+---------------------------+-----------+----------+-----------+\n",
      "+-------------+----------+--------+------------+------+-----------+-------+------------+\n",
      "| sqft_living | sqft_lot | floors | waterfront | view | condition | grade | sqft_above |\n",
      "+-------------+----------+--------+------------+------+-----------+-------+------------+\n",
      "|    1847.0   |   8000   |   2    |     0      |  0   |     3     |   7   |    1847    |\n",
      "|    1610.0   |   8069   |   1    |     0      |  0   |     5     |   7   |    1090    |\n",
      "|    2760.0   |   9137   |   1    |     0      |  0   |     3     |   7   |    1380    |\n",
      "|    3190.0   |  14565   |   2    |     0      |  0   |     3     |   11  |    3190    |\n",
      "|    3950.0   |   3938   |   2    |     0      |  4   |     3     |   10  |    2910    |\n",
      "|    1340.0   |   1384   |   3    |     0      |  0   |     3     |   8   |    1340    |\n",
      "|    2760.0   |  13113   |   1    |     0      |  0   |     4     |   8   |    1760    |\n",
      "|    1410.0   |   8088   |   1    |     0      |  0   |     3     |   7   |    1410    |\n",
      "|    3070.0   |   7150   |   2    |     0      |  0   |     3     |   9   |    3070    |\n",
      "|    990.0    |  15120   |   1    |     0      |  0   |     4     |   6   |    990     |\n",
      "+-------------+----------+--------+------------+------+-----------+-------+------------+\n",
      "+---------------+----------+--------------+---------+-------------+\n",
      "| sqft_basement | yr_built | yr_renovated | zipcode |     lat     |\n",
      "+---------------+----------+--------------+---------+-------------+\n",
      "|       0       |   2008   |      0       |  98001  | 47.28716645 |\n",
      "|      520      |   1955   |      0       |  98006  | 47.57543428 |\n",
      "|      1380     |   1960   |      0       |  98007  | 47.60792195 |\n",
      "|       0       |   1990   |      0       |  98077  | 47.71303539 |\n",
      "|      1040     |   1991   |      0       |  98116  | 47.59118236 |\n",
      "|       0       |   2008   |      0       |  98103  | 47.69733238 |\n",
      "|      1000     |   1974   |      0       |  98028  | 47.76689954 |\n",
      "|       0       |   1987   |      0       |  98034  | 47.73026818 |\n",
      "|       0       |   2007   |      0       |  98052  | 47.70792904 |\n",
      "|       0       |   1953   |      0       |  98011  | 47.76694487 |\n",
      "+---------------+----------+--------------+---------+-------------+\n",
      "+---------------+---------------+-----+\n",
      "|      long     | sqft_living15 | ... |\n",
      "+---------------+---------------+-----+\n",
      "| -122.25701695 |     1847.0    | ... |\n",
      "| -122.14976336 |     1510.0    | ... |\n",
      "| -122.13186087 |     1980.0    | ... |\n",
      "| -122.07211007 |     3420.0    | ... |\n",
      "| -122.38434325 |     3220.0    | ... |\n",
      "| -122.34950083 |     1110.0    | ... |\n",
      "| -122.26760705 |     1900.0    | ... |\n",
      "| -122.22657805 |     1770.0    | ... |\n",
      "| -122.10710772 |     3200.0    | ... |\n",
      "|  -122.2055582 |     1300.0    | ... |\n",
      "+---------------+---------------+-----+\n",
      "[1938 rows x 21 columns]\n",
      "Note: Only the head of the SFrame is printed.\n",
      "You can use print_rows(num_rows=m, num_columns=n) to print more rows and columns.\n",
      "8 +------------+---------------------------+----------+----------+-----------+\n",
      "|     id     |            date           |  price   | bedrooms | bathrooms |\n",
      "+------------+---------------------------+----------+----------+-----------+\n",
      "| 8914200060 | 2015-01-15 00:00:00+00:00 | 583000.0 |   4.0    |    2.5    |\n",
      "| 3793501400 | 2014-08-20 00:00:00+00:00 | 397000.0 |   4.0    |    2.5    |\n",
      "| 7852190290 | 2015-03-03 00:00:00+00:00 | 564000.0 |   4.0    |    2.5    |\n",
      "| 8892900180 | 2014-06-17 00:00:00+00:00 | 250000.0 |   3.0    |    1.75   |\n",
      "| 2588800006 | 2014-10-21 00:00:00+00:00 | 240000.0 |   3.0    |    1.5    |\n",
      "| 4022906531 | 2014-08-06 00:00:00+00:00 | 540000.0 |   3.0    |    2.5    |\n",
      "| 4240400155 | 2014-08-12 00:00:00+00:00 | 600000.0 |   3.0    |    1.0    |\n",
      "| 1771000690 | 2014-05-28 00:00:00+00:00 | 305000.0 |   3.0    |    1.0    |\n",
      "| 1786830060 | 2014-07-07 00:00:00+00:00 | 685000.0 |   3.0    |    3.25   |\n",
      "| 0624110920 | 2014-07-25 00:00:00+00:00 | 762500.0 |   3.0    |    2.25   |\n",
      "+------------+---------------------------+----------+----------+-----------+\n",
      "+-------------+----------+--------+------------+------+-----------+-------+------------+\n",
      "| sqft_living | sqft_lot | floors | waterfront | view | condition | grade | sqft_above |\n",
      "+-------------+----------+--------+------------+------+-----------+-------+------------+\n",
      "|    3390.0   |  10519   |   2    |     0      |  2   |     3     |   10  |    3390    |\n",
      "|    3000.0   |   8584   |   2    |     0      |  0   |     3     |   7   |    3000    |\n",
      "|    2870.0   |   6658   |   2    |     0      |  0   |     3     |   8   |    2870    |\n",
      "|    1160.0   |   6134   |   1    |     0      |  0   |     3     |   7   |    1160    |\n",
      "|    1290.0   |   8366   |   1    |     0      |  0   |     3     |   7   |    1020    |\n",
      "|    2370.0   |  16455   |   1    |     0      |  0   |     5     |   7   |    1640    |\n",
      "|    1440.0   |   4300   |  1.5   |     0      |  0   |     3     |   8   |    1440    |\n",
      "|    1160.0   |  11776   |   1    |     0      |  0   |     3     |   7   |    1160    |\n",
      "|    2030.0   |  11070   |   2    |     0      |  0   |     4     |   8   |    2030    |\n",
      "|    3330.0   |  15258   |   2    |     0      |  0   |     3     |   10  |    3330    |\n",
      "+-------------+----------+--------+------------+------+-----------+-------+------------+\n",
      "+---------------+----------+--------------+---------+-------------+\n",
      "| sqft_basement | yr_built | yr_renovated | zipcode |     lat     |\n",
      "+---------------+----------+--------------+---------+-------------+\n",
      "|       0       |   1990   |      0       |  98003  | 47.33202325 |\n",
      "|       0       |   2003   |      0       |  98038  | 47.36902319 |\n",
      "|       0       |   2004   |      0       |  98065  | 47.53937308 |\n",
      "|       0       |   1998   |      0       |  98002  | 47.34139906 |\n",
      "|      270      |   1957   |      0       |  98168  | 47.48526206 |\n",
      "|      730      |   1959   |      0       |  98155  | 47.76337267 |\n",
      "|       0       |   1929   |      0       |  98117  | 47.68470066 |\n",
      "|       0       |   1968   |      0       |  98077  | 47.74271296 |\n",
      "|       0       |   1980   |      0       |  98052  | 47.64780784 |\n",
      "|       0       |   1986   |      0       |  98077  | 47.72620912 |\n",
      "+---------------+----------+--------------+---------+-------------+\n",
      "+---------------+---------------+-----+\n",
      "|      long     | sqft_living15 | ... |\n",
      "+---------------+---------------+-----+\n",
      "| -122.33362673 |     2830.0    | ... |\n",
      "| -122.03159524 |     2610.0    | ... |\n",
      "|  -121.8779479 |     2770.0    | ... |\n",
      "| -122.21847413 |     1330.0    | ... |\n",
      "| -122.31775454 |     1770.0    | ... |\n",
      "| -122.27656703 |     2170.0    | ... |\n",
      "| -122.37174854 |     1640.0    | ... |\n",
      "| -122.07435716 |     1160.0    | ... |\n",
      "|  -122.1169847 |     2450.0    | ... |\n",
      "| -122.05994646 |     3360.0    | ... |\n",
      "+---------------+---------------+-----+\n",
      "[1939 rows x 21 columns]\n",
      "Note: Only the head of the SFrame is printed.\n",
      "You can use print_rows(num_rows=m, num_columns=n) to print more rows and columns.\n",
      "9 +------------+---------------------------+-----------+----------+-----------+\n",
      "|     id     |            date           |   price   | bedrooms | bathrooms |\n",
      "+------------+---------------------------+-----------+----------+-----------+\n",
      "| 1703400585 | 2014-12-15 00:00:00+00:00 |  325000.0 |   3.0    |    2.0    |\n",
      "| 6448600060 | 2015-02-26 00:00:00+00:00 | 1550000.0 |   5.0    |    2.5    |\n",
      "| 3329500730 | 2014-11-11 00:00:00+00:00 |  220000.0 |   3.0    |    1.75   |\n",
      "| 5210200410 | 2014-11-14 00:00:00+00:00 |  840000.0 |   5.0    |    2.75   |\n",
      "| 1822069041 | 2014-11-13 00:00:00+00:00 |  400000.0 |   6.0    |    2.0    |\n",
      "| 2867700035 | 2015-02-12 00:00:00+00:00 |  500000.0 |   5.0    |    2.0    |\n",
      "| 5412101150 | 2015-02-03 00:00:00+00:00 |  299000.0 |   4.0    |    2.5    |\n",
      "| 8856004582 | 2014-07-17 00:00:00+00:00 |  198000.0 |   3.0    |    1.75   |\n",
      "| 3760500516 | 2014-07-24 00:00:00+00:00 |  835000.0 |   5.0    |    4.0    |\n",
      "| 1748800120 | 2015-03-18 00:00:00+00:00 |  353500.0 |   4.0    |    2.5    |\n",
      "+------------+---------------------------+-----------+----------+-----------+\n",
      "+-------------+----------+--------+------------+------+-----------+-------+------------+\n",
      "| sqft_living | sqft_lot | floors | waterfront | view | condition | grade | sqft_above |\n",
      "+-------------+----------+--------+------------+------+-----------+-------+------------+\n",
      "|    2330.0   |   4950   |  1.5   |     0      |  0   |     3     |   6   |    1430    |\n",
      "|    2450.0   |  20805   |   2    |     0      |  0   |     4     |   9   |    2450    |\n",
      "|    1290.0   |   8250   |   1    |     0      |  0   |     3     |   7   |    1290    |\n",
      "|    2790.0   |  20824   |   1    |     0      |  0   |     3     |   9   |    1680    |\n",
      "|    2320.0   |  210830  |   2    |     0      |  0   |     4     |   8   |    2320    |\n",
      "|    2300.0   |   7897   |  2.5   |     0      |  0   |     4     |   8   |    2300    |\n",
      "|    2400.0   |   6078   |   2    |     0      |  0   |     3     |   8   |    2400    |\n",
      "|    1300.0   |   6318   |   1    |     0      |  0   |     3     |   7   |    1300    |\n",
      "|    3600.0   |  14720   |   1    |     0      |  2   |     5     |   8   |    1800    |\n",
      "|    3250.0   |   4650   |   2    |     0      |  0   |     3     |   8   |    3250    |\n",
      "+-------------+----------+--------+------------+------+-----------+-------+------------+\n",
      "+---------------+----------+--------------+---------+-------------+\n",
      "| sqft_basement | yr_built | yr_renovated | zipcode |     lat     |\n",
      "+---------------+----------+--------------+---------+-------------+\n",
      "|      900      |   1900   |      0       |  98118  |  47.5584983 |\n",
      "|       0       |   1963   |      0       |  98004  |  47.6274628 |\n",
      "|       0       |   1983   |      0       |  98001  | 47.33528623 |\n",
      "|      1110     |   1959   |      0       |  98115  | 47.69484867 |\n",
      "|       0       |   1962   |      0       |  98058  | 47.39804533 |\n",
      "|       0       |   1956   |      0       |  98133  | 47.75557056 |\n",
      "|       0       |   2001   |      0       |  98001  | 47.26056092 |\n",
      "|       0       |   1980   |      0       |  98001  | 47.27522967 |\n",
      "|      1800     |   1960   |      0       |  98034  | 47.70219923 |\n",
      "|       0       |   2007   |      0       |  98031  |  47.4003938 |\n",
      "+---------------+----------+--------------+---------+-------------+\n",
      "+---------------+---------------+-----+\n",
      "|      long     | sqft_living15 | ... |\n",
      "+---------------+---------------+-----+\n",
      "| -122.29008364 |     1160.0    | ... |\n",
      "| -122.22691716 |     3020.0    | ... |\n",
      "| -122.26985762 |     1410.0    | ... |\n",
      "| -122.28184523 |     2380.0    | ... |\n",
      "| -122.08076107 |     2540.0    | ... |\n",
      "| -122.35602491 |     2030.0    | ... |\n",
      "|  -122.2854114 |     2406.0    | ... |\n",
      "| -122.25066161 |     1150.0    | ... |\n",
      "| -122.22723014 |     3600.0    | ... |\n",
      "| -122.20324301 |     2960.0    | ... |\n",
      "+---------------+---------------+-----+\n",
      "[1939 rows x 21 columns]\n",
      "Note: Only the head of the SFrame is printed.\n",
      "You can use print_rows(num_rows=m, num_columns=n) to print more rows and columns.\n"
     ]
    }
   ],
   "source": [
    "n = len(train_valid_shuffled)\n",
    "k = 10 # 10-fold cross-validation\n",
    "putin_set = []\n",
    "for i in xrange(k):\n",
    "    start = (n*i)/k\n",
    "    end = (n*(i+1))/k-1\n",
    "    print i, train_valid_shuffled[start:end]\n",
    "    putin_set.append(train_valid_shuffled[start:end])"
   ]
  },
  {
   "cell_type": "code",
   "execution_count": 378,
   "metadata": {
    "collapsed": false
   },
   "outputs": [],
   "source": [
    "def here_is_your_set(k,train_valid_shuffled,choose_set):\n",
    "    #n = len(train_valid_shuffled)\n",
    "    #k = 10 # 10-fold cross-validation\n",
    "    #choose_set = 4\n",
    "    train_set = None\n",
    "    for i in xrange(k):\n",
    "        start = (n*i)/k\n",
    "        end = (n*(i+1))/k-1\n",
    "        #print i, train_valid_shuffled[start:end]\n",
    "        if i == choose_set - 1:\n",
    "            validation_set = train_valid_shuffled[start:end]\n",
    "        else:\n",
    "            if train_set:\n",
    "                train_set = train_set.append(train_valid_shuffled[start:end])\n",
    "                #print 'set',type(train_set),'  ',type(train_valid_shuffled[start:end])\n",
    "                #print len (train_set)\n",
    "            else:\n",
    "                train_set = train_valid_shuffled[start:end]\n",
    "    return [validation_set,train_set]\n"
   ]
  },
  {
   "cell_type": "code",
   "execution_count": 364,
   "metadata": {
    "collapsed": false
   },
   "outputs": [
    {
     "name": "stdout",
     "output_type": "stream",
     "text": [
      "1939\n",
      "17447\n"
     ]
    }
   ],
   "source": [
    "the_twoset = here_is_your_set(10,train_valid_shuffled,4)\n",
    "\n",
    "validation_set = the_twoset[0]\n",
    "train_set = the_twoset[1]\n",
    "\n",
    "print len(validation_set)\n",
    "print len(train_set)"
   ]
  },
  {
   "cell_type": "code",
   "execution_count": 194,
   "metadata": {
    "collapsed": false
   },
   "outputs": [
    {
     "name": "stdout",
     "output_type": "stream",
     "text": [
      "1\n"
     ]
    }
   ],
   "source": [
    "if train_set:\n",
    "    print 1"
   ]
  },
  {
   "cell_type": "code",
   "execution_count": 115,
   "metadata": {
    "collapsed": false
   },
   "outputs": [
    {
     "data": {
      "text/plain": [
       "10"
      ]
     },
     "execution_count": 115,
     "metadata": {},
     "output_type": "execute_result"
    }
   ],
   "source": [
    "len(putin_set)"
   ]
  },
  {
   "cell_type": "code",
   "execution_count": 150,
   "metadata": {
    "collapsed": true
   },
   "outputs": [
    {
     "data": {
      "text/plain": [
       "[Columns:\n",
       " \tid\tstr\n",
       " \tdate\tdatetime\n",
       " \tprice\tfloat\n",
       " \tbedrooms\tfloat\n",
       " \tbathrooms\tfloat\n",
       " \tsqft_living\tfloat\n",
       " \tsqft_lot\tint\n",
       " \tfloors\tstr\n",
       " \twaterfront\tint\n",
       " \tview\tint\n",
       " \tcondition\tint\n",
       " \tgrade\tint\n",
       " \tsqft_above\tint\n",
       " \tsqft_basement\tint\n",
       " \tyr_built\tint\n",
       " \tyr_renovated\tint\n",
       " \tzipcode\tstr\n",
       " \tlat\tfloat\n",
       " \tlong\tfloat\n",
       " \tsqft_living15\tfloat\n",
       " \tsqft_lot15\tfloat\n",
       " \n",
       " Rows: 1938\n",
       " \n",
       " Data:\n",
       " +------------+---------------------------+----------+----------+-----------+\n",
       " |     id     |            date           |  price   | bedrooms | bathrooms |\n",
       " +------------+---------------------------+----------+----------+-----------+\n",
       " | 2780400035 | 2014-05-05 00:00:00+00:00 | 665000.0 |   4.0    |    2.5    |\n",
       " | 1703050500 | 2015-03-21 00:00:00+00:00 | 645000.0 |   3.0    |    2.5    |\n",
       " | 5700002325 | 2014-06-05 00:00:00+00:00 | 640000.0 |   3.0    |    1.75   |\n",
       " | 0475000510 | 2014-11-18 00:00:00+00:00 | 594000.0 |   3.0    |    1.0    |\n",
       " | 0844001052 | 2015-01-28 00:00:00+00:00 | 365000.0 |   4.0    |    2.5    |\n",
       " | 2781280290 | 2015-04-27 00:00:00+00:00 | 305000.0 |   3.0    |    2.5    |\n",
       " | 2214800630 | 2014-11-05 00:00:00+00:00 | 239950.0 |   3.0    |    2.25   |\n",
       " | 2114700540 | 2014-10-21 00:00:00+00:00 | 366000.0 |   3.0    |    2.5    |\n",
       " | 2596400050 | 2014-07-30 00:00:00+00:00 | 375000.0 |   3.0    |    1.0    |\n",
       " | 4140900050 | 2015-01-26 00:00:00+00:00 | 440000.0 |   4.0    |    1.75   |\n",
       " +------------+---------------------------+----------+----------+-----------+\n",
       " +-------------+----------+--------+------------+------+-----------+-------+------------+\n",
       " | sqft_living | sqft_lot | floors | waterfront | view | condition | grade | sqft_above |\n",
       " +-------------+----------+--------+------------+------+-----------+-------+------------+\n",
       " |    2800.0   |   5900   |   1    |     0      |  0   |     3     |   8   |    1660    |\n",
       " |    2490.0   |   5978   |   2    |     0      |  0   |     3     |   9   |    2490    |\n",
       " |    2340.0   |   4206   |   1    |     0      |  0   |     5     |   7   |    1170    |\n",
       " |    1320.0   |   5000   |   1    |     0      |  0   |     4     |   7   |    1090    |\n",
       " |    1904.0   |   8200   |   2    |     0      |  0   |     5     |   7   |    1904    |\n",
       " |    1610.0   |   3516   |   2    |     0      |  0   |     3     |   8   |    1610    |\n",
       " |    1560.0   |   8280   |   2    |     0      |  0   |     4     |   7   |    1560    |\n",
       " |    1320.0   |   4320   |   1    |     0      |  0   |     3     |   6   |    660     |\n",
       " |    1960.0   |   7955   |   1    |     0      |  0   |     4     |   7   |    1260    |\n",
       " |    2180.0   |  10200   |   1    |     0      |  2   |     3     |   8   |    2000    |\n",
       " +-------------+----------+--------+------------+------+-----------+-------+------------+\n",
       " +---------------+----------+--------------+---------+-------------+\n",
       " | sqft_basement | yr_built | yr_renovated | zipcode |     lat     |\n",
       " +---------------+----------+--------------+---------+-------------+\n",
       " |      1140     |   1963   |      0       |  98115  | 47.68093246 |\n",
       " |       0       |   2003   |      0       |  98074  | 47.62984888 |\n",
       " |      1170     |   1917   |      0       |  98144  | 47.57587004 |\n",
       " |      230      |   1920   |      0       |  98107  | 47.66737217 |\n",
       " |       0       |   1999   |      0       |  98010  | 47.31068733 |\n",
       " |       0       |   2006   |      0       |  98055  | 47.44911017 |\n",
       " |       0       |   1979   |      0       |  98001  | 47.33933392 |\n",
       " |      660      |   1918   |      0       |  98106  | 47.53271982 |\n",
       " |      700      |   1963   |      0       |  98177  | 47.76407345 |\n",
       " |      180      |   1966   |      0       |  98028  | 47.76382378 |\n",
       " +---------------+----------+--------------+---------+-------------+\n",
       " +---------------+---------------+-----+\n",
       " |      long     | sqft_living15 | ... |\n",
       " +---------------+---------------+-----+\n",
       " | -122.28583258 |     2580.0    | ... |\n",
       " | -122.02177564 |     2710.0    | ... |\n",
       " |   -122.28796  |     1360.0    | ... |\n",
       " | -122.36472902 |     1700.0    | ... |\n",
       " |  -122.0012452 |     1560.0    | ... |\n",
       " |  -122.1878086 |     1610.0    | ... |\n",
       " | -122.25864364 |     1920.0    | ... |\n",
       " | -122.34716948 |     1190.0    | ... |\n",
       " | -122.36361517 |     1850.0    | ... |\n",
       " | -122.27022456 |     2590.0    | ... |\n",
       " +---------------+---------------+-----+\n",
       " [1938 rows x 21 columns]\n",
       " Note: Only the head of the SFrame is printed.\n",
       " You can use print_rows(num_rows=m, num_columns=n) to print more rows and columns.,\n",
       " Columns:\n",
       " \tid\tstr\n",
       " \tdate\tdatetime\n",
       " \tprice\tfloat\n",
       " \tbedrooms\tfloat\n",
       " \tbathrooms\tfloat\n",
       " \tsqft_living\tfloat\n",
       " \tsqft_lot\tint\n",
       " \tfloors\tstr\n",
       " \twaterfront\tint\n",
       " \tview\tint\n",
       " \tcondition\tint\n",
       " \tgrade\tint\n",
       " \tsqft_above\tint\n",
       " \tsqft_basement\tint\n",
       " \tyr_built\tint\n",
       " \tyr_renovated\tint\n",
       " \tzipcode\tstr\n",
       " \tlat\tfloat\n",
       " \tlong\tfloat\n",
       " \tsqft_living15\tfloat\n",
       " \tsqft_lot15\tfloat\n",
       " \n",
       " Rows: 1939\n",
       " \n",
       " Data:\n",
       " +------------+---------------------------+-----------+----------+-----------+\n",
       " |     id     |            date           |   price   | bedrooms | bathrooms |\n",
       " +------------+---------------------------+-----------+----------+-----------+\n",
       " | 7857000716 | 2015-03-13 00:00:00+00:00 |  334998.0 |   2.0    |    1.0    |\n",
       " | 9527000330 | 2014-08-11 00:00:00+00:00 |  508000.0 |   6.0    |    2.75   |\n",
       " | 1310440470 | 2015-01-13 00:00:00+00:00 |  441000.0 |   3.0    |    2.5    |\n",
       " | 1118000340 | 2015-04-08 00:00:00+00:00 | 3000000.0 |   5.0    |    3.75   |\n",
       " | 3121500020 | 2014-07-02 00:00:00+00:00 |  700000.0 |   3.0    |    2.5    |\n",
       " | 1829300520 | 2015-04-12 00:00:00+00:00 |  746500.0 |   4.0    |    2.5    |\n",
       " | 2570600140 | 2015-01-28 00:00:00+00:00 |  196000.0 |   3.0    |    2.25   |\n",
       " | 7300400170 | 2014-09-10 00:00:00+00:00 |  334000.0 |   4.0    |    2.5    |\n",
       " | 1862400522 | 2014-08-22 00:00:00+00:00 |  449000.0 |   3.0    |    2.5    |\n",
       " | 3701900085 | 2014-08-05 00:00:00+00:00 |  169000.0 |   3.0    |    1.5    |\n",
       " +------------+---------------------------+-----------+----------+-----------+\n",
       " +-------------+----------+--------+------------+------+-----------+-------+------------+\n",
       " | sqft_living | sqft_lot | floors | waterfront | view | condition | grade | sqft_above |\n",
       " +-------------+----------+--------+------------+------+-----------+-------+------------+\n",
       " |    1800.0   |   5182   |   1    |     0      |  0   |     3     |   6   |    900     |\n",
       " |    2890.0   |   7500   |   1    |     0      |  0   |     4     |   8   |    1830    |\n",
       " |    2740.0   |   7923   |   2    |     0      |  0   |     3     |   9   |    2740    |\n",
       " |    4590.0   |  11265   |   2    |     0      |  0   |     4     |   11  |    3450    |\n",
       " |    2490.0   |  23891   |   2    |     0      |  0   |     3     |   9   |    2490    |\n",
       " |    3460.0   |   9699   |   2    |     0      |  0   |     3     |   10  |    3460    |\n",
       " |    1510.0   |   9600   |   1    |     0      |  0   |     1     |   7   |    1090    |\n",
       " |    2310.0   |   6200   |   2    |     0      |  0   |     3     |   8   |    2310    |\n",
       " |    1810.0   |   1658   |   3    |     0      |  0   |     3     |   8   |    1810    |\n",
       " |    1570.0   |   6450   |  1.5   |     0      |  0   |     4     |   6   |    1570    |\n",
       " +-------------+----------+--------+------------+------+-----------+-------+------------+\n",
       " +---------------+----------+--------------+---------+-------------+\n",
       " | sqft_basement | yr_built | yr_renovated | zipcode |     lat     |\n",
       " +---------------+----------+--------------+---------+-------------+\n",
       " |      900      |   1942   |      0       |  98108  | 47.55077672 |\n",
       " |      1060     |   1976   |      0       |  98034  | 47.70993819 |\n",
       " |       0       |   1998   |      0       |  98058  | 47.43491246 |\n",
       " |      1140     |   1927   |      0       |  98112  | 47.63894894 |\n",
       " |       0       |   1993   |      0       |  98053  | 47.67162644 |\n",
       " |       0       |   1987   |      0       |  98074  | 47.63696509 |\n",
       " |      420      |   1966   |      0       |  98028  |  47.775797  |\n",
       " |       0       |   1998   |      0       |  98092  | 47.33209432 |\n",
       " |       0       |   1998   |      0       |  98117  | 47.69553373 |\n",
       " |       0       |   1931   |      0       |  98022  | 47.20205465 |\n",
       " +---------------+----------+--------------+---------+-------------+\n",
       " +---------------+---------------+-----+\n",
       " |      long     | sqft_living15 | ... |\n",
       " +---------------+---------------+-----+\n",
       " | -122.30041617 |     1570.0    | ... |\n",
       " | -122.22997237 |     1880.0    | ... |\n",
       " | -122.10542492 |     2740.0    | ... |\n",
       " |  -122.287666  |     3870.0    | ... |\n",
       " | -122.02947748 |     2900.0    | ... |\n",
       " |  -122.040235  |     3140.0    | ... |\n",
       " | -122.23765692 |     1870.0    | ... |\n",
       " | -122.17162059 |     2480.0    | ... |\n",
       " | -122.37623492 |     1470.0    | ... |\n",
       " | -121.99640648 |     1400.0    | ... |\n",
       " +---------------+---------------+-----+\n",
       " [1939 rows x 21 columns]\n",
       " Note: Only the head of the SFrame is printed.\n",
       " You can use print_rows(num_rows=m, num_columns=n) to print more rows and columns.,\n",
       " Columns:\n",
       " \tid\tstr\n",
       " \tdate\tdatetime\n",
       " \tprice\tfloat\n",
       " \tbedrooms\tfloat\n",
       " \tbathrooms\tfloat\n",
       " \tsqft_living\tfloat\n",
       " \tsqft_lot\tint\n",
       " \tfloors\tstr\n",
       " \twaterfront\tint\n",
       " \tview\tint\n",
       " \tcondition\tint\n",
       " \tgrade\tint\n",
       " \tsqft_above\tint\n",
       " \tsqft_basement\tint\n",
       " \tyr_built\tint\n",
       " \tyr_renovated\tint\n",
       " \tzipcode\tstr\n",
       " \tlat\tfloat\n",
       " \tlong\tfloat\n",
       " \tsqft_living15\tfloat\n",
       " \tsqft_lot15\tfloat\n",
       " \n",
       " Rows: 1938\n",
       " \n",
       " Data:\n",
       " +------------+---------------------------+-----------+----------+-----------+\n",
       " |     id     |            date           |   price   | bedrooms | bathrooms |\n",
       " +------------+---------------------------+-----------+----------+-----------+\n",
       " | 3205200240 | 2015-04-30 00:00:00+00:00 |  420000.0 |   4.0    |    1.75   |\n",
       " | 5706200060 | 2014-08-18 00:00:00+00:00 |  399950.0 |   3.0    |    1.0    |\n",
       " | 8635750980 | 2014-07-14 00:00:00+00:00 |  570000.0 |   4.0    |    2.5    |\n",
       " | 6648770240 | 2014-12-24 00:00:00+00:00 |  360000.0 |   4.0    |    2.5    |\n",
       " | 0486000085 | 2014-08-15 00:00:00+00:00 |  866800.0 |   4.0    |    3.5    |\n",
       " | 8857640040 | 2015-04-10 00:00:00+00:00 |  425000.0 |   4.0    |    2.5    |\n",
       " | 7811100230 | 2014-07-24 00:00:00+00:00 |  650000.0 |   4.0    |    2.75   |\n",
       " | 9407110710 | 2014-11-07 00:00:00+00:00 |  195000.0 |   3.0    |    1.75   |\n",
       " | 8106100085 | 2014-05-09 00:00:00+00:00 | 1702500.0 |   5.0    |    4.5    |\n",
       " | 2622029073 | 2014-09-05 00:00:00+00:00 |  437500.0 |   3.0    |    2.25   |\n",
       " +------------+---------------------------+-----------+----------+-----------+\n",
       " +-------------+----------+--------+------------+------+-----------+-------+------------+\n",
       " | sqft_living | sqft_lot | floors | waterfront | view | condition | grade | sqft_above |\n",
       " +-------------+----------+--------+------------+------+-----------+-------+------------+\n",
       " |    1340.0   |   8400   |   1    |     0      |  0   |     5     |   7   |    1340    |\n",
       " |    1020.0   |  18050   |   1    |     0      |  0   |     3     |   7   |    1020    |\n",
       " |    2640.0   |   4200   |   2    |     0      |  0   |     3     |   8   |    2640    |\n",
       " |    2390.0   |   7056   |   2    |     0      |  0   |     3     |   9   |    2390    |\n",
       " |    2970.0   |   5000   |   2    |     0      |  2   |     3     |   9   |    2200    |\n",
       " |    2400.0   |   6053   |   2    |     0      |  0   |     3     |   8   |    2400    |\n",
       " |    2020.0   |  15810   |   1    |     0      |  0   |     4     |   9   |    1620    |\n",
       " |    1510.0   |   8400   |   1    |     0      |  0   |     2     |   7   |    980     |\n",
       " |    5190.0   |  23716   |   2    |     0      |  2   |     3     |   11  |    3390    |\n",
       " |    2100.0   |  205603  |   2    |     0      |  0   |     3     |   8   |    2100    |\n",
       " +-------------+----------+--------+------------+------+-----------+-------+------------+\n",
       " +---------------+----------+--------------+---------+-------------+\n",
       " | sqft_basement | yr_built | yr_renovated | zipcode |     lat     |\n",
       " +---------------+----------+--------------+---------+-------------+\n",
       " |       0       |   1967   |      0       |  98056  | 47.53817915 |\n",
       " |       0       |   1969   |      0       |  98027  | 47.52541976 |\n",
       " |       0       |   1998   |      0       |  98074  | 47.60378453 |\n",
       " |       0       |   1990   |      0       |  98001  | 47.33849044 |\n",
       " |      770      |   2001   |      0       |  98117  | 47.67721979 |\n",
       " |       0       |   2001   |      0       |  98038  | 47.38693934 |\n",
       " |      400      |   1967   |      0       |  98005  | 47.59212896 |\n",
       " |      530      |   1979   |      0       |  98045  | 47.44761754 |\n",
       " |      1800     |   1987   |     2000     |  98040  | 47.58460421 |\n",
       " |       0       |   1983   |      0       |  98070  | 47.36679324 |\n",
       " +---------------+----------+--------------+---------+-------------+\n",
       " +---------------+---------------+-----+\n",
       " |      long     | sqft_living15 | ... |\n",
       " +---------------+---------------+-----+\n",
       " | -122.17338453 |     1980.0    | ... |\n",
       " | -122.04257381 |     1750.0    | ... |\n",
       " | -122.01958677 |     2460.0    | ... |\n",
       " | -122.26444566 |     2590.0    | ... |\n",
       " | -122.39917939 |     1470.0    | ... |\n",
       " | -122.03267447 |     2460.0    | ... |\n",
       " | -122.15482594 |     2210.0    | ... |\n",
       " | -121.77108672 |     1500.0    | ... |\n",
       " | -122.22293588 |     4460.0    | ... |\n",
       " | -122.50471328 |     2396.0    | ... |\n",
       " +---------------+---------------+-----+\n",
       " [1938 rows x 21 columns]\n",
       " Note: Only the head of the SFrame is printed.\n",
       " You can use print_rows(num_rows=m, num_columns=n) to print more rows and columns.,\n",
       " Columns:\n",
       " \tid\tstr\n",
       " \tdate\tdatetime\n",
       " \tprice\tfloat\n",
       " \tbedrooms\tfloat\n",
       " \tbathrooms\tfloat\n",
       " \tsqft_living\tfloat\n",
       " \tsqft_lot\tint\n",
       " \tfloors\tstr\n",
       " \twaterfront\tint\n",
       " \tview\tint\n",
       " \tcondition\tint\n",
       " \tgrade\tint\n",
       " \tsqft_above\tint\n",
       " \tsqft_basement\tint\n",
       " \tyr_built\tint\n",
       " \tyr_renovated\tint\n",
       " \tzipcode\tstr\n",
       " \tlat\tfloat\n",
       " \tlong\tfloat\n",
       " \tsqft_living15\tfloat\n",
       " \tsqft_lot15\tfloat\n",
       " \n",
       " Rows: 1939\n",
       " \n",
       " Data:\n",
       " +------------+---------------------------+----------+----------+-----------+\n",
       " |     id     |            date           |  price   | bedrooms | bathrooms |\n",
       " +------------+---------------------------+----------+----------+-----------+\n",
       " | 3342102880 | 2014-08-11 00:00:00+00:00 | 464000.0 |   3.0    |    2.5    |\n",
       " | 5113400364 | 2015-01-26 00:00:00+00:00 | 650000.0 |   4.0    |    1.5    |\n",
       " | 0984210170 | 2015-03-26 00:00:00+00:00 | 256500.0 |   5.0    |    2.5    |\n",
       " | 6117501755 | 2014-12-30 00:00:00+00:00 | 355000.0 |   4.0    |    1.5    |\n",
       " | 4307300520 | 2015-04-23 00:00:00+00:00 | 359000.0 |   4.0    |    2.5    |\n",
       " | 2926049504 | 2015-04-02 00:00:00+00:00 | 500000.0 |   3.0    |    2.25   |\n",
       " | 2518400046 | 2014-11-18 00:00:00+00:00 | 456700.0 |   3.0    |    1.75   |\n",
       " | 4037000925 | 2015-03-27 00:00:00+00:00 | 650000.0 |   5.0    |    2.25   |\n",
       " | 6400700389 | 2014-07-10 00:00:00+00:00 | 875000.0 |   5.0    |    3.0    |\n",
       " | 1422200090 | 2014-09-15 00:00:00+00:00 | 676500.0 |   3.0    |    1.75   |\n",
       " +------------+---------------------------+----------+----------+-----------+\n",
       " +-------------+----------+--------+------------+------+-----------+-------+------------+\n",
       " | sqft_living | sqft_lot | floors | waterfront | view | condition | grade | sqft_above |\n",
       " +-------------+----------+--------+------------+------+-----------+-------+------------+\n",
       " |    2460.0   |   5400   |   1    |     0      |  0   |     4     |   8   |    1520    |\n",
       " |    2480.0   |   6383   |   1    |     0      |  0   |     3     |   7   |    1380    |\n",
       " |    1960.0   |   7350   |   1    |     0      |  0   |     4     |   7   |    1360    |\n",
       " |    2230.0   |  11536   |   1    |     0      |  1   |     4     |   7   |    1220    |\n",
       " |    2160.0   |   4500   |   2    |     0      |  0   |     3     |   7   |    2160    |\n",
       " |    1700.0   |   9008   |   1    |     0      |  0   |     3     |   8   |    1340    |\n",
       " |    2820.0   |   8879   |   1    |     0      |  0   |     5     |   7   |    1540    |\n",
       " |    2400.0   |  13450   |   1    |     0      |  0   |     5     |   7   |    1200    |\n",
       " |    2960.0   |  15152   |   2    |     0      |  0   |     3     |   9   |    2960    |\n",
       " |    1300.0   |   2446   |   1    |     0      |  3   |     3     |   8   |    880     |\n",
       " +-------------+----------+--------+------------+------+-----------+-------+------------+\n",
       " +---------------+----------+--------------+---------+-------------+\n",
       " | sqft_basement | yr_built | yr_renovated | zipcode |     lat     |\n",
       " +---------------+----------+--------------+---------+-------------+\n",
       " |      940      |   2001   |      0       |  98056  | 47.52306154 |\n",
       " |      1100     |   1946   |      0       |  98119  | 47.64453024 |\n",
       " |      600      |   1969   |      0       |  98058  | 47.43683519 |\n",
       " |      1010     |   1954   |      0       |  98166  | 47.44093899 |\n",
       " |       0       |   2002   |      0       |  98056  | 47.48190195 |\n",
       " |      360      |   1985   |      0       |  98125  | 47.71607008 |\n",
       " |      1280     |   1920   |     1957     |  98146  | 47.50941164 |\n",
       " |      1200     |   1957   |      0       |  98008  | 47.60065127 |\n",
       " |       0       |   2004   |      0       |  98033  |  47.6688659 |\n",
       " |      420      |   1961   |      0       |  98122  | 47.60712689 |\n",
       " +---------------+----------+--------------+---------+-------------+\n",
       " +---------------+---------------+-----+\n",
       " |      long     | sqft_living15 | ... |\n",
       " +---------------+---------------+-----+\n",
       " | -122.20192581 |     1745.0    | ... |\n",
       " | -122.37387334 |     1440.0    | ... |\n",
       " | -122.16517391 |     1900.0    | ... |\n",
       " | -122.34766805 |     2170.0    | ... |\n",
       " | -122.18214778 |     2160.0    | ... |\n",
       " | -122.31712527 |     2340.0    | ... |\n",
       " | -122.37625093 |     1640.0    | ... |\n",
       " | -122.11687972 |     1950.0    | ... |\n",
       " | -122.17936814 |     1850.0    | ... |\n",
       " | -122.28486411 |     2440.0    | ... |\n",
       " +---------------+---------------+-----+\n",
       " [1939 rows x 21 columns]\n",
       " Note: Only the head of the SFrame is printed.\n",
       " You can use print_rows(num_rows=m, num_columns=n) to print more rows and columns.,\n",
       " Columns:\n",
       " \tid\tstr\n",
       " \tdate\tdatetime\n",
       " \tprice\tfloat\n",
       " \tbedrooms\tfloat\n",
       " \tbathrooms\tfloat\n",
       " \tsqft_living\tfloat\n",
       " \tsqft_lot\tint\n",
       " \tfloors\tstr\n",
       " \twaterfront\tint\n",
       " \tview\tint\n",
       " \tcondition\tint\n",
       " \tgrade\tint\n",
       " \tsqft_above\tint\n",
       " \tsqft_basement\tint\n",
       " \tyr_built\tint\n",
       " \tyr_renovated\tint\n",
       " \tzipcode\tstr\n",
       " \tlat\tfloat\n",
       " \tlong\tfloat\n",
       " \tsqft_living15\tfloat\n",
       " \tsqft_lot15\tfloat\n",
       " \n",
       " Rows: 1939\n",
       " \n",
       " Data:\n",
       " +------------+---------------------------+----------+----------+-----------+\n",
       " |     id     |            date           |  price   | bedrooms | bathrooms |\n",
       " +------------+---------------------------+----------+----------+-----------+\n",
       " | 1523059103 | 2014-09-26 00:00:00+00:00 | 390000.0 |   4.0    |    2.5    |\n",
       " | 7183000070 | 2014-08-21 00:00:00+00:00 | 369160.0 |   4.0    |    2.25   |\n",
       " | 1402200440 | 2015-02-12 00:00:00+00:00 | 410000.0 |   5.0    |    2.75   |\n",
       " | 8113100150 | 2014-07-14 00:00:00+00:00 | 210000.0 |   3.0    |    1.0    |\n",
       " | 3888100022 | 2014-09-25 00:00:00+00:00 | 649800.0 |   4.0    |    2.5    |\n",
       " | 9513900050 | 2014-08-12 00:00:00+00:00 | 237000.0 |   3.0    |    2.0    |\n",
       " | 6116500366 | 2015-04-01 00:00:00+00:00 | 439000.0 |   3.0    |    1.0    |\n",
       " | 4279600080 | 2014-12-31 00:00:00+00:00 | 609000.0 |   6.0    |    3.0    |\n",
       " | 7696610240 | 2014-12-10 00:00:00+00:00 | 257000.0 |   4.0    |    1.5    |\n",
       " | 7861000021 | 2015-04-29 00:00:00+00:00 | 309933.0 |   3.0    |    1.75   |\n",
       " +------------+---------------------------+----------+----------+-----------+\n",
       " +-------------+----------+--------+------------+------+-----------+-------+------------+\n",
       " | sqft_living | sqft_lot | floors | waterfront | view | condition | grade | sqft_above |\n",
       " +-------------+----------+--------+------------+------+-----------+-------+------------+\n",
       " |    2570.0   |  22215   |   2    |     0      |  0   |     5     |   7   |    2570    |\n",
       " |    2120.0   |   9680   |   2    |     0      |  2   |     4     |   8   |    2120    |\n",
       " |    2910.0   |  16410   |  1.5   |     0      |  0   |     4     |   8   |    2910    |\n",
       " |    920.0    |   6612   |   1    |     0      |  0   |     3     |   6   |    920     |\n",
       " |    2280.0   |   9827   |   2    |     0      |  0   |     3     |   8   |    2280    |\n",
       " |    1210.0   |   6634   |   1    |     0      |  0   |     4     |   7   |    1210    |\n",
       " |    1530.0   |  19007   |   1    |     0      |  0   |     4     |   8   |    1290    |\n",
       " |    2470.0   |   9267   |   2    |     0      |  0   |     3     |   8   |    2470    |\n",
       " |    1400.0   |   8500   |   2    |     0      |  0   |     3     |   7   |    1400    |\n",
       " |    1820.0   |  78408   |   1    |     0      |  0   |     3     |   6   |    1220    |\n",
       " +-------------+----------+--------+------------+------+-----------+-------+------------+\n",
       " +---------------+----------+--------------+---------+-------------+\n",
       " | sqft_basement | yr_built | yr_renovated | zipcode |     lat     |\n",
       " +---------------+----------+--------------+---------+-------------+\n",
       " |       0       |   1958   |      0       |  98059  | 47.48330581 |\n",
       " |       0       |   1965   |      0       |  98003  | 47.33669221 |\n",
       " |       0       |   1967   |      0       |  98058  | 47.44000165 |\n",
       " |       0       |   1948   |      0       |  98118  | 47.54801538 |\n",
       " |       0       |   1995   |      0       |  98033  | 47.68828257 |\n",
       " |       0       |   1985   |      0       |  98031  | 47.40974772 |\n",
       " |      240      |   1949   |      0       |  98166  | 47.45077722 |\n",
       " |       0       |   1982   |      0       |  98007  | 47.60245986 |\n",
       " |       0       |   1975   |      0       |  98001  | 47.33143946 |\n",
       " |      600      |   1950   |      0       |  98042  | 47.33640314 |\n",
       " +---------------+----------+--------------+---------+-------------+\n",
       " +---------------+---------------+-----+\n",
       " |      long     | sqft_living15 | ... |\n",
       " +---------------+---------------+-----+\n",
       " | -122.15682358 |     2460.0    | ... |\n",
       " | -122.33195418 |     2360.0    | ... |\n",
       " | -122.14479582 |     1980.0    | ... |\n",
       " | -122.28373459 |     1860.0    | ... |\n",
       " | -122.16787166 |     1660.0    | ... |\n",
       " | -122.19270019 |     1560.0    | ... |\n",
       " | -122.35184418 |     2090.0    | ... |\n",
       " | -122.15234778 |     2470.0    | ... |\n",
       " | -122.27541021 |     1580.0    | ... |\n",
       " | -122.12796346 |     1340.0    | ... |\n",
       " +---------------+---------------+-----+\n",
       " [1939 rows x 21 columns]\n",
       " Note: Only the head of the SFrame is printed.\n",
       " You can use print_rows(num_rows=m, num_columns=n) to print more rows and columns.,\n",
       " Columns:\n",
       " \tid\tstr\n",
       " \tdate\tdatetime\n",
       " \tprice\tfloat\n",
       " \tbedrooms\tfloat\n",
       " \tbathrooms\tfloat\n",
       " \tsqft_living\tfloat\n",
       " \tsqft_lot\tint\n",
       " \tfloors\tstr\n",
       " \twaterfront\tint\n",
       " \tview\tint\n",
       " \tcondition\tint\n",
       " \tgrade\tint\n",
       " \tsqft_above\tint\n",
       " \tsqft_basement\tint\n",
       " \tyr_built\tint\n",
       " \tyr_renovated\tint\n",
       " \tzipcode\tstr\n",
       " \tlat\tfloat\n",
       " \tlong\tfloat\n",
       " \tsqft_living15\tfloat\n",
       " \tsqft_lot15\tfloat\n",
       " \n",
       " Rows: 1938\n",
       " \n",
       " Data:\n",
       " +------------+---------------------------+----------+----------+-----------+\n",
       " |     id     |            date           |  price   | bedrooms | bathrooms |\n",
       " +------------+---------------------------+----------+----------+-----------+\n",
       " | 2473460860 | 2014-10-27 00:00:00+00:00 | 260000.0 |   4.0    |    2.5    |\n",
       " | 2597800010 | 2015-03-04 00:00:00+00:00 | 600000.0 |   3.0    |    1.0    |\n",
       " | 3356403820 | 2014-12-05 00:00:00+00:00 | 115000.0 |   2.0    |    1.0    |\n",
       " | 2413301070 | 2015-03-24 00:00:00+00:00 | 280000.0 |   4.0    |    2.25   |\n",
       " | 1525069095 | 2014-06-19 00:00:00+00:00 | 925000.0 |   4.0    |    2.5    |\n",
       " | 3294700030 | 2014-05-09 00:00:00+00:00 | 280950.0 |   3.0    |    1.75   |\n",
       " | 8615800500 | 2014-08-14 00:00:00+00:00 | 875000.0 |   6.0    |    3.25   |\n",
       " | 2883200966 | 2015-03-18 00:00:00+00:00 | 780000.0 |   5.0    |    1.5    |\n",
       " | 8562600500 | 2015-01-09 00:00:00+00:00 | 520000.0 |   3.0    |    1.75   |\n",
       " | 2769600190 | 2014-07-15 00:00:00+00:00 | 630000.0 |   5.0    |    2.0    |\n",
       " +------------+---------------------------+----------+----------+-----------+\n",
       " +-------------+----------+--------+------------+------+-----------+-------+------------+\n",
       " | sqft_living | sqft_lot | floors | waterfront | view | condition | grade | sqft_above |\n",
       " +-------------+----------+--------+------------+------+-----------+-------+------------+\n",
       " |    2110.0   |   8990   |   2    |     0      |  0   |     3     |   8   |    2110    |\n",
       " |    1480.0   |  17360   |   1    |     0      |  1   |     3     |   8   |    1480    |\n",
       " |    1000.0   |  16524   |   1    |     0      |  0   |     3     |   5   |    1000    |\n",
       " |    2100.0   |   8075   |   2    |     0      |  0   |     3     |   8   |    2100    |\n",
       " |    3280.0   |  209088  |   2    |     0      |  0   |     3     |   10  |    3280    |\n",
       " |    1390.0   |   8700   |   1    |     0      |  3   |     4     |   7   |    840     |\n",
       " |    2820.0   |   4536   |   2    |     0      |  0   |     4     |   8   |    1930    |\n",
       " |    1940.0   |   4800   |   2    |     0      |  0   |     3     |   8   |    1940    |\n",
       " |    1540.0   |   7558   |   1    |     0      |  0   |     3     |   8   |    1540    |\n",
       " |    1900.0   |   5000   |   1    |     0      |  2   |     3     |   8   |    1720    |\n",
       " +-------------+----------+--------+------------+------+-----------+-------+------------+\n",
       " +---------------+----------+--------------+---------+-------------+\n",
       " | sqft_basement | yr_built | yr_renovated | zipcode |     lat     |\n",
       " +---------------+----------+--------------+---------+-------------+\n",
       " |       0       |   1977   |      0       |  98058  |  47.445678  |\n",
       " |       0       |   1954   |      0       |  98136  | 47.51793483 |\n",
       " |       0       |   1913   |      0       |  98001  | 47.28405238 |\n",
       " |       0       |   1978   |      0       |  98003  | 47.32505505 |\n",
       " |       0       |   1994   |      0       |  98053  | 47.65526261 |\n",
       " |      550      |   1912   |      0       |  98055  | 47.47245799 |\n",
       " |      890      |   1917   |      0       |  98105  | 47.66876833 |\n",
       " |       0       |   1905   |      0       |  98103  |  47.6844679 |\n",
       " |       0       |   1964   |      0       |  98052  |  47.6707158 |\n",
       " |      180      |   1957   |      0       |  98107  | 47.67354364 |\n",
       " +---------------+----------+--------------+---------+-------------+\n",
       " +---------------+---------------+-----+\n",
       " |      long     | sqft_living15 | ... |\n",
       " +---------------+---------------+-----+\n",
       " | -122.12711512 |     2040.0    | ... |\n",
       " | -122.38716846 |     2250.0    | ... |\n",
       " | -122.25473439 |     1350.0    | ... |\n",
       " | -122.32907171 |     2100.0    | ... |\n",
       " | -122.02307235 |     2460.0    | ... |\n",
       " | -122.20160824 |     1390.0    | ... |\n",
       " |  -122.3085558 |     2820.0    | ... |\n",
       " | -122.33189096 |     1750.0    | ... |\n",
       " | -122.15587403 |     1540.0    | ... |\n",
       " | -122.36152238 |     1770.0    | ... |\n",
       " +---------------+---------------+-----+\n",
       " [1938 rows x 21 columns]\n",
       " Note: Only the head of the SFrame is printed.\n",
       " You can use print_rows(num_rows=m, num_columns=n) to print more rows and columns.,\n",
       " Columns:\n",
       " \tid\tstr\n",
       " \tdate\tdatetime\n",
       " \tprice\tfloat\n",
       " \tbedrooms\tfloat\n",
       " \tbathrooms\tfloat\n",
       " \tsqft_living\tfloat\n",
       " \tsqft_lot\tint\n",
       " \tfloors\tstr\n",
       " \twaterfront\tint\n",
       " \tview\tint\n",
       " \tcondition\tint\n",
       " \tgrade\tint\n",
       " \tsqft_above\tint\n",
       " \tsqft_basement\tint\n",
       " \tyr_built\tint\n",
       " \tyr_renovated\tint\n",
       " \tzipcode\tstr\n",
       " \tlat\tfloat\n",
       " \tlong\tfloat\n",
       " \tsqft_living15\tfloat\n",
       " \tsqft_lot15\tfloat\n",
       " \n",
       " Rows: 1939\n",
       " \n",
       " Data:\n",
       " +------------+---------------------------+----------+----------+-----------+\n",
       " |     id     |            date           |  price   | bedrooms | bathrooms |\n",
       " +------------+---------------------------+----------+----------+-----------+\n",
       " | 1721801161 | 2014-10-30 00:00:00+00:00 | 236000.0 |   4.0    |    2.5    |\n",
       " | 5700004525 | 2014-06-24 00:00:00+00:00 | 970000.0 |   3.0    |    2.25   |\n",
       " | 6619910260 | 2015-04-07 00:00:00+00:00 | 536650.0 |   3.0    |    1.75   |\n",
       " | 2487200680 | 2015-02-24 00:00:00+00:00 | 447000.0 |   2.0    |    1.0    |\n",
       " | 3923400123 | 2014-10-17 00:00:00+00:00 | 294950.0 |   4.0    |    2.0    |\n",
       " | 6666830320 | 2015-03-24 00:00:00+00:00 | 950968.0 |   5.0    |    3.5    |\n",
       " | 5309100295 | 2014-10-17 00:00:00+00:00 | 782000.0 |   4.0    |    1.75   |\n",
       " | 9268200300 | 2014-05-20 00:00:00+00:00 | 490000.0 |   3.0    |    1.0    |\n",
       " | 7224000950 | 2014-11-03 00:00:00+00:00 | 238950.0 |   2.0    |    1.0    |\n",
       " | 5589300435 | 2014-12-03 00:00:00+00:00 | 359000.0 |   4.0    |    1.0    |\n",
       " +------------+---------------------------+----------+----------+-----------+\n",
       " +-------------+----------+--------+------------+------+-----------+-------+------------+\n",
       " | sqft_living | sqft_lot | floors | waterfront | view | condition | grade | sqft_above |\n",
       " +-------------+----------+--------+------------+------+-----------+-------+------------+\n",
       " |    1630.0   |   3060   |   2    |     0      |  0   |     3     |   7   |    1630    |\n",
       " |    3060.0   |   9950   |  1.5   |     0      |  2   |     4     |   9   |    1810    |\n",
       " |    2090.0   |   8910   |   1    |     0      |  0   |     3     |   8   |    1230    |\n",
       " |    720.0    |   7500   |   1    |     0      |  2   |     3     |   6   |    720     |\n",
       " |    2610.0   |  14321   |  1.5   |     0      |  0   |     4     |   6   |    1690    |\n",
       " |    3220.0   |   5081   |   2    |     0      |  0   |     3     |   8   |    3220    |\n",
       " |    1500.0   |   6820   |  1.5   |     0      |  0   |     5     |   7   |    1500    |\n",
       " |    1910.0   |   8190   |   1    |     0      |  0   |     4     |   7   |    1010    |\n",
       " |    810.0    |   4838   |   1    |     0      |  0   |     3     |   5   |    810     |\n",
       " |    2180.0   |  10617   |  1.5   |     0      |  0   |     3     |   7   |    2180    |\n",
       " +-------------+----------+--------+------------+------+-----------+-------+------------+\n",
       " +---------------+----------+--------------+---------+-------------+\n",
       " | sqft_basement | yr_built | yr_renovated | zipcode |     lat     |\n",
       " +---------------+----------+--------------+---------+-------------+\n",
       " |       0       |   2003   |      0       |  98146  |  47.5071519 |\n",
       " |      1250     |   1930   |      0       |  98144  | 47.57898245 |\n",
       " |      860      |   1975   |      0       |  98034  | 47.71489169 |\n",
       " |       0       |   1925   |      0       |  98136  | 47.51848341 |\n",
       " |      920      |   1940   |      0       |  98188  | 47.46724547 |\n",
       " |       0       |   2013   |      0       |  98052  | 47.70483254 |\n",
       " |       0       |   1905   |      0       |  98117  | 47.67938657 |\n",
       " |      900      |   1946   |      0       |  98117  | 47.69703498 |\n",
       " |       0       |   1938   |      0       |  98055  | 47.49093449 |\n",
       " |       0       |   1950   |      0       |  98155  |  47.7522261 |\n",
       " +---------------+----------+--------------+---------+-------------+\n",
       " +---------------+---------------+-----+\n",
       " |      long     | sqft_living15 | ... |\n",
       " +---------------+---------------+-----+\n",
       " | -122.33611842 |     1270.0    | ... |\n",
       " | -122.28446112 |     4950.0    | ... |\n",
       " | -122.22231231 |     2310.0    | ... |\n",
       " | -122.39189699 |     1390.0    | ... |\n",
       " | -122.29637977 |     1630.0    | ... |\n",
       " | -122.11116555 |     2970.0    | ... |\n",
       " | -122.37013886 |     1360.0    | ... |\n",
       " |  -122.3650736 |     1600.0    | ... |\n",
       " | -122.20312038 |     890.0     | ... |\n",
       " | -122.30748485 |     1360.0    | ... |\n",
       " +---------------+---------------+-----+\n",
       " [1939 rows x 21 columns]\n",
       " Note: Only the head of the SFrame is printed.\n",
       " You can use print_rows(num_rows=m, num_columns=n) to print more rows and columns.,\n",
       " Columns:\n",
       " \tid\tstr\n",
       " \tdate\tdatetime\n",
       " \tprice\tfloat\n",
       " \tbedrooms\tfloat\n",
       " \tbathrooms\tfloat\n",
       " \tsqft_living\tfloat\n",
       " \tsqft_lot\tint\n",
       " \tfloors\tstr\n",
       " \twaterfront\tint\n",
       " \tview\tint\n",
       " \tcondition\tint\n",
       " \tgrade\tint\n",
       " \tsqft_above\tint\n",
       " \tsqft_basement\tint\n",
       " \tyr_built\tint\n",
       " \tyr_renovated\tint\n",
       " \tzipcode\tstr\n",
       " \tlat\tfloat\n",
       " \tlong\tfloat\n",
       " \tsqft_living15\tfloat\n",
       " \tsqft_lot15\tfloat\n",
       " \n",
       " Rows: 1938\n",
       " \n",
       " Data:\n",
       " +------------+---------------------------+-----------+----------+-----------+\n",
       " |     id     |            date           |   price   | bedrooms | bathrooms |\n",
       " +------------+---------------------------+-----------+----------+-----------+\n",
       " | 3356402702 | 2014-07-25 00:00:00+00:00 |  215000.0 |   4.0    |    2.5    |\n",
       " | 2205700180 | 2015-04-03 00:00:00+00:00 |  545000.0 |   3.0    |    2.0    |\n",
       " | 4038400150 | 2014-11-13 00:00:00+00:00 |  465000.0 |   3.0    |    1.75   |\n",
       " | 7701960990 | 2014-08-19 00:00:00+00:00 |  870000.0 |   4.0    |    2.5    |\n",
       " | 9273200140 | 2015-01-21 00:00:00+00:00 | 1310000.0 |   2.0    |    2.25   |\n",
       " | 6749700002 | 2014-05-09 00:00:00+00:00 |  376000.0 |   3.0    |    2.0    |\n",
       " | 4027701291 | 2014-08-20 00:00:00+00:00 |  550000.0 |   4.0    |    3.0    |\n",
       " | 3574801350 | 2014-11-20 00:00:00+00:00 |  410000.0 |   3.0    |    2.0    |\n",
       " | 9578090180 | 2015-04-03 00:00:00+00:00 |  850000.0 |   4.0    |    3.0    |\n",
       " | 0526059103 | 2014-10-13 00:00:00+00:00 |  325000.0 |   2.0    |    1.0    |\n",
       " +------------+---------------------------+-----------+----------+-----------+\n",
       " +-------------+----------+--------+------------+------+-----------+-------+------------+\n",
       " | sqft_living | sqft_lot | floors | waterfront | view | condition | grade | sqft_above |\n",
       " +-------------+----------+--------+------------+------+-----------+-------+------------+\n",
       " |    1847.0   |   8000   |   2    |     0      |  0   |     3     |   7   |    1847    |\n",
       " |    1610.0   |   8069   |   1    |     0      |  0   |     5     |   7   |    1090    |\n",
       " |    2760.0   |   9137   |   1    |     0      |  0   |     3     |   7   |    1380    |\n",
       " |    3190.0   |  14565   |   2    |     0      |  0   |     3     |   11  |    3190    |\n",
       " |    3950.0   |   3938   |   2    |     0      |  4   |     3     |   10  |    2910    |\n",
       " |    1340.0   |   1384   |   3    |     0      |  0   |     3     |   8   |    1340    |\n",
       " |    2760.0   |  13113   |   1    |     0      |  0   |     4     |   8   |    1760    |\n",
       " |    1410.0   |   8088   |   1    |     0      |  0   |     3     |   7   |    1410    |\n",
       " |    3070.0   |   7150   |   2    |     0      |  0   |     3     |   9   |    3070    |\n",
       " |    990.0    |  15120   |   1    |     0      |  0   |     4     |   6   |    990     |\n",
       " +-------------+----------+--------+------------+------+-----------+-------+------------+\n",
       " +---------------+----------+--------------+---------+-------------+\n",
       " | sqft_basement | yr_built | yr_renovated | zipcode |     lat     |\n",
       " +---------------+----------+--------------+---------+-------------+\n",
       " |       0       |   2008   |      0       |  98001  | 47.28716645 |\n",
       " |      520      |   1955   |      0       |  98006  | 47.57543428 |\n",
       " |      1380     |   1960   |      0       |  98007  | 47.60792195 |\n",
       " |       0       |   1990   |      0       |  98077  | 47.71303539 |\n",
       " |      1040     |   1991   |      0       |  98116  | 47.59118236 |\n",
       " |       0       |   2008   |      0       |  98103  | 47.69733238 |\n",
       " |      1000     |   1974   |      0       |  98028  | 47.76689954 |\n",
       " |       0       |   1987   |      0       |  98034  | 47.73026818 |\n",
       " |       0       |   2007   |      0       |  98052  | 47.70792904 |\n",
       " |       0       |   1953   |      0       |  98011  | 47.76694487 |\n",
       " +---------------+----------+--------------+---------+-------------+\n",
       " +---------------+---------------+-----+\n",
       " |      long     | sqft_living15 | ... |\n",
       " +---------------+---------------+-----+\n",
       " | -122.25701695 |     1847.0    | ... |\n",
       " | -122.14976336 |     1510.0    | ... |\n",
       " | -122.13186087 |     1980.0    | ... |\n",
       " | -122.07211007 |     3420.0    | ... |\n",
       " | -122.38434325 |     3220.0    | ... |\n",
       " | -122.34950083 |     1110.0    | ... |\n",
       " | -122.26760705 |     1900.0    | ... |\n",
       " | -122.22657805 |     1770.0    | ... |\n",
       " | -122.10710772 |     3200.0    | ... |\n",
       " |  -122.2055582 |     1300.0    | ... |\n",
       " +---------------+---------------+-----+\n",
       " [1938 rows x 21 columns]\n",
       " Note: Only the head of the SFrame is printed.\n",
       " You can use print_rows(num_rows=m, num_columns=n) to print more rows and columns.,\n",
       " Columns:\n",
       " \tid\tstr\n",
       " \tdate\tdatetime\n",
       " \tprice\tfloat\n",
       " \tbedrooms\tfloat\n",
       " \tbathrooms\tfloat\n",
       " \tsqft_living\tfloat\n",
       " \tsqft_lot\tint\n",
       " \tfloors\tstr\n",
       " \twaterfront\tint\n",
       " \tview\tint\n",
       " \tcondition\tint\n",
       " \tgrade\tint\n",
       " \tsqft_above\tint\n",
       " \tsqft_basement\tint\n",
       " \tyr_built\tint\n",
       " \tyr_renovated\tint\n",
       " \tzipcode\tstr\n",
       " \tlat\tfloat\n",
       " \tlong\tfloat\n",
       " \tsqft_living15\tfloat\n",
       " \tsqft_lot15\tfloat\n",
       " \n",
       " Rows: 1939\n",
       " \n",
       " Data:\n",
       " +------------+---------------------------+----------+----------+-----------+\n",
       " |     id     |            date           |  price   | bedrooms | bathrooms |\n",
       " +------------+---------------------------+----------+----------+-----------+\n",
       " | 8914200060 | 2015-01-15 00:00:00+00:00 | 583000.0 |   4.0    |    2.5    |\n",
       " | 3793501400 | 2014-08-20 00:00:00+00:00 | 397000.0 |   4.0    |    2.5    |\n",
       " | 7852190290 | 2015-03-03 00:00:00+00:00 | 564000.0 |   4.0    |    2.5    |\n",
       " | 8892900180 | 2014-06-17 00:00:00+00:00 | 250000.0 |   3.0    |    1.75   |\n",
       " | 2588800006 | 2014-10-21 00:00:00+00:00 | 240000.0 |   3.0    |    1.5    |\n",
       " | 4022906531 | 2014-08-06 00:00:00+00:00 | 540000.0 |   3.0    |    2.5    |\n",
       " | 4240400155 | 2014-08-12 00:00:00+00:00 | 600000.0 |   3.0    |    1.0    |\n",
       " | 1771000690 | 2014-05-28 00:00:00+00:00 | 305000.0 |   3.0    |    1.0    |\n",
       " | 1786830060 | 2014-07-07 00:00:00+00:00 | 685000.0 |   3.0    |    3.25   |\n",
       " | 0624110920 | 2014-07-25 00:00:00+00:00 | 762500.0 |   3.0    |    2.25   |\n",
       " +------------+---------------------------+----------+----------+-----------+\n",
       " +-------------+----------+--------+------------+------+-----------+-------+------------+\n",
       " | sqft_living | sqft_lot | floors | waterfront | view | condition | grade | sqft_above |\n",
       " +-------------+----------+--------+------------+------+-----------+-------+------------+\n",
       " |    3390.0   |  10519   |   2    |     0      |  2   |     3     |   10  |    3390    |\n",
       " |    3000.0   |   8584   |   2    |     0      |  0   |     3     |   7   |    3000    |\n",
       " |    2870.0   |   6658   |   2    |     0      |  0   |     3     |   8   |    2870    |\n",
       " |    1160.0   |   6134   |   1    |     0      |  0   |     3     |   7   |    1160    |\n",
       " |    1290.0   |   8366   |   1    |     0      |  0   |     3     |   7   |    1020    |\n",
       " |    2370.0   |  16455   |   1    |     0      |  0   |     5     |   7   |    1640    |\n",
       " |    1440.0   |   4300   |  1.5   |     0      |  0   |     3     |   8   |    1440    |\n",
       " |    1160.0   |  11776   |   1    |     0      |  0   |     3     |   7   |    1160    |\n",
       " |    2030.0   |  11070   |   2    |     0      |  0   |     4     |   8   |    2030    |\n",
       " |    3330.0   |  15258   |   2    |     0      |  0   |     3     |   10  |    3330    |\n",
       " +-------------+----------+--------+------------+------+-----------+-------+------------+\n",
       " +---------------+----------+--------------+---------+-------------+\n",
       " | sqft_basement | yr_built | yr_renovated | zipcode |     lat     |\n",
       " +---------------+----------+--------------+---------+-------------+\n",
       " |       0       |   1990   |      0       |  98003  | 47.33202325 |\n",
       " |       0       |   2003   |      0       |  98038  | 47.36902319 |\n",
       " |       0       |   2004   |      0       |  98065  | 47.53937308 |\n",
       " |       0       |   1998   |      0       |  98002  | 47.34139906 |\n",
       " |      270      |   1957   |      0       |  98168  | 47.48526206 |\n",
       " |      730      |   1959   |      0       |  98155  | 47.76337267 |\n",
       " |       0       |   1929   |      0       |  98117  | 47.68470066 |\n",
       " |       0       |   1968   |      0       |  98077  | 47.74271296 |\n",
       " |       0       |   1980   |      0       |  98052  | 47.64780784 |\n",
       " |       0       |   1986   |      0       |  98077  | 47.72620912 |\n",
       " +---------------+----------+--------------+---------+-------------+\n",
       " +---------------+---------------+-----+\n",
       " |      long     | sqft_living15 | ... |\n",
       " +---------------+---------------+-----+\n",
       " | -122.33362673 |     2830.0    | ... |\n",
       " | -122.03159524 |     2610.0    | ... |\n",
       " |  -121.8779479 |     2770.0    | ... |\n",
       " | -122.21847413 |     1330.0    | ... |\n",
       " | -122.31775454 |     1770.0    | ... |\n",
       " | -122.27656703 |     2170.0    | ... |\n",
       " | -122.37174854 |     1640.0    | ... |\n",
       " | -122.07435716 |     1160.0    | ... |\n",
       " |  -122.1169847 |     2450.0    | ... |\n",
       " | -122.05994646 |     3360.0    | ... |\n",
       " +---------------+---------------+-----+\n",
       " [1939 rows x 21 columns]\n",
       " Note: Only the head of the SFrame is printed.\n",
       " You can use print_rows(num_rows=m, num_columns=n) to print more rows and columns.,\n",
       " Columns:\n",
       " \tid\tstr\n",
       " \tdate\tdatetime\n",
       " \tprice\tfloat\n",
       " \tbedrooms\tfloat\n",
       " \tbathrooms\tfloat\n",
       " \tsqft_living\tfloat\n",
       " \tsqft_lot\tint\n",
       " \tfloors\tstr\n",
       " \twaterfront\tint\n",
       " \tview\tint\n",
       " \tcondition\tint\n",
       " \tgrade\tint\n",
       " \tsqft_above\tint\n",
       " \tsqft_basement\tint\n",
       " \tyr_built\tint\n",
       " \tyr_renovated\tint\n",
       " \tzipcode\tstr\n",
       " \tlat\tfloat\n",
       " \tlong\tfloat\n",
       " \tsqft_living15\tfloat\n",
       " \tsqft_lot15\tfloat\n",
       " \n",
       " Rows: 1939\n",
       " \n",
       " Data:\n",
       " +------------+---------------------------+-----------+----------+-----------+\n",
       " |     id     |            date           |   price   | bedrooms | bathrooms |\n",
       " +------------+---------------------------+-----------+----------+-----------+\n",
       " | 1703400585 | 2014-12-15 00:00:00+00:00 |  325000.0 |   3.0    |    2.0    |\n",
       " | 6448600060 | 2015-02-26 00:00:00+00:00 | 1550000.0 |   5.0    |    2.5    |\n",
       " | 3329500730 | 2014-11-11 00:00:00+00:00 |  220000.0 |   3.0    |    1.75   |\n",
       " | 5210200410 | 2014-11-14 00:00:00+00:00 |  840000.0 |   5.0    |    2.75   |\n",
       " | 1822069041 | 2014-11-13 00:00:00+00:00 |  400000.0 |   6.0    |    2.0    |\n",
       " | 2867700035 | 2015-02-12 00:00:00+00:00 |  500000.0 |   5.0    |    2.0    |\n",
       " | 5412101150 | 2015-02-03 00:00:00+00:00 |  299000.0 |   4.0    |    2.5    |\n",
       " | 8856004582 | 2014-07-17 00:00:00+00:00 |  198000.0 |   3.0    |    1.75   |\n",
       " | 3760500516 | 2014-07-24 00:00:00+00:00 |  835000.0 |   5.0    |    4.0    |\n",
       " | 1748800120 | 2015-03-18 00:00:00+00:00 |  353500.0 |   4.0    |    2.5    |\n",
       " +------------+---------------------------+-----------+----------+-----------+\n",
       " +-------------+----------+--------+------------+------+-----------+-------+------------+\n",
       " | sqft_living | sqft_lot | floors | waterfront | view | condition | grade | sqft_above |\n",
       " +-------------+----------+--------+------------+------+-----------+-------+------------+\n",
       " |    2330.0   |   4950   |  1.5   |     0      |  0   |     3     |   6   |    1430    |\n",
       " |    2450.0   |  20805   |   2    |     0      |  0   |     4     |   9   |    2450    |\n",
       " |    1290.0   |   8250   |   1    |     0      |  0   |     3     |   7   |    1290    |\n",
       " |    2790.0   |  20824   |   1    |     0      |  0   |     3     |   9   |    1680    |\n",
       " |    2320.0   |  210830  |   2    |     0      |  0   |     4     |   8   |    2320    |\n",
       " |    2300.0   |   7897   |  2.5   |     0      |  0   |     4     |   8   |    2300    |\n",
       " |    2400.0   |   6078   |   2    |     0      |  0   |     3     |   8   |    2400    |\n",
       " |    1300.0   |   6318   |   1    |     0      |  0   |     3     |   7   |    1300    |\n",
       " |    3600.0   |  14720   |   1    |     0      |  2   |     5     |   8   |    1800    |\n",
       " |    3250.0   |   4650   |   2    |     0      |  0   |     3     |   8   |    3250    |\n",
       " +-------------+----------+--------+------------+------+-----------+-------+------------+\n",
       " +---------------+----------+--------------+---------+-------------+\n",
       " | sqft_basement | yr_built | yr_renovated | zipcode |     lat     |\n",
       " +---------------+----------+--------------+---------+-------------+\n",
       " |      900      |   1900   |      0       |  98118  |  47.5584983 |\n",
       " |       0       |   1963   |      0       |  98004  |  47.6274628 |\n",
       " |       0       |   1983   |      0       |  98001  | 47.33528623 |\n",
       " |      1110     |   1959   |      0       |  98115  | 47.69484867 |\n",
       " |       0       |   1962   |      0       |  98058  | 47.39804533 |\n",
       " |       0       |   1956   |      0       |  98133  | 47.75557056 |\n",
       " |       0       |   2001   |      0       |  98001  | 47.26056092 |\n",
       " |       0       |   1980   |      0       |  98001  | 47.27522967 |\n",
       " |      1800     |   1960   |      0       |  98034  | 47.70219923 |\n",
       " |       0       |   2007   |      0       |  98031  |  47.4003938 |\n",
       " +---------------+----------+--------------+---------+-------------+\n",
       " +---------------+---------------+-----+\n",
       " |      long     | sqft_living15 | ... |\n",
       " +---------------+---------------+-----+\n",
       " | -122.29008364 |     1160.0    | ... |\n",
       " | -122.22691716 |     3020.0    | ... |\n",
       " | -122.26985762 |     1410.0    | ... |\n",
       " | -122.28184523 |     2380.0    | ... |\n",
       " | -122.08076107 |     2540.0    | ... |\n",
       " | -122.35602491 |     2030.0    | ... |\n",
       " |  -122.2854114 |     2406.0    | ... |\n",
       " | -122.25066161 |     1150.0    | ... |\n",
       " | -122.22723014 |     3600.0    | ... |\n",
       " | -122.20324301 |     2960.0    | ... |\n",
       " +---------------+---------------+-----+\n",
       " [1939 rows x 21 columns]\n",
       " Note: Only the head of the SFrame is printed.\n",
       " You can use print_rows(num_rows=m, num_columns=n) to print more rows and columns.]"
      ]
     },
     "execution_count": 150,
     "metadata": {},
     "output_type": "execute_result"
    }
   ],
   "source": [
    "putin_set"
   ]
  },
  {
   "cell_type": "markdown",
   "metadata": {},
   "source": [
    "To verify that we have the right elements extracted, run the following cell, which computes the average price of the fourth segment. When rounded to nearest whole number, the average should be $536,234."
   ]
  },
  {
   "cell_type": "code",
   "execution_count": 365,
   "metadata": {
    "collapsed": false
   },
   "outputs": [
    {
     "name": "stdout",
     "output_type": "stream",
     "text": [
      "536353\n"
     ]
    }
   ],
   "source": [
    "#validation4 = putin_set[3]\n",
    "validation4 = validation_set\n",
    "print int(round(validation4['price'].mean(), 0))"
   ]
  },
  {
   "cell_type": "markdown",
   "metadata": {},
   "source": [
    "After designating one of the k segments as the validation set, we train a model using the rest of the data. To choose the remainder, we slice (0:start) and (end+1:n) of the data and paste them together. SFrame has `append()` method that pastes together two disjoint sets of rows originating from a common dataset. For instance, the following cell pastes together the first and last two rows of the `train_valid_shuffled` dataframe."
   ]
  },
  {
   "cell_type": "code",
   "execution_count": 196,
   "metadata": {
    "collapsed": true
   },
   "outputs": [
    {
     "name": "stdout",
     "output_type": "stream",
     "text": [
      "+------------+---------------------------+----------+----------+-----------+\n",
      "|     id     |            date           |  price   | bedrooms | bathrooms |\n",
      "+------------+---------------------------+----------+----------+-----------+\n",
      "| 2780400035 | 2014-05-05 00:00:00+00:00 | 665000.0 |   4.0    |    2.5    |\n",
      "| 1703050500 | 2015-03-21 00:00:00+00:00 | 645000.0 |   3.0    |    2.5    |\n",
      "| 5700002325 | 2014-06-05 00:00:00+00:00 | 640000.0 |   3.0    |    1.75   |\n",
      "| 0475000510 | 2014-11-18 00:00:00+00:00 | 594000.0 |   3.0    |    1.0    |\n",
      "| 0844001052 | 2015-01-28 00:00:00+00:00 | 365000.0 |   4.0    |    2.5    |\n",
      "| 2781280290 | 2015-04-27 00:00:00+00:00 | 305000.0 |   3.0    |    2.5    |\n",
      "| 2214800630 | 2014-11-05 00:00:00+00:00 | 239950.0 |   3.0    |    2.25   |\n",
      "| 2114700540 | 2014-10-21 00:00:00+00:00 | 366000.0 |   3.0    |    2.5    |\n",
      "| 2596400050 | 2014-07-30 00:00:00+00:00 | 375000.0 |   3.0    |    1.0    |\n",
      "| 4140900050 | 2015-01-26 00:00:00+00:00 | 440000.0 |   4.0    |    1.75   |\n",
      "+------------+---------------------------+----------+----------+-----------+\n",
      "+-------------+----------+--------+------------+------+-----------+-------+------------+\n",
      "| sqft_living | sqft_lot | floors | waterfront | view | condition | grade | sqft_above |\n",
      "+-------------+----------+--------+------------+------+-----------+-------+------------+\n",
      "|    2800.0   |   5900   |   1    |     0      |  0   |     3     |   8   |    1660    |\n",
      "|    2490.0   |   5978   |   2    |     0      |  0   |     3     |   9   |    2490    |\n",
      "|    2340.0   |   4206   |   1    |     0      |  0   |     5     |   7   |    1170    |\n",
      "|    1320.0   |   5000   |   1    |     0      |  0   |     4     |   7   |    1090    |\n",
      "|    1904.0   |   8200   |   2    |     0      |  0   |     5     |   7   |    1904    |\n",
      "|    1610.0   |   3516   |   2    |     0      |  0   |     3     |   8   |    1610    |\n",
      "|    1560.0   |   8280   |   2    |     0      |  0   |     4     |   7   |    1560    |\n",
      "|    1320.0   |   4320   |   1    |     0      |  0   |     3     |   6   |    660     |\n",
      "|    1960.0   |   7955   |   1    |     0      |  0   |     4     |   7   |    1260    |\n",
      "|    2180.0   |  10200   |   1    |     0      |  2   |     3     |   8   |    2000    |\n",
      "+-------------+----------+--------+------------+------+-----------+-------+------------+\n",
      "+---------------+----------+--------------+---------+-------------+\n",
      "| sqft_basement | yr_built | yr_renovated | zipcode |     lat     |\n",
      "+---------------+----------+--------------+---------+-------------+\n",
      "|      1140     |   1963   |      0       |  98115  | 47.68093246 |\n",
      "|       0       |   2003   |      0       |  98074  | 47.62984888 |\n",
      "|      1170     |   1917   |      0       |  98144  | 47.57587004 |\n",
      "|      230      |   1920   |      0       |  98107  | 47.66737217 |\n",
      "|       0       |   1999   |      0       |  98010  | 47.31068733 |\n",
      "|       0       |   2006   |      0       |  98055  | 47.44911017 |\n",
      "|       0       |   1979   |      0       |  98001  | 47.33933392 |\n",
      "|      660      |   1918   |      0       |  98106  | 47.53271982 |\n",
      "|      700      |   1963   |      0       |  98177  | 47.76407345 |\n",
      "|      180      |   1966   |      0       |  98028  | 47.76382378 |\n",
      "+---------------+----------+--------------+---------+-------------+\n",
      "+---------------+---------------+-----+\n",
      "|      long     | sqft_living15 | ... |\n",
      "+---------------+---------------+-----+\n",
      "| -122.28583258 |     2580.0    | ... |\n",
      "| -122.02177564 |     2710.0    | ... |\n",
      "|   -122.28796  |     1360.0    | ... |\n",
      "| -122.36472902 |     1700.0    | ... |\n",
      "|  -122.0012452 |     1560.0    | ... |\n",
      "|  -122.1878086 |     1610.0    | ... |\n",
      "| -122.25864364 |     1920.0    | ... |\n",
      "| -122.34716948 |     1190.0    | ... |\n",
      "| -122.36361517 |     1850.0    | ... |\n",
      "| -122.27022456 |     2590.0    | ... |\n",
      "+---------------+---------------+-----+\n",
      "[9106 rows x 21 columns]\n",
      "Note: Only the head of the SFrame is printed.\n",
      "You can use print_rows(num_rows=m, num_columns=n) to print more rows and columns.\n"
     ]
    }
   ],
   "source": [
    "n = len(train_valid_shuffled)\n",
    "first_two = train_valid_shuffled[0:1938]\n",
    "last_two = train_valid_shuffled[12228:134000]\n",
    "print first_two.append(last_two)"
   ]
  },
  {
   "cell_type": "markdown",
   "metadata": {},
   "source": [
    "Extract the remainder of the data after *excluding* fourth segment (segment 3) and assign the subset to `train4`."
   ]
  },
  {
   "cell_type": "code",
   "execution_count": 144,
   "metadata": {
    "collapsed": true
   },
   "outputs": [],
   "source": [
    "train_set = putin_set[0]"
   ]
  },
  {
   "cell_type": "code",
   "execution_count": 307,
   "metadata": {
    "collapsed": false
   },
   "outputs": [
    {
     "name": "stdout",
     "output_type": "stream",
     "text": [
      "3877    1\n",
      "5815    2\n",
      "5815    3\n",
      "7754    4\n",
      "9692    5\n",
      "11631    6\n",
      "13569    7\n",
      "15508    8\n",
      "17447    9\n"
     ]
    }
   ],
   "source": [
    "train4 = putin_set[0]\n",
    "for i in range(1,len(putin_set)):\n",
    "    if i!=3:\n",
    "        set_toplus = putin_set[i]\n",
    "        train4 = train4.append(set_toplus)\n",
    "    \n",
    "    print len(train4),'  ',i\n",
    "    \n"
   ]
  },
  {
   "cell_type": "code",
   "execution_count": 126,
   "metadata": {
    "collapsed": true
   },
   "outputs": [
    {
     "data": {
      "text/html": [
       "<div style=\"max-height:1000px;max-width:1500px;overflow:auto;\"><table frame=\"box\" rules=\"cols\">\n",
       "    <tr>\n",
       "        <th style=\"padding-left: 1em; padding-right: 1em; text-align: center\">id</th>\n",
       "        <th style=\"padding-left: 1em; padding-right: 1em; text-align: center\">date</th>\n",
       "        <th style=\"padding-left: 1em; padding-right: 1em; text-align: center\">price</th>\n",
       "        <th style=\"padding-left: 1em; padding-right: 1em; text-align: center\">bedrooms</th>\n",
       "        <th style=\"padding-left: 1em; padding-right: 1em; text-align: center\">bathrooms</th>\n",
       "        <th style=\"padding-left: 1em; padding-right: 1em; text-align: center\">sqft_living</th>\n",
       "        <th style=\"padding-left: 1em; padding-right: 1em; text-align: center\">sqft_lot</th>\n",
       "        <th style=\"padding-left: 1em; padding-right: 1em; text-align: center\">floors</th>\n",
       "        <th style=\"padding-left: 1em; padding-right: 1em; text-align: center\">waterfront</th>\n",
       "    </tr>\n",
       "    <tr>\n",
       "        <td style=\"padding-left: 1em; padding-right: 1em; text-align: center; vertical-align: top\">2780400035</td>\n",
       "        <td style=\"padding-left: 1em; padding-right: 1em; text-align: center; vertical-align: top\">2014-05-05 00:00:00+00:00</td>\n",
       "        <td style=\"padding-left: 1em; padding-right: 1em; text-align: center; vertical-align: top\">665000.0</td>\n",
       "        <td style=\"padding-left: 1em; padding-right: 1em; text-align: center; vertical-align: top\">4.0</td>\n",
       "        <td style=\"padding-left: 1em; padding-right: 1em; text-align: center; vertical-align: top\">2.5</td>\n",
       "        <td style=\"padding-left: 1em; padding-right: 1em; text-align: center; vertical-align: top\">2800.0</td>\n",
       "        <td style=\"padding-left: 1em; padding-right: 1em; text-align: center; vertical-align: top\">5900</td>\n",
       "        <td style=\"padding-left: 1em; padding-right: 1em; text-align: center; vertical-align: top\">1</td>\n",
       "        <td style=\"padding-left: 1em; padding-right: 1em; text-align: center; vertical-align: top\">0</td>\n",
       "    </tr>\n",
       "    <tr>\n",
       "        <td style=\"padding-left: 1em; padding-right: 1em; text-align: center; vertical-align: top\">1703050500</td>\n",
       "        <td style=\"padding-left: 1em; padding-right: 1em; text-align: center; vertical-align: top\">2015-03-21 00:00:00+00:00</td>\n",
       "        <td style=\"padding-left: 1em; padding-right: 1em; text-align: center; vertical-align: top\">645000.0</td>\n",
       "        <td style=\"padding-left: 1em; padding-right: 1em; text-align: center; vertical-align: top\">3.0</td>\n",
       "        <td style=\"padding-left: 1em; padding-right: 1em; text-align: center; vertical-align: top\">2.5</td>\n",
       "        <td style=\"padding-left: 1em; padding-right: 1em; text-align: center; vertical-align: top\">2490.0</td>\n",
       "        <td style=\"padding-left: 1em; padding-right: 1em; text-align: center; vertical-align: top\">5978</td>\n",
       "        <td style=\"padding-left: 1em; padding-right: 1em; text-align: center; vertical-align: top\">2</td>\n",
       "        <td style=\"padding-left: 1em; padding-right: 1em; text-align: center; vertical-align: top\">0</td>\n",
       "    </tr>\n",
       "    <tr>\n",
       "        <td style=\"padding-left: 1em; padding-right: 1em; text-align: center; vertical-align: top\">5700002325</td>\n",
       "        <td style=\"padding-left: 1em; padding-right: 1em; text-align: center; vertical-align: top\">2014-06-05 00:00:00+00:00</td>\n",
       "        <td style=\"padding-left: 1em; padding-right: 1em; text-align: center; vertical-align: top\">640000.0</td>\n",
       "        <td style=\"padding-left: 1em; padding-right: 1em; text-align: center; vertical-align: top\">3.0</td>\n",
       "        <td style=\"padding-left: 1em; padding-right: 1em; text-align: center; vertical-align: top\">1.75</td>\n",
       "        <td style=\"padding-left: 1em; padding-right: 1em; text-align: center; vertical-align: top\">2340.0</td>\n",
       "        <td style=\"padding-left: 1em; padding-right: 1em; text-align: center; vertical-align: top\">4206</td>\n",
       "        <td style=\"padding-left: 1em; padding-right: 1em; text-align: center; vertical-align: top\">1</td>\n",
       "        <td style=\"padding-left: 1em; padding-right: 1em; text-align: center; vertical-align: top\">0</td>\n",
       "    </tr>\n",
       "    <tr>\n",
       "        <td style=\"padding-left: 1em; padding-right: 1em; text-align: center; vertical-align: top\">0475000510</td>\n",
       "        <td style=\"padding-left: 1em; padding-right: 1em; text-align: center; vertical-align: top\">2014-11-18 00:00:00+00:00</td>\n",
       "        <td style=\"padding-left: 1em; padding-right: 1em; text-align: center; vertical-align: top\">594000.0</td>\n",
       "        <td style=\"padding-left: 1em; padding-right: 1em; text-align: center; vertical-align: top\">3.0</td>\n",
       "        <td style=\"padding-left: 1em; padding-right: 1em; text-align: center; vertical-align: top\">1.0</td>\n",
       "        <td style=\"padding-left: 1em; padding-right: 1em; text-align: center; vertical-align: top\">1320.0</td>\n",
       "        <td style=\"padding-left: 1em; padding-right: 1em; text-align: center; vertical-align: top\">5000</td>\n",
       "        <td style=\"padding-left: 1em; padding-right: 1em; text-align: center; vertical-align: top\">1</td>\n",
       "        <td style=\"padding-left: 1em; padding-right: 1em; text-align: center; vertical-align: top\">0</td>\n",
       "    </tr>\n",
       "    <tr>\n",
       "        <td style=\"padding-left: 1em; padding-right: 1em; text-align: center; vertical-align: top\">0844001052</td>\n",
       "        <td style=\"padding-left: 1em; padding-right: 1em; text-align: center; vertical-align: top\">2015-01-28 00:00:00+00:00</td>\n",
       "        <td style=\"padding-left: 1em; padding-right: 1em; text-align: center; vertical-align: top\">365000.0</td>\n",
       "        <td style=\"padding-left: 1em; padding-right: 1em; text-align: center; vertical-align: top\">4.0</td>\n",
       "        <td style=\"padding-left: 1em; padding-right: 1em; text-align: center; vertical-align: top\">2.5</td>\n",
       "        <td style=\"padding-left: 1em; padding-right: 1em; text-align: center; vertical-align: top\">1904.0</td>\n",
       "        <td style=\"padding-left: 1em; padding-right: 1em; text-align: center; vertical-align: top\">8200</td>\n",
       "        <td style=\"padding-left: 1em; padding-right: 1em; text-align: center; vertical-align: top\">2</td>\n",
       "        <td style=\"padding-left: 1em; padding-right: 1em; text-align: center; vertical-align: top\">0</td>\n",
       "    </tr>\n",
       "    <tr>\n",
       "        <td style=\"padding-left: 1em; padding-right: 1em; text-align: center; vertical-align: top\">2781280290</td>\n",
       "        <td style=\"padding-left: 1em; padding-right: 1em; text-align: center; vertical-align: top\">2015-04-27 00:00:00+00:00</td>\n",
       "        <td style=\"padding-left: 1em; padding-right: 1em; text-align: center; vertical-align: top\">305000.0</td>\n",
       "        <td style=\"padding-left: 1em; padding-right: 1em; text-align: center; vertical-align: top\">3.0</td>\n",
       "        <td style=\"padding-left: 1em; padding-right: 1em; text-align: center; vertical-align: top\">2.5</td>\n",
       "        <td style=\"padding-left: 1em; padding-right: 1em; text-align: center; vertical-align: top\">1610.0</td>\n",
       "        <td style=\"padding-left: 1em; padding-right: 1em; text-align: center; vertical-align: top\">3516</td>\n",
       "        <td style=\"padding-left: 1em; padding-right: 1em; text-align: center; vertical-align: top\">2</td>\n",
       "        <td style=\"padding-left: 1em; padding-right: 1em; text-align: center; vertical-align: top\">0</td>\n",
       "    </tr>\n",
       "    <tr>\n",
       "        <td style=\"padding-left: 1em; padding-right: 1em; text-align: center; vertical-align: top\">2214800630</td>\n",
       "        <td style=\"padding-left: 1em; padding-right: 1em; text-align: center; vertical-align: top\">2014-11-05 00:00:00+00:00</td>\n",
       "        <td style=\"padding-left: 1em; padding-right: 1em; text-align: center; vertical-align: top\">239950.0</td>\n",
       "        <td style=\"padding-left: 1em; padding-right: 1em; text-align: center; vertical-align: top\">3.0</td>\n",
       "        <td style=\"padding-left: 1em; padding-right: 1em; text-align: center; vertical-align: top\">2.25</td>\n",
       "        <td style=\"padding-left: 1em; padding-right: 1em; text-align: center; vertical-align: top\">1560.0</td>\n",
       "        <td style=\"padding-left: 1em; padding-right: 1em; text-align: center; vertical-align: top\">8280</td>\n",
       "        <td style=\"padding-left: 1em; padding-right: 1em; text-align: center; vertical-align: top\">2</td>\n",
       "        <td style=\"padding-left: 1em; padding-right: 1em; text-align: center; vertical-align: top\">0</td>\n",
       "    </tr>\n",
       "    <tr>\n",
       "        <td style=\"padding-left: 1em; padding-right: 1em; text-align: center; vertical-align: top\">2114700540</td>\n",
       "        <td style=\"padding-left: 1em; padding-right: 1em; text-align: center; vertical-align: top\">2014-10-21 00:00:00+00:00</td>\n",
       "        <td style=\"padding-left: 1em; padding-right: 1em; text-align: center; vertical-align: top\">366000.0</td>\n",
       "        <td style=\"padding-left: 1em; padding-right: 1em; text-align: center; vertical-align: top\">3.0</td>\n",
       "        <td style=\"padding-left: 1em; padding-right: 1em; text-align: center; vertical-align: top\">2.5</td>\n",
       "        <td style=\"padding-left: 1em; padding-right: 1em; text-align: center; vertical-align: top\">1320.0</td>\n",
       "        <td style=\"padding-left: 1em; padding-right: 1em; text-align: center; vertical-align: top\">4320</td>\n",
       "        <td style=\"padding-left: 1em; padding-right: 1em; text-align: center; vertical-align: top\">1</td>\n",
       "        <td style=\"padding-left: 1em; padding-right: 1em; text-align: center; vertical-align: top\">0</td>\n",
       "    </tr>\n",
       "    <tr>\n",
       "        <td style=\"padding-left: 1em; padding-right: 1em; text-align: center; vertical-align: top\">2596400050</td>\n",
       "        <td style=\"padding-left: 1em; padding-right: 1em; text-align: center; vertical-align: top\">2014-07-30 00:00:00+00:00</td>\n",
       "        <td style=\"padding-left: 1em; padding-right: 1em; text-align: center; vertical-align: top\">375000.0</td>\n",
       "        <td style=\"padding-left: 1em; padding-right: 1em; text-align: center; vertical-align: top\">3.0</td>\n",
       "        <td style=\"padding-left: 1em; padding-right: 1em; text-align: center; vertical-align: top\">1.0</td>\n",
       "        <td style=\"padding-left: 1em; padding-right: 1em; text-align: center; vertical-align: top\">1960.0</td>\n",
       "        <td style=\"padding-left: 1em; padding-right: 1em; text-align: center; vertical-align: top\">7955</td>\n",
       "        <td style=\"padding-left: 1em; padding-right: 1em; text-align: center; vertical-align: top\">1</td>\n",
       "        <td style=\"padding-left: 1em; padding-right: 1em; text-align: center; vertical-align: top\">0</td>\n",
       "    </tr>\n",
       "    <tr>\n",
       "        <td style=\"padding-left: 1em; padding-right: 1em; text-align: center; vertical-align: top\">4140900050</td>\n",
       "        <td style=\"padding-left: 1em; padding-right: 1em; text-align: center; vertical-align: top\">2015-01-26 00:00:00+00:00</td>\n",
       "        <td style=\"padding-left: 1em; padding-right: 1em; text-align: center; vertical-align: top\">440000.0</td>\n",
       "        <td style=\"padding-left: 1em; padding-right: 1em; text-align: center; vertical-align: top\">4.0</td>\n",
       "        <td style=\"padding-left: 1em; padding-right: 1em; text-align: center; vertical-align: top\">1.75</td>\n",
       "        <td style=\"padding-left: 1em; padding-right: 1em; text-align: center; vertical-align: top\">2180.0</td>\n",
       "        <td style=\"padding-left: 1em; padding-right: 1em; text-align: center; vertical-align: top\">10200</td>\n",
       "        <td style=\"padding-left: 1em; padding-right: 1em; text-align: center; vertical-align: top\">1</td>\n",
       "        <td style=\"padding-left: 1em; padding-right: 1em; text-align: center; vertical-align: top\">0</td>\n",
       "    </tr>\n",
       "</table>\n",
       "<table frame=\"box\" rules=\"cols\">\n",
       "    <tr>\n",
       "        <th style=\"padding-left: 1em; padding-right: 1em; text-align: center\">view</th>\n",
       "        <th style=\"padding-left: 1em; padding-right: 1em; text-align: center\">condition</th>\n",
       "        <th style=\"padding-left: 1em; padding-right: 1em; text-align: center\">grade</th>\n",
       "        <th style=\"padding-left: 1em; padding-right: 1em; text-align: center\">sqft_above</th>\n",
       "        <th style=\"padding-left: 1em; padding-right: 1em; text-align: center\">sqft_basement</th>\n",
       "        <th style=\"padding-left: 1em; padding-right: 1em; text-align: center\">yr_built</th>\n",
       "        <th style=\"padding-left: 1em; padding-right: 1em; text-align: center\">yr_renovated</th>\n",
       "        <th style=\"padding-left: 1em; padding-right: 1em; text-align: center\">zipcode</th>\n",
       "        <th style=\"padding-left: 1em; padding-right: 1em; text-align: center\">lat</th>\n",
       "    </tr>\n",
       "    <tr>\n",
       "        <td style=\"padding-left: 1em; padding-right: 1em; text-align: center; vertical-align: top\">0</td>\n",
       "        <td style=\"padding-left: 1em; padding-right: 1em; text-align: center; vertical-align: top\">3</td>\n",
       "        <td style=\"padding-left: 1em; padding-right: 1em; text-align: center; vertical-align: top\">8</td>\n",
       "        <td style=\"padding-left: 1em; padding-right: 1em; text-align: center; vertical-align: top\">1660</td>\n",
       "        <td style=\"padding-left: 1em; padding-right: 1em; text-align: center; vertical-align: top\">1140</td>\n",
       "        <td style=\"padding-left: 1em; padding-right: 1em; text-align: center; vertical-align: top\">1963</td>\n",
       "        <td style=\"padding-left: 1em; padding-right: 1em; text-align: center; vertical-align: top\">0</td>\n",
       "        <td style=\"padding-left: 1em; padding-right: 1em; text-align: center; vertical-align: top\">98115</td>\n",
       "        <td style=\"padding-left: 1em; padding-right: 1em; text-align: center; vertical-align: top\">47.68093246</td>\n",
       "    </tr>\n",
       "    <tr>\n",
       "        <td style=\"padding-left: 1em; padding-right: 1em; text-align: center; vertical-align: top\">0</td>\n",
       "        <td style=\"padding-left: 1em; padding-right: 1em; text-align: center; vertical-align: top\">3</td>\n",
       "        <td style=\"padding-left: 1em; padding-right: 1em; text-align: center; vertical-align: top\">9</td>\n",
       "        <td style=\"padding-left: 1em; padding-right: 1em; text-align: center; vertical-align: top\">2490</td>\n",
       "        <td style=\"padding-left: 1em; padding-right: 1em; text-align: center; vertical-align: top\">0</td>\n",
       "        <td style=\"padding-left: 1em; padding-right: 1em; text-align: center; vertical-align: top\">2003</td>\n",
       "        <td style=\"padding-left: 1em; padding-right: 1em; text-align: center; vertical-align: top\">0</td>\n",
       "        <td style=\"padding-left: 1em; padding-right: 1em; text-align: center; vertical-align: top\">98074</td>\n",
       "        <td style=\"padding-left: 1em; padding-right: 1em; text-align: center; vertical-align: top\">47.62984888</td>\n",
       "    </tr>\n",
       "    <tr>\n",
       "        <td style=\"padding-left: 1em; padding-right: 1em; text-align: center; vertical-align: top\">0</td>\n",
       "        <td style=\"padding-left: 1em; padding-right: 1em; text-align: center; vertical-align: top\">5</td>\n",
       "        <td style=\"padding-left: 1em; padding-right: 1em; text-align: center; vertical-align: top\">7</td>\n",
       "        <td style=\"padding-left: 1em; padding-right: 1em; text-align: center; vertical-align: top\">1170</td>\n",
       "        <td style=\"padding-left: 1em; padding-right: 1em; text-align: center; vertical-align: top\">1170</td>\n",
       "        <td style=\"padding-left: 1em; padding-right: 1em; text-align: center; vertical-align: top\">1917</td>\n",
       "        <td style=\"padding-left: 1em; padding-right: 1em; text-align: center; vertical-align: top\">0</td>\n",
       "        <td style=\"padding-left: 1em; padding-right: 1em; text-align: center; vertical-align: top\">98144</td>\n",
       "        <td style=\"padding-left: 1em; padding-right: 1em; text-align: center; vertical-align: top\">47.57587004</td>\n",
       "    </tr>\n",
       "    <tr>\n",
       "        <td style=\"padding-left: 1em; padding-right: 1em; text-align: center; vertical-align: top\">0</td>\n",
       "        <td style=\"padding-left: 1em; padding-right: 1em; text-align: center; vertical-align: top\">4</td>\n",
       "        <td style=\"padding-left: 1em; padding-right: 1em; text-align: center; vertical-align: top\">7</td>\n",
       "        <td style=\"padding-left: 1em; padding-right: 1em; text-align: center; vertical-align: top\">1090</td>\n",
       "        <td style=\"padding-left: 1em; padding-right: 1em; text-align: center; vertical-align: top\">230</td>\n",
       "        <td style=\"padding-left: 1em; padding-right: 1em; text-align: center; vertical-align: top\">1920</td>\n",
       "        <td style=\"padding-left: 1em; padding-right: 1em; text-align: center; vertical-align: top\">0</td>\n",
       "        <td style=\"padding-left: 1em; padding-right: 1em; text-align: center; vertical-align: top\">98107</td>\n",
       "        <td style=\"padding-left: 1em; padding-right: 1em; text-align: center; vertical-align: top\">47.66737217</td>\n",
       "    </tr>\n",
       "    <tr>\n",
       "        <td style=\"padding-left: 1em; padding-right: 1em; text-align: center; vertical-align: top\">0</td>\n",
       "        <td style=\"padding-left: 1em; padding-right: 1em; text-align: center; vertical-align: top\">5</td>\n",
       "        <td style=\"padding-left: 1em; padding-right: 1em; text-align: center; vertical-align: top\">7</td>\n",
       "        <td style=\"padding-left: 1em; padding-right: 1em; text-align: center; vertical-align: top\">1904</td>\n",
       "        <td style=\"padding-left: 1em; padding-right: 1em; text-align: center; vertical-align: top\">0</td>\n",
       "        <td style=\"padding-left: 1em; padding-right: 1em; text-align: center; vertical-align: top\">1999</td>\n",
       "        <td style=\"padding-left: 1em; padding-right: 1em; text-align: center; vertical-align: top\">0</td>\n",
       "        <td style=\"padding-left: 1em; padding-right: 1em; text-align: center; vertical-align: top\">98010</td>\n",
       "        <td style=\"padding-left: 1em; padding-right: 1em; text-align: center; vertical-align: top\">47.31068733</td>\n",
       "    </tr>\n",
       "    <tr>\n",
       "        <td style=\"padding-left: 1em; padding-right: 1em; text-align: center; vertical-align: top\">0</td>\n",
       "        <td style=\"padding-left: 1em; padding-right: 1em; text-align: center; vertical-align: top\">3</td>\n",
       "        <td style=\"padding-left: 1em; padding-right: 1em; text-align: center; vertical-align: top\">8</td>\n",
       "        <td style=\"padding-left: 1em; padding-right: 1em; text-align: center; vertical-align: top\">1610</td>\n",
       "        <td style=\"padding-left: 1em; padding-right: 1em; text-align: center; vertical-align: top\">0</td>\n",
       "        <td style=\"padding-left: 1em; padding-right: 1em; text-align: center; vertical-align: top\">2006</td>\n",
       "        <td style=\"padding-left: 1em; padding-right: 1em; text-align: center; vertical-align: top\">0</td>\n",
       "        <td style=\"padding-left: 1em; padding-right: 1em; text-align: center; vertical-align: top\">98055</td>\n",
       "        <td style=\"padding-left: 1em; padding-right: 1em; text-align: center; vertical-align: top\">47.44911017</td>\n",
       "    </tr>\n",
       "    <tr>\n",
       "        <td style=\"padding-left: 1em; padding-right: 1em; text-align: center; vertical-align: top\">0</td>\n",
       "        <td style=\"padding-left: 1em; padding-right: 1em; text-align: center; vertical-align: top\">4</td>\n",
       "        <td style=\"padding-left: 1em; padding-right: 1em; text-align: center; vertical-align: top\">7</td>\n",
       "        <td style=\"padding-left: 1em; padding-right: 1em; text-align: center; vertical-align: top\">1560</td>\n",
       "        <td style=\"padding-left: 1em; padding-right: 1em; text-align: center; vertical-align: top\">0</td>\n",
       "        <td style=\"padding-left: 1em; padding-right: 1em; text-align: center; vertical-align: top\">1979</td>\n",
       "        <td style=\"padding-left: 1em; padding-right: 1em; text-align: center; vertical-align: top\">0</td>\n",
       "        <td style=\"padding-left: 1em; padding-right: 1em; text-align: center; vertical-align: top\">98001</td>\n",
       "        <td style=\"padding-left: 1em; padding-right: 1em; text-align: center; vertical-align: top\">47.33933392</td>\n",
       "    </tr>\n",
       "    <tr>\n",
       "        <td style=\"padding-left: 1em; padding-right: 1em; text-align: center; vertical-align: top\">0</td>\n",
       "        <td style=\"padding-left: 1em; padding-right: 1em; text-align: center; vertical-align: top\">3</td>\n",
       "        <td style=\"padding-left: 1em; padding-right: 1em; text-align: center; vertical-align: top\">6</td>\n",
       "        <td style=\"padding-left: 1em; padding-right: 1em; text-align: center; vertical-align: top\">660</td>\n",
       "        <td style=\"padding-left: 1em; padding-right: 1em; text-align: center; vertical-align: top\">660</td>\n",
       "        <td style=\"padding-left: 1em; padding-right: 1em; text-align: center; vertical-align: top\">1918</td>\n",
       "        <td style=\"padding-left: 1em; padding-right: 1em; text-align: center; vertical-align: top\">0</td>\n",
       "        <td style=\"padding-left: 1em; padding-right: 1em; text-align: center; vertical-align: top\">98106</td>\n",
       "        <td style=\"padding-left: 1em; padding-right: 1em; text-align: center; vertical-align: top\">47.53271982</td>\n",
       "    </tr>\n",
       "    <tr>\n",
       "        <td style=\"padding-left: 1em; padding-right: 1em; text-align: center; vertical-align: top\">0</td>\n",
       "        <td style=\"padding-left: 1em; padding-right: 1em; text-align: center; vertical-align: top\">4</td>\n",
       "        <td style=\"padding-left: 1em; padding-right: 1em; text-align: center; vertical-align: top\">7</td>\n",
       "        <td style=\"padding-left: 1em; padding-right: 1em; text-align: center; vertical-align: top\">1260</td>\n",
       "        <td style=\"padding-left: 1em; padding-right: 1em; text-align: center; vertical-align: top\">700</td>\n",
       "        <td style=\"padding-left: 1em; padding-right: 1em; text-align: center; vertical-align: top\">1963</td>\n",
       "        <td style=\"padding-left: 1em; padding-right: 1em; text-align: center; vertical-align: top\">0</td>\n",
       "        <td style=\"padding-left: 1em; padding-right: 1em; text-align: center; vertical-align: top\">98177</td>\n",
       "        <td style=\"padding-left: 1em; padding-right: 1em; text-align: center; vertical-align: top\">47.76407345</td>\n",
       "    </tr>\n",
       "    <tr>\n",
       "        <td style=\"padding-left: 1em; padding-right: 1em; text-align: center; vertical-align: top\">2</td>\n",
       "        <td style=\"padding-left: 1em; padding-right: 1em; text-align: center; vertical-align: top\">3</td>\n",
       "        <td style=\"padding-left: 1em; padding-right: 1em; text-align: center; vertical-align: top\">8</td>\n",
       "        <td style=\"padding-left: 1em; padding-right: 1em; text-align: center; vertical-align: top\">2000</td>\n",
       "        <td style=\"padding-left: 1em; padding-right: 1em; text-align: center; vertical-align: top\">180</td>\n",
       "        <td style=\"padding-left: 1em; padding-right: 1em; text-align: center; vertical-align: top\">1966</td>\n",
       "        <td style=\"padding-left: 1em; padding-right: 1em; text-align: center; vertical-align: top\">0</td>\n",
       "        <td style=\"padding-left: 1em; padding-right: 1em; text-align: center; vertical-align: top\">98028</td>\n",
       "        <td style=\"padding-left: 1em; padding-right: 1em; text-align: center; vertical-align: top\">47.76382378</td>\n",
       "    </tr>\n",
       "</table>\n",
       "<table frame=\"box\" rules=\"cols\">\n",
       "    <tr>\n",
       "        <th style=\"padding-left: 1em; padding-right: 1em; text-align: center\">long</th>\n",
       "        <th style=\"padding-left: 1em; padding-right: 1em; text-align: center\">sqft_living15</th>\n",
       "        <th style=\"padding-left: 1em; padding-right: 1em; text-align: center\">sqft_lot15</th>\n",
       "    </tr>\n",
       "    <tr>\n",
       "        <td style=\"padding-left: 1em; padding-right: 1em; text-align: center; vertical-align: top\">-122.28583258</td>\n",
       "        <td style=\"padding-left: 1em; padding-right: 1em; text-align: center; vertical-align: top\">2580.0</td>\n",
       "        <td style=\"padding-left: 1em; padding-right: 1em; text-align: center; vertical-align: top\">5900.0</td>\n",
       "    </tr>\n",
       "    <tr>\n",
       "        <td style=\"padding-left: 1em; padding-right: 1em; text-align: center; vertical-align: top\">-122.02177564</td>\n",
       "        <td style=\"padding-left: 1em; padding-right: 1em; text-align: center; vertical-align: top\">2710.0</td>\n",
       "        <td style=\"padding-left: 1em; padding-right: 1em; text-align: center; vertical-align: top\">6629.0</td>\n",
       "    </tr>\n",
       "    <tr>\n",
       "        <td style=\"padding-left: 1em; padding-right: 1em; text-align: center; vertical-align: top\">-122.28796</td>\n",
       "        <td style=\"padding-left: 1em; padding-right: 1em; text-align: center; vertical-align: top\">1360.0</td>\n",
       "        <td style=\"padding-left: 1em; padding-right: 1em; text-align: center; vertical-align: top\">4725.0</td>\n",
       "    </tr>\n",
       "    <tr>\n",
       "        <td style=\"padding-left: 1em; padding-right: 1em; text-align: center; vertical-align: top\">-122.36472902</td>\n",
       "        <td style=\"padding-left: 1em; padding-right: 1em; text-align: center; vertical-align: top\">1700.0</td>\n",
       "        <td style=\"padding-left: 1em; padding-right: 1em; text-align: center; vertical-align: top\">5000.0</td>\n",
       "    </tr>\n",
       "    <tr>\n",
       "        <td style=\"padding-left: 1em; padding-right: 1em; text-align: center; vertical-align: top\">-122.0012452</td>\n",
       "        <td style=\"padding-left: 1em; padding-right: 1em; text-align: center; vertical-align: top\">1560.0</td>\n",
       "        <td style=\"padding-left: 1em; padding-right: 1em; text-align: center; vertical-align: top\">12426.0</td>\n",
       "    </tr>\n",
       "    <tr>\n",
       "        <td style=\"padding-left: 1em; padding-right: 1em; text-align: center; vertical-align: top\">-122.1878086</td>\n",
       "        <td style=\"padding-left: 1em; padding-right: 1em; text-align: center; vertical-align: top\">1610.0</td>\n",
       "        <td style=\"padding-left: 1em; padding-right: 1em; text-align: center; vertical-align: top\">3056.0</td>\n",
       "    </tr>\n",
       "    <tr>\n",
       "        <td style=\"padding-left: 1em; padding-right: 1em; text-align: center; vertical-align: top\">-122.25864364</td>\n",
       "        <td style=\"padding-left: 1em; padding-right: 1em; text-align: center; vertical-align: top\">1920.0</td>\n",
       "        <td style=\"padding-left: 1em; padding-right: 1em; text-align: center; vertical-align: top\">8120.0</td>\n",
       "    </tr>\n",
       "    <tr>\n",
       "        <td style=\"padding-left: 1em; padding-right: 1em; text-align: center; vertical-align: top\">-122.34716948</td>\n",
       "        <td style=\"padding-left: 1em; padding-right: 1em; text-align: center; vertical-align: top\">1190.0</td>\n",
       "        <td style=\"padding-left: 1em; padding-right: 1em; text-align: center; vertical-align: top\">4200.0</td>\n",
       "    </tr>\n",
       "    <tr>\n",
       "        <td style=\"padding-left: 1em; padding-right: 1em; text-align: center; vertical-align: top\">-122.36361517</td>\n",
       "        <td style=\"padding-left: 1em; padding-right: 1em; text-align: center; vertical-align: top\">1850.0</td>\n",
       "        <td style=\"padding-left: 1em; padding-right: 1em; text-align: center; vertical-align: top\">8219.0</td>\n",
       "    </tr>\n",
       "    <tr>\n",
       "        <td style=\"padding-left: 1em; padding-right: 1em; text-align: center; vertical-align: top\">-122.27022456</td>\n",
       "        <td style=\"padding-left: 1em; padding-right: 1em; text-align: center; vertical-align: top\">2590.0</td>\n",
       "        <td style=\"padding-left: 1em; padding-right: 1em; text-align: center; vertical-align: top\">10445.0</td>\n",
       "    </tr>\n",
       "</table>\n",
       "[1938 rows x 21 columns]<br/>Note: Only the head of the SFrame is printed.<br/>You can use print_rows(num_rows=m, num_columns=n) to print more rows and columns.\n",
       "</div>"
      ],
      "text/plain": [
       "Columns:\n",
       "\tid\tstr\n",
       "\tdate\tdatetime\n",
       "\tprice\tfloat\n",
       "\tbedrooms\tfloat\n",
       "\tbathrooms\tfloat\n",
       "\tsqft_living\tfloat\n",
       "\tsqft_lot\tint\n",
       "\tfloors\tstr\n",
       "\twaterfront\tint\n",
       "\tview\tint\n",
       "\tcondition\tint\n",
       "\tgrade\tint\n",
       "\tsqft_above\tint\n",
       "\tsqft_basement\tint\n",
       "\tyr_built\tint\n",
       "\tyr_renovated\tint\n",
       "\tzipcode\tstr\n",
       "\tlat\tfloat\n",
       "\tlong\tfloat\n",
       "\tsqft_living15\tfloat\n",
       "\tsqft_lot15\tfloat\n",
       "\n",
       "Rows: 1938\n",
       "\n",
       "Data:\n",
       "+------------+---------------------------+----------+----------+-----------+\n",
       "|     id     |            date           |  price   | bedrooms | bathrooms |\n",
       "+------------+---------------------------+----------+----------+-----------+\n",
       "| 2780400035 | 2014-05-05 00:00:00+00:00 | 665000.0 |   4.0    |    2.5    |\n",
       "| 1703050500 | 2015-03-21 00:00:00+00:00 | 645000.0 |   3.0    |    2.5    |\n",
       "| 5700002325 | 2014-06-05 00:00:00+00:00 | 640000.0 |   3.0    |    1.75   |\n",
       "| 0475000510 | 2014-11-18 00:00:00+00:00 | 594000.0 |   3.0    |    1.0    |\n",
       "| 0844001052 | 2015-01-28 00:00:00+00:00 | 365000.0 |   4.0    |    2.5    |\n",
       "| 2781280290 | 2015-04-27 00:00:00+00:00 | 305000.0 |   3.0    |    2.5    |\n",
       "| 2214800630 | 2014-11-05 00:00:00+00:00 | 239950.0 |   3.0    |    2.25   |\n",
       "| 2114700540 | 2014-10-21 00:00:00+00:00 | 366000.0 |   3.0    |    2.5    |\n",
       "| 2596400050 | 2014-07-30 00:00:00+00:00 | 375000.0 |   3.0    |    1.0    |\n",
       "| 4140900050 | 2015-01-26 00:00:00+00:00 | 440000.0 |   4.0    |    1.75   |\n",
       "+------------+---------------------------+----------+----------+-----------+\n",
       "+-------------+----------+--------+------------+------+-----------+-------+------------+\n",
       "| sqft_living | sqft_lot | floors | waterfront | view | condition | grade | sqft_above |\n",
       "+-------------+----------+--------+------------+------+-----------+-------+------------+\n",
       "|    2800.0   |   5900   |   1    |     0      |  0   |     3     |   8   |    1660    |\n",
       "|    2490.0   |   5978   |   2    |     0      |  0   |     3     |   9   |    2490    |\n",
       "|    2340.0   |   4206   |   1    |     0      |  0   |     5     |   7   |    1170    |\n",
       "|    1320.0   |   5000   |   1    |     0      |  0   |     4     |   7   |    1090    |\n",
       "|    1904.0   |   8200   |   2    |     0      |  0   |     5     |   7   |    1904    |\n",
       "|    1610.0   |   3516   |   2    |     0      |  0   |     3     |   8   |    1610    |\n",
       "|    1560.0   |   8280   |   2    |     0      |  0   |     4     |   7   |    1560    |\n",
       "|    1320.0   |   4320   |   1    |     0      |  0   |     3     |   6   |    660     |\n",
       "|    1960.0   |   7955   |   1    |     0      |  0   |     4     |   7   |    1260    |\n",
       "|    2180.0   |  10200   |   1    |     0      |  2   |     3     |   8   |    2000    |\n",
       "+-------------+----------+--------+------------+------+-----------+-------+------------+\n",
       "+---------------+----------+--------------+---------+-------------+\n",
       "| sqft_basement | yr_built | yr_renovated | zipcode |     lat     |\n",
       "+---------------+----------+--------------+---------+-------------+\n",
       "|      1140     |   1963   |      0       |  98115  | 47.68093246 |\n",
       "|       0       |   2003   |      0       |  98074  | 47.62984888 |\n",
       "|      1170     |   1917   |      0       |  98144  | 47.57587004 |\n",
       "|      230      |   1920   |      0       |  98107  | 47.66737217 |\n",
       "|       0       |   1999   |      0       |  98010  | 47.31068733 |\n",
       "|       0       |   2006   |      0       |  98055  | 47.44911017 |\n",
       "|       0       |   1979   |      0       |  98001  | 47.33933392 |\n",
       "|      660      |   1918   |      0       |  98106  | 47.53271982 |\n",
       "|      700      |   1963   |      0       |  98177  | 47.76407345 |\n",
       "|      180      |   1966   |      0       |  98028  | 47.76382378 |\n",
       "+---------------+----------+--------------+---------+-------------+\n",
       "+---------------+---------------+-----+\n",
       "|      long     | sqft_living15 | ... |\n",
       "+---------------+---------------+-----+\n",
       "| -122.28583258 |     2580.0    | ... |\n",
       "| -122.02177564 |     2710.0    | ... |\n",
       "|   -122.28796  |     1360.0    | ... |\n",
       "| -122.36472902 |     1700.0    | ... |\n",
       "|  -122.0012452 |     1560.0    | ... |\n",
       "|  -122.1878086 |     1610.0    | ... |\n",
       "| -122.25864364 |     1920.0    | ... |\n",
       "| -122.34716948 |     1190.0    | ... |\n",
       "| -122.36361517 |     1850.0    | ... |\n",
       "| -122.27022456 |     2590.0    | ... |\n",
       "+---------------+---------------+-----+\n",
       "[1938 rows x 21 columns]\n",
       "Note: Only the head of the SFrame is printed.\n",
       "You can use print_rows(num_rows=m, num_columns=n) to print more rows and columns."
      ]
     },
     "execution_count": 126,
     "metadata": {},
     "output_type": "execute_result"
    }
   ],
   "source": [
    "putin_set[0]"
   ]
  },
  {
   "cell_type": "markdown",
   "metadata": {},
   "source": [
    "To verify that we have the right elements extracted, run the following cell, which computes the average price of the data with fourth segment excluded. When rounded to nearest whole number, the average should be $539,450."
   ]
  },
  {
   "cell_type": "code",
   "execution_count": 414,
   "metadata": {
    "collapsed": false
   },
   "outputs": [
    {
     "name": "stdout",
     "output_type": "stream",
     "text": [
      "539402\n"
     ]
    }
   ],
   "source": [
    "print int(round(train4['price'].mean(), 0))"
   ]
  },
  {
   "cell_type": "markdown",
   "metadata": {},
   "source": [
    "Now we are ready to implement k-fold cross-validation. Write a function that computes k validation errors by designating each of the k segments as the validation set. It accepts as parameters (i) `k`, (ii) `l2_penalty`, (iii) dataframe, (iv) name of output column (e.g. `price`) and (v) list of feature names. The function returns the average validation error using k segments as validation sets.\n",
    "\n",
    "* For each i in [0, 1, ..., k-1]:\n",
    "  * Compute starting and ending indices of segment i and call 'start' and 'end'\n",
    "  * Form validation set by taking a slice (start:end+1) from the data.\n",
    "  * Form training set by appending slice (end+1:n) to the end of slice (0:start).\n",
    "  * Train a linear model using training set just formed, with a given l2_penalty\n",
    "  * Compute validation error using validation set just formed"
   ]
  },
  {
   "cell_type": "code",
   "execution_count": 424,
   "metadata": {
    "collapsed": false,
    "scrolled": true
   },
   "outputs": [
    {
     "data": {
      "text/html": [
       "<div style=\"max-height:1000px;max-width:1500px;overflow:auto;\"><table frame=\"box\" rules=\"cols\">\n",
       "    <tr>\n",
       "        <th style=\"padding-left: 1em; padding-right: 1em; text-align: center\">id</th>\n",
       "        <th style=\"padding-left: 1em; padding-right: 1em; text-align: center\">price</th>\n",
       "        <th style=\"padding-left: 1em; padding-right: 1em; text-align: center\">bedrooms</th>\n",
       "        <th style=\"padding-left: 1em; padding-right: 1em; text-align: center\">bathrooms</th>\n",
       "        <th style=\"padding-left: 1em; padding-right: 1em; text-align: center\">sqft_living</th>\n",
       "        <th style=\"padding-left: 1em; padding-right: 1em; text-align: center\">sqft_lot</th>\n",
       "        <th style=\"padding-left: 1em; padding-right: 1em; text-align: center\">floors</th>\n",
       "        <th style=\"padding-left: 1em; padding-right: 1em; text-align: center\">waterfront</th>\n",
       "        <th style=\"padding-left: 1em; padding-right: 1em; text-align: center\">view</th>\n",
       "        <th style=\"padding-left: 1em; padding-right: 1em; text-align: center\">condition</th>\n",
       "        <th style=\"padding-left: 1em; padding-right: 1em; text-align: center\">grade</th>\n",
       "    </tr>\n",
       "    <tr>\n",
       "        <td style=\"padding-left: 1em; padding-right: 1em; text-align: center; vertical-align: top\">2780400035</td>\n",
       "        <td style=\"padding-left: 1em; padding-right: 1em; text-align: center; vertical-align: top\">665000.0</td>\n",
       "        <td style=\"padding-left: 1em; padding-right: 1em; text-align: center; vertical-align: top\">4.0</td>\n",
       "        <td style=\"padding-left: 1em; padding-right: 1em; text-align: center; vertical-align: top\">2.5</td>\n",
       "        <td style=\"padding-left: 1em; padding-right: 1em; text-align: center; vertical-align: top\">2800.0</td>\n",
       "        <td style=\"padding-left: 1em; padding-right: 1em; text-align: center; vertical-align: top\">5900</td>\n",
       "        <td style=\"padding-left: 1em; padding-right: 1em; text-align: center; vertical-align: top\">1</td>\n",
       "        <td style=\"padding-left: 1em; padding-right: 1em; text-align: center; vertical-align: top\">0</td>\n",
       "        <td style=\"padding-left: 1em; padding-right: 1em; text-align: center; vertical-align: top\">0</td>\n",
       "        <td style=\"padding-left: 1em; padding-right: 1em; text-align: center; vertical-align: top\">3</td>\n",
       "        <td style=\"padding-left: 1em; padding-right: 1em; text-align: center; vertical-align: top\">8</td>\n",
       "    </tr>\n",
       "    <tr>\n",
       "        <td style=\"padding-left: 1em; padding-right: 1em; text-align: center; vertical-align: top\">1703050500</td>\n",
       "        <td style=\"padding-left: 1em; padding-right: 1em; text-align: center; vertical-align: top\">645000.0</td>\n",
       "        <td style=\"padding-left: 1em; padding-right: 1em; text-align: center; vertical-align: top\">3.0</td>\n",
       "        <td style=\"padding-left: 1em; padding-right: 1em; text-align: center; vertical-align: top\">2.5</td>\n",
       "        <td style=\"padding-left: 1em; padding-right: 1em; text-align: center; vertical-align: top\">2490.0</td>\n",
       "        <td style=\"padding-left: 1em; padding-right: 1em; text-align: center; vertical-align: top\">5978</td>\n",
       "        <td style=\"padding-left: 1em; padding-right: 1em; text-align: center; vertical-align: top\">2</td>\n",
       "        <td style=\"padding-left: 1em; padding-right: 1em; text-align: center; vertical-align: top\">0</td>\n",
       "        <td style=\"padding-left: 1em; padding-right: 1em; text-align: center; vertical-align: top\">0</td>\n",
       "        <td style=\"padding-left: 1em; padding-right: 1em; text-align: center; vertical-align: top\">3</td>\n",
       "        <td style=\"padding-left: 1em; padding-right: 1em; text-align: center; vertical-align: top\">9</td>\n",
       "    </tr>\n",
       "    <tr>\n",
       "        <td style=\"padding-left: 1em; padding-right: 1em; text-align: center; vertical-align: top\">5700002325</td>\n",
       "        <td style=\"padding-left: 1em; padding-right: 1em; text-align: center; vertical-align: top\">640000.0</td>\n",
       "        <td style=\"padding-left: 1em; padding-right: 1em; text-align: center; vertical-align: top\">3.0</td>\n",
       "        <td style=\"padding-left: 1em; padding-right: 1em; text-align: center; vertical-align: top\">1.75</td>\n",
       "        <td style=\"padding-left: 1em; padding-right: 1em; text-align: center; vertical-align: top\">2340.0</td>\n",
       "        <td style=\"padding-left: 1em; padding-right: 1em; text-align: center; vertical-align: top\">4206</td>\n",
       "        <td style=\"padding-left: 1em; padding-right: 1em; text-align: center; vertical-align: top\">1</td>\n",
       "        <td style=\"padding-left: 1em; padding-right: 1em; text-align: center; vertical-align: top\">0</td>\n",
       "        <td style=\"padding-left: 1em; padding-right: 1em; text-align: center; vertical-align: top\">0</td>\n",
       "        <td style=\"padding-left: 1em; padding-right: 1em; text-align: center; vertical-align: top\">5</td>\n",
       "        <td style=\"padding-left: 1em; padding-right: 1em; text-align: center; vertical-align: top\">7</td>\n",
       "    </tr>\n",
       "    <tr>\n",
       "        <td style=\"padding-left: 1em; padding-right: 1em; text-align: center; vertical-align: top\">0475000510</td>\n",
       "        <td style=\"padding-left: 1em; padding-right: 1em; text-align: center; vertical-align: top\">594000.0</td>\n",
       "        <td style=\"padding-left: 1em; padding-right: 1em; text-align: center; vertical-align: top\">3.0</td>\n",
       "        <td style=\"padding-left: 1em; padding-right: 1em; text-align: center; vertical-align: top\">1.0</td>\n",
       "        <td style=\"padding-left: 1em; padding-right: 1em; text-align: center; vertical-align: top\">1320.0</td>\n",
       "        <td style=\"padding-left: 1em; padding-right: 1em; text-align: center; vertical-align: top\">5000</td>\n",
       "        <td style=\"padding-left: 1em; padding-right: 1em; text-align: center; vertical-align: top\">1</td>\n",
       "        <td style=\"padding-left: 1em; padding-right: 1em; text-align: center; vertical-align: top\">0</td>\n",
       "        <td style=\"padding-left: 1em; padding-right: 1em; text-align: center; vertical-align: top\">0</td>\n",
       "        <td style=\"padding-left: 1em; padding-right: 1em; text-align: center; vertical-align: top\">4</td>\n",
       "        <td style=\"padding-left: 1em; padding-right: 1em; text-align: center; vertical-align: top\">7</td>\n",
       "    </tr>\n",
       "    <tr>\n",
       "        <td style=\"padding-left: 1em; padding-right: 1em; text-align: center; vertical-align: top\">0844001052</td>\n",
       "        <td style=\"padding-left: 1em; padding-right: 1em; text-align: center; vertical-align: top\">365000.0</td>\n",
       "        <td style=\"padding-left: 1em; padding-right: 1em; text-align: center; vertical-align: top\">4.0</td>\n",
       "        <td style=\"padding-left: 1em; padding-right: 1em; text-align: center; vertical-align: top\">2.5</td>\n",
       "        <td style=\"padding-left: 1em; padding-right: 1em; text-align: center; vertical-align: top\">1904.0</td>\n",
       "        <td style=\"padding-left: 1em; padding-right: 1em; text-align: center; vertical-align: top\">8200</td>\n",
       "        <td style=\"padding-left: 1em; padding-right: 1em; text-align: center; vertical-align: top\">2</td>\n",
       "        <td style=\"padding-left: 1em; padding-right: 1em; text-align: center; vertical-align: top\">0</td>\n",
       "        <td style=\"padding-left: 1em; padding-right: 1em; text-align: center; vertical-align: top\">0</td>\n",
       "        <td style=\"padding-left: 1em; padding-right: 1em; text-align: center; vertical-align: top\">5</td>\n",
       "        <td style=\"padding-left: 1em; padding-right: 1em; text-align: center; vertical-align: top\">7</td>\n",
       "    </tr>\n",
       "    <tr>\n",
       "        <td style=\"padding-left: 1em; padding-right: 1em; text-align: center; vertical-align: top\">2781280290</td>\n",
       "        <td style=\"padding-left: 1em; padding-right: 1em; text-align: center; vertical-align: top\">305000.0</td>\n",
       "        <td style=\"padding-left: 1em; padding-right: 1em; text-align: center; vertical-align: top\">3.0</td>\n",
       "        <td style=\"padding-left: 1em; padding-right: 1em; text-align: center; vertical-align: top\">2.5</td>\n",
       "        <td style=\"padding-left: 1em; padding-right: 1em; text-align: center; vertical-align: top\">1610.0</td>\n",
       "        <td style=\"padding-left: 1em; padding-right: 1em; text-align: center; vertical-align: top\">3516</td>\n",
       "        <td style=\"padding-left: 1em; padding-right: 1em; text-align: center; vertical-align: top\">2</td>\n",
       "        <td style=\"padding-left: 1em; padding-right: 1em; text-align: center; vertical-align: top\">0</td>\n",
       "        <td style=\"padding-left: 1em; padding-right: 1em; text-align: center; vertical-align: top\">0</td>\n",
       "        <td style=\"padding-left: 1em; padding-right: 1em; text-align: center; vertical-align: top\">3</td>\n",
       "        <td style=\"padding-left: 1em; padding-right: 1em; text-align: center; vertical-align: top\">8</td>\n",
       "    </tr>\n",
       "    <tr>\n",
       "        <td style=\"padding-left: 1em; padding-right: 1em; text-align: center; vertical-align: top\">2214800630</td>\n",
       "        <td style=\"padding-left: 1em; padding-right: 1em; text-align: center; vertical-align: top\">239950.0</td>\n",
       "        <td style=\"padding-left: 1em; padding-right: 1em; text-align: center; vertical-align: top\">3.0</td>\n",
       "        <td style=\"padding-left: 1em; padding-right: 1em; text-align: center; vertical-align: top\">2.25</td>\n",
       "        <td style=\"padding-left: 1em; padding-right: 1em; text-align: center; vertical-align: top\">1560.0</td>\n",
       "        <td style=\"padding-left: 1em; padding-right: 1em; text-align: center; vertical-align: top\">8280</td>\n",
       "        <td style=\"padding-left: 1em; padding-right: 1em; text-align: center; vertical-align: top\">2</td>\n",
       "        <td style=\"padding-left: 1em; padding-right: 1em; text-align: center; vertical-align: top\">0</td>\n",
       "        <td style=\"padding-left: 1em; padding-right: 1em; text-align: center; vertical-align: top\">0</td>\n",
       "        <td style=\"padding-left: 1em; padding-right: 1em; text-align: center; vertical-align: top\">4</td>\n",
       "        <td style=\"padding-left: 1em; padding-right: 1em; text-align: center; vertical-align: top\">7</td>\n",
       "    </tr>\n",
       "    <tr>\n",
       "        <td style=\"padding-left: 1em; padding-right: 1em; text-align: center; vertical-align: top\">2114700540</td>\n",
       "        <td style=\"padding-left: 1em; padding-right: 1em; text-align: center; vertical-align: top\">366000.0</td>\n",
       "        <td style=\"padding-left: 1em; padding-right: 1em; text-align: center; vertical-align: top\">3.0</td>\n",
       "        <td style=\"padding-left: 1em; padding-right: 1em; text-align: center; vertical-align: top\">2.5</td>\n",
       "        <td style=\"padding-left: 1em; padding-right: 1em; text-align: center; vertical-align: top\">1320.0</td>\n",
       "        <td style=\"padding-left: 1em; padding-right: 1em; text-align: center; vertical-align: top\">4320</td>\n",
       "        <td style=\"padding-left: 1em; padding-right: 1em; text-align: center; vertical-align: top\">1</td>\n",
       "        <td style=\"padding-left: 1em; padding-right: 1em; text-align: center; vertical-align: top\">0</td>\n",
       "        <td style=\"padding-left: 1em; padding-right: 1em; text-align: center; vertical-align: top\">0</td>\n",
       "        <td style=\"padding-left: 1em; padding-right: 1em; text-align: center; vertical-align: top\">3</td>\n",
       "        <td style=\"padding-left: 1em; padding-right: 1em; text-align: center; vertical-align: top\">6</td>\n",
       "    </tr>\n",
       "    <tr>\n",
       "        <td style=\"padding-left: 1em; padding-right: 1em; text-align: center; vertical-align: top\">2596400050</td>\n",
       "        <td style=\"padding-left: 1em; padding-right: 1em; text-align: center; vertical-align: top\">375000.0</td>\n",
       "        <td style=\"padding-left: 1em; padding-right: 1em; text-align: center; vertical-align: top\">3.0</td>\n",
       "        <td style=\"padding-left: 1em; padding-right: 1em; text-align: center; vertical-align: top\">1.0</td>\n",
       "        <td style=\"padding-left: 1em; padding-right: 1em; text-align: center; vertical-align: top\">1960.0</td>\n",
       "        <td style=\"padding-left: 1em; padding-right: 1em; text-align: center; vertical-align: top\">7955</td>\n",
       "        <td style=\"padding-left: 1em; padding-right: 1em; text-align: center; vertical-align: top\">1</td>\n",
       "        <td style=\"padding-left: 1em; padding-right: 1em; text-align: center; vertical-align: top\">0</td>\n",
       "        <td style=\"padding-left: 1em; padding-right: 1em; text-align: center; vertical-align: top\">0</td>\n",
       "        <td style=\"padding-left: 1em; padding-right: 1em; text-align: center; vertical-align: top\">4</td>\n",
       "        <td style=\"padding-left: 1em; padding-right: 1em; text-align: center; vertical-align: top\">7</td>\n",
       "    </tr>\n",
       "    <tr>\n",
       "        <td style=\"padding-left: 1em; padding-right: 1em; text-align: center; vertical-align: top\">4140900050</td>\n",
       "        <td style=\"padding-left: 1em; padding-right: 1em; text-align: center; vertical-align: top\">440000.0</td>\n",
       "        <td style=\"padding-left: 1em; padding-right: 1em; text-align: center; vertical-align: top\">4.0</td>\n",
       "        <td style=\"padding-left: 1em; padding-right: 1em; text-align: center; vertical-align: top\">1.75</td>\n",
       "        <td style=\"padding-left: 1em; padding-right: 1em; text-align: center; vertical-align: top\">2180.0</td>\n",
       "        <td style=\"padding-left: 1em; padding-right: 1em; text-align: center; vertical-align: top\">10200</td>\n",
       "        <td style=\"padding-left: 1em; padding-right: 1em; text-align: center; vertical-align: top\">1</td>\n",
       "        <td style=\"padding-left: 1em; padding-right: 1em; text-align: center; vertical-align: top\">0</td>\n",
       "        <td style=\"padding-left: 1em; padding-right: 1em; text-align: center; vertical-align: top\">2</td>\n",
       "        <td style=\"padding-left: 1em; padding-right: 1em; text-align: center; vertical-align: top\">3</td>\n",
       "        <td style=\"padding-left: 1em; padding-right: 1em; text-align: center; vertical-align: top\">8</td>\n",
       "    </tr>\n",
       "</table>\n",
       "<table frame=\"box\" rules=\"cols\">\n",
       "    <tr>\n",
       "        <th style=\"padding-left: 1em; padding-right: 1em; text-align: center\">sqft_above</th>\n",
       "        <th style=\"padding-left: 1em; padding-right: 1em; text-align: center\">sqft_basement</th>\n",
       "        <th style=\"padding-left: 1em; padding-right: 1em; text-align: center\">yr_built</th>\n",
       "        <th style=\"padding-left: 1em; padding-right: 1em; text-align: center\">yr_renovated</th>\n",
       "        <th style=\"padding-left: 1em; padding-right: 1em; text-align: center\">zipcode</th>\n",
       "        <th style=\"padding-left: 1em; padding-right: 1em; text-align: center\">lat</th>\n",
       "        <th style=\"padding-left: 1em; padding-right: 1em; text-align: center\">long</th>\n",
       "        <th style=\"padding-left: 1em; padding-right: 1em; text-align: center\">sqft_living15</th>\n",
       "        <th style=\"padding-left: 1em; padding-right: 1em; text-align: center\">sqft_lot15</th>\n",
       "    </tr>\n",
       "    <tr>\n",
       "        <td style=\"padding-left: 1em; padding-right: 1em; text-align: center; vertical-align: top\">1660</td>\n",
       "        <td style=\"padding-left: 1em; padding-right: 1em; text-align: center; vertical-align: top\">1140</td>\n",
       "        <td style=\"padding-left: 1em; padding-right: 1em; text-align: center; vertical-align: top\">1963</td>\n",
       "        <td style=\"padding-left: 1em; padding-right: 1em; text-align: center; vertical-align: top\">0</td>\n",
       "        <td style=\"padding-left: 1em; padding-right: 1em; text-align: center; vertical-align: top\">98115</td>\n",
       "        <td style=\"padding-left: 1em; padding-right: 1em; text-align: center; vertical-align: top\">47.68093246</td>\n",
       "        <td style=\"padding-left: 1em; padding-right: 1em; text-align: center; vertical-align: top\">-122.28583258</td>\n",
       "        <td style=\"padding-left: 1em; padding-right: 1em; text-align: center; vertical-align: top\">2580.0</td>\n",
       "        <td style=\"padding-left: 1em; padding-right: 1em; text-align: center; vertical-align: top\">5900.0</td>\n",
       "    </tr>\n",
       "    <tr>\n",
       "        <td style=\"padding-left: 1em; padding-right: 1em; text-align: center; vertical-align: top\">2490</td>\n",
       "        <td style=\"padding-left: 1em; padding-right: 1em; text-align: center; vertical-align: top\">0</td>\n",
       "        <td style=\"padding-left: 1em; padding-right: 1em; text-align: center; vertical-align: top\">2003</td>\n",
       "        <td style=\"padding-left: 1em; padding-right: 1em; text-align: center; vertical-align: top\">0</td>\n",
       "        <td style=\"padding-left: 1em; padding-right: 1em; text-align: center; vertical-align: top\">98074</td>\n",
       "        <td style=\"padding-left: 1em; padding-right: 1em; text-align: center; vertical-align: top\">47.62984888</td>\n",
       "        <td style=\"padding-left: 1em; padding-right: 1em; text-align: center; vertical-align: top\">-122.02177564</td>\n",
       "        <td style=\"padding-left: 1em; padding-right: 1em; text-align: center; vertical-align: top\">2710.0</td>\n",
       "        <td style=\"padding-left: 1em; padding-right: 1em; text-align: center; vertical-align: top\">6629.0</td>\n",
       "    </tr>\n",
       "    <tr>\n",
       "        <td style=\"padding-left: 1em; padding-right: 1em; text-align: center; vertical-align: top\">1170</td>\n",
       "        <td style=\"padding-left: 1em; padding-right: 1em; text-align: center; vertical-align: top\">1170</td>\n",
       "        <td style=\"padding-left: 1em; padding-right: 1em; text-align: center; vertical-align: top\">1917</td>\n",
       "        <td style=\"padding-left: 1em; padding-right: 1em; text-align: center; vertical-align: top\">0</td>\n",
       "        <td style=\"padding-left: 1em; padding-right: 1em; text-align: center; vertical-align: top\">98144</td>\n",
       "        <td style=\"padding-left: 1em; padding-right: 1em; text-align: center; vertical-align: top\">47.57587004</td>\n",
       "        <td style=\"padding-left: 1em; padding-right: 1em; text-align: center; vertical-align: top\">-122.28796</td>\n",
       "        <td style=\"padding-left: 1em; padding-right: 1em; text-align: center; vertical-align: top\">1360.0</td>\n",
       "        <td style=\"padding-left: 1em; padding-right: 1em; text-align: center; vertical-align: top\">4725.0</td>\n",
       "    </tr>\n",
       "    <tr>\n",
       "        <td style=\"padding-left: 1em; padding-right: 1em; text-align: center; vertical-align: top\">1090</td>\n",
       "        <td style=\"padding-left: 1em; padding-right: 1em; text-align: center; vertical-align: top\">230</td>\n",
       "        <td style=\"padding-left: 1em; padding-right: 1em; text-align: center; vertical-align: top\">1920</td>\n",
       "        <td style=\"padding-left: 1em; padding-right: 1em; text-align: center; vertical-align: top\">0</td>\n",
       "        <td style=\"padding-left: 1em; padding-right: 1em; text-align: center; vertical-align: top\">98107</td>\n",
       "        <td style=\"padding-left: 1em; padding-right: 1em; text-align: center; vertical-align: top\">47.66737217</td>\n",
       "        <td style=\"padding-left: 1em; padding-right: 1em; text-align: center; vertical-align: top\">-122.36472902</td>\n",
       "        <td style=\"padding-left: 1em; padding-right: 1em; text-align: center; vertical-align: top\">1700.0</td>\n",
       "        <td style=\"padding-left: 1em; padding-right: 1em; text-align: center; vertical-align: top\">5000.0</td>\n",
       "    </tr>\n",
       "    <tr>\n",
       "        <td style=\"padding-left: 1em; padding-right: 1em; text-align: center; vertical-align: top\">1904</td>\n",
       "        <td style=\"padding-left: 1em; padding-right: 1em; text-align: center; vertical-align: top\">0</td>\n",
       "        <td style=\"padding-left: 1em; padding-right: 1em; text-align: center; vertical-align: top\">1999</td>\n",
       "        <td style=\"padding-left: 1em; padding-right: 1em; text-align: center; vertical-align: top\">0</td>\n",
       "        <td style=\"padding-left: 1em; padding-right: 1em; text-align: center; vertical-align: top\">98010</td>\n",
       "        <td style=\"padding-left: 1em; padding-right: 1em; text-align: center; vertical-align: top\">47.31068733</td>\n",
       "        <td style=\"padding-left: 1em; padding-right: 1em; text-align: center; vertical-align: top\">-122.0012452</td>\n",
       "        <td style=\"padding-left: 1em; padding-right: 1em; text-align: center; vertical-align: top\">1560.0</td>\n",
       "        <td style=\"padding-left: 1em; padding-right: 1em; text-align: center; vertical-align: top\">12426.0</td>\n",
       "    </tr>\n",
       "    <tr>\n",
       "        <td style=\"padding-left: 1em; padding-right: 1em; text-align: center; vertical-align: top\">1610</td>\n",
       "        <td style=\"padding-left: 1em; padding-right: 1em; text-align: center; vertical-align: top\">0</td>\n",
       "        <td style=\"padding-left: 1em; padding-right: 1em; text-align: center; vertical-align: top\">2006</td>\n",
       "        <td style=\"padding-left: 1em; padding-right: 1em; text-align: center; vertical-align: top\">0</td>\n",
       "        <td style=\"padding-left: 1em; padding-right: 1em; text-align: center; vertical-align: top\">98055</td>\n",
       "        <td style=\"padding-left: 1em; padding-right: 1em; text-align: center; vertical-align: top\">47.44911017</td>\n",
       "        <td style=\"padding-left: 1em; padding-right: 1em; text-align: center; vertical-align: top\">-122.1878086</td>\n",
       "        <td style=\"padding-left: 1em; padding-right: 1em; text-align: center; vertical-align: top\">1610.0</td>\n",
       "        <td style=\"padding-left: 1em; padding-right: 1em; text-align: center; vertical-align: top\">3056.0</td>\n",
       "    </tr>\n",
       "    <tr>\n",
       "        <td style=\"padding-left: 1em; padding-right: 1em; text-align: center; vertical-align: top\">1560</td>\n",
       "        <td style=\"padding-left: 1em; padding-right: 1em; text-align: center; vertical-align: top\">0</td>\n",
       "        <td style=\"padding-left: 1em; padding-right: 1em; text-align: center; vertical-align: top\">1979</td>\n",
       "        <td style=\"padding-left: 1em; padding-right: 1em; text-align: center; vertical-align: top\">0</td>\n",
       "        <td style=\"padding-left: 1em; padding-right: 1em; text-align: center; vertical-align: top\">98001</td>\n",
       "        <td style=\"padding-left: 1em; padding-right: 1em; text-align: center; vertical-align: top\">47.33933392</td>\n",
       "        <td style=\"padding-left: 1em; padding-right: 1em; text-align: center; vertical-align: top\">-122.25864364</td>\n",
       "        <td style=\"padding-left: 1em; padding-right: 1em; text-align: center; vertical-align: top\">1920.0</td>\n",
       "        <td style=\"padding-left: 1em; padding-right: 1em; text-align: center; vertical-align: top\">8120.0</td>\n",
       "    </tr>\n",
       "    <tr>\n",
       "        <td style=\"padding-left: 1em; padding-right: 1em; text-align: center; vertical-align: top\">660</td>\n",
       "        <td style=\"padding-left: 1em; padding-right: 1em; text-align: center; vertical-align: top\">660</td>\n",
       "        <td style=\"padding-left: 1em; padding-right: 1em; text-align: center; vertical-align: top\">1918</td>\n",
       "        <td style=\"padding-left: 1em; padding-right: 1em; text-align: center; vertical-align: top\">0</td>\n",
       "        <td style=\"padding-left: 1em; padding-right: 1em; text-align: center; vertical-align: top\">98106</td>\n",
       "        <td style=\"padding-left: 1em; padding-right: 1em; text-align: center; vertical-align: top\">47.53271982</td>\n",
       "        <td style=\"padding-left: 1em; padding-right: 1em; text-align: center; vertical-align: top\">-122.34716948</td>\n",
       "        <td style=\"padding-left: 1em; padding-right: 1em; text-align: center; vertical-align: top\">1190.0</td>\n",
       "        <td style=\"padding-left: 1em; padding-right: 1em; text-align: center; vertical-align: top\">4200.0</td>\n",
       "    </tr>\n",
       "    <tr>\n",
       "        <td style=\"padding-left: 1em; padding-right: 1em; text-align: center; vertical-align: top\">1260</td>\n",
       "        <td style=\"padding-left: 1em; padding-right: 1em; text-align: center; vertical-align: top\">700</td>\n",
       "        <td style=\"padding-left: 1em; padding-right: 1em; text-align: center; vertical-align: top\">1963</td>\n",
       "        <td style=\"padding-left: 1em; padding-right: 1em; text-align: center; vertical-align: top\">0</td>\n",
       "        <td style=\"padding-left: 1em; padding-right: 1em; text-align: center; vertical-align: top\">98177</td>\n",
       "        <td style=\"padding-left: 1em; padding-right: 1em; text-align: center; vertical-align: top\">47.76407345</td>\n",
       "        <td style=\"padding-left: 1em; padding-right: 1em; text-align: center; vertical-align: top\">-122.36361517</td>\n",
       "        <td style=\"padding-left: 1em; padding-right: 1em; text-align: center; vertical-align: top\">1850.0</td>\n",
       "        <td style=\"padding-left: 1em; padding-right: 1em; text-align: center; vertical-align: top\">8219.0</td>\n",
       "    </tr>\n",
       "    <tr>\n",
       "        <td style=\"padding-left: 1em; padding-right: 1em; text-align: center; vertical-align: top\">2000</td>\n",
       "        <td style=\"padding-left: 1em; padding-right: 1em; text-align: center; vertical-align: top\">180</td>\n",
       "        <td style=\"padding-left: 1em; padding-right: 1em; text-align: center; vertical-align: top\">1966</td>\n",
       "        <td style=\"padding-left: 1em; padding-right: 1em; text-align: center; vertical-align: top\">0</td>\n",
       "        <td style=\"padding-left: 1em; padding-right: 1em; text-align: center; vertical-align: top\">98028</td>\n",
       "        <td style=\"padding-left: 1em; padding-right: 1em; text-align: center; vertical-align: top\">47.76382378</td>\n",
       "        <td style=\"padding-left: 1em; padding-right: 1em; text-align: center; vertical-align: top\">-122.27022456</td>\n",
       "        <td style=\"padding-left: 1em; padding-right: 1em; text-align: center; vertical-align: top\">2590.0</td>\n",
       "        <td style=\"padding-left: 1em; padding-right: 1em; text-align: center; vertical-align: top\">10445.0</td>\n",
       "    </tr>\n",
       "</table>\n",
       "[19396 rows x 20 columns]<br/>Note: Only the head of the SFrame is printed.<br/>You can use print_rows(num_rows=m, num_columns=n) to print more rows and columns.\n",
       "</div>"
      ],
      "text/plain": [
       "Columns:\n",
       "\tid\tstr\n",
       "\tprice\tfloat\n",
       "\tbedrooms\tfloat\n",
       "\tbathrooms\tfloat\n",
       "\tsqft_living\tfloat\n",
       "\tsqft_lot\tint\n",
       "\tfloors\tstr\n",
       "\twaterfront\tint\n",
       "\tview\tint\n",
       "\tcondition\tint\n",
       "\tgrade\tint\n",
       "\tsqft_above\tint\n",
       "\tsqft_basement\tint\n",
       "\tyr_built\tint\n",
       "\tyr_renovated\tint\n",
       "\tzipcode\tstr\n",
       "\tlat\tfloat\n",
       "\tlong\tfloat\n",
       "\tsqft_living15\tfloat\n",
       "\tsqft_lot15\tfloat\n",
       "\n",
       "Rows: 19396\n",
       "\n",
       "Data:\n",
       "+------------+----------+----------+-----------+-------------+----------+--------+\n",
       "|     id     |  price   | bedrooms | bathrooms | sqft_living | sqft_lot | floors |\n",
       "+------------+----------+----------+-----------+-------------+----------+--------+\n",
       "| 2780400035 | 665000.0 |   4.0    |    2.5    |    2800.0   |   5900   |   1    |\n",
       "| 1703050500 | 645000.0 |   3.0    |    2.5    |    2490.0   |   5978   |   2    |\n",
       "| 5700002325 | 640000.0 |   3.0    |    1.75   |    2340.0   |   4206   |   1    |\n",
       "| 0475000510 | 594000.0 |   3.0    |    1.0    |    1320.0   |   5000   |   1    |\n",
       "| 0844001052 | 365000.0 |   4.0    |    2.5    |    1904.0   |   8200   |   2    |\n",
       "| 2781280290 | 305000.0 |   3.0    |    2.5    |    1610.0   |   3516   |   2    |\n",
       "| 2214800630 | 239950.0 |   3.0    |    2.25   |    1560.0   |   8280   |   2    |\n",
       "| 2114700540 | 366000.0 |   3.0    |    2.5    |    1320.0   |   4320   |   1    |\n",
       "| 2596400050 | 375000.0 |   3.0    |    1.0    |    1960.0   |   7955   |   1    |\n",
       "| 4140900050 | 440000.0 |   4.0    |    1.75   |    2180.0   |  10200   |   1    |\n",
       "+------------+----------+----------+-----------+-------------+----------+--------+\n",
       "+------------+------+-----------+-------+------------+---------------+----------+\n",
       "| waterfront | view | condition | grade | sqft_above | sqft_basement | yr_built |\n",
       "+------------+------+-----------+-------+------------+---------------+----------+\n",
       "|     0      |  0   |     3     |   8   |    1660    |      1140     |   1963   |\n",
       "|     0      |  0   |     3     |   9   |    2490    |       0       |   2003   |\n",
       "|     0      |  0   |     5     |   7   |    1170    |      1170     |   1917   |\n",
       "|     0      |  0   |     4     |   7   |    1090    |      230      |   1920   |\n",
       "|     0      |  0   |     5     |   7   |    1904    |       0       |   1999   |\n",
       "|     0      |  0   |     3     |   8   |    1610    |       0       |   2006   |\n",
       "|     0      |  0   |     4     |   7   |    1560    |       0       |   1979   |\n",
       "|     0      |  0   |     3     |   6   |    660     |      660      |   1918   |\n",
       "|     0      |  0   |     4     |   7   |    1260    |      700      |   1963   |\n",
       "|     0      |  2   |     3     |   8   |    2000    |      180      |   1966   |\n",
       "+------------+------+-----------+-------+------------+---------------+----------+\n",
       "+--------------+---------+-------------+---------------+---------------+------------+\n",
       "| yr_renovated | zipcode |     lat     |      long     | sqft_living15 | sqft_lot15 |\n",
       "+--------------+---------+-------------+---------------+---------------+------------+\n",
       "|      0       |  98115  | 47.68093246 | -122.28583258 |     2580.0    |   5900.0   |\n",
       "|      0       |  98074  | 47.62984888 | -122.02177564 |     2710.0    |   6629.0   |\n",
       "|      0       |  98144  | 47.57587004 |   -122.28796  |     1360.0    |   4725.0   |\n",
       "|      0       |  98107  | 47.66737217 | -122.36472902 |     1700.0    |   5000.0   |\n",
       "|      0       |  98010  | 47.31068733 |  -122.0012452 |     1560.0    |  12426.0   |\n",
       "|      0       |  98055  | 47.44911017 |  -122.1878086 |     1610.0    |   3056.0   |\n",
       "|      0       |  98001  | 47.33933392 | -122.25864364 |     1920.0    |   8120.0   |\n",
       "|      0       |  98106  | 47.53271982 | -122.34716948 |     1190.0    |   4200.0   |\n",
       "|      0       |  98177  | 47.76407345 | -122.36361517 |     1850.0    |   8219.0   |\n",
       "|      0       |  98028  | 47.76382378 | -122.27022456 |     2590.0    |  10445.0   |\n",
       "+--------------+---------+-------------+---------------+---------------+------------+\n",
       "[19396 rows x 20 columns]\n",
       "Note: Only the head of the SFrame is printed.\n",
       "You can use print_rows(num_rows=m, num_columns=n) to print more rows and columns."
      ]
     },
     "execution_count": 424,
     "metadata": {},
     "output_type": "execute_result"
    }
   ],
   "source": [
    "train_valid_shuffled.remove_column('date')"
   ]
  },
  {
   "cell_type": "code",
   "execution_count": 416,
   "metadata": {
    "collapsed": true
   },
   "outputs": [],
   "source": [
    "my_2_features = train_valid_shuffled.column_names()"
   ]
  },
  {
   "cell_type": "code",
   "execution_count": 417,
   "metadata": {
    "collapsed": true
   },
   "outputs": [
    {
     "data": {
      "text/html": [
       "<div style=\"max-height:1000px;max-width:1500px;overflow:auto;\"><table frame=\"box\" rules=\"cols\">\n",
       "    <tr>\n",
       "        <th style=\"padding-left: 1em; padding-right: 1em; text-align: center\">id</th>\n",
       "        <th style=\"padding-left: 1em; padding-right: 1em; text-align: center\">bedrooms</th>\n",
       "        <th style=\"padding-left: 1em; padding-right: 1em; text-align: center\">bathrooms</th>\n",
       "        <th style=\"padding-left: 1em; padding-right: 1em; text-align: center\">sqft_living</th>\n",
       "        <th style=\"padding-left: 1em; padding-right: 1em; text-align: center\">sqft_lot</th>\n",
       "        <th style=\"padding-left: 1em; padding-right: 1em; text-align: center\">floors</th>\n",
       "        <th style=\"padding-left: 1em; padding-right: 1em; text-align: center\">waterfront</th>\n",
       "        <th style=\"padding-left: 1em; padding-right: 1em; text-align: center\">view</th>\n",
       "        <th style=\"padding-left: 1em; padding-right: 1em; text-align: center\">condition</th>\n",
       "        <th style=\"padding-left: 1em; padding-right: 1em; text-align: center\">grade</th>\n",
       "        <th style=\"padding-left: 1em; padding-right: 1em; text-align: center\">sqft_above</th>\n",
       "    </tr>\n",
       "    <tr>\n",
       "        <td style=\"padding-left: 1em; padding-right: 1em; text-align: center; vertical-align: top\">2780400035</td>\n",
       "        <td style=\"padding-left: 1em; padding-right: 1em; text-align: center; vertical-align: top\">4.0</td>\n",
       "        <td style=\"padding-left: 1em; padding-right: 1em; text-align: center; vertical-align: top\">2.5</td>\n",
       "        <td style=\"padding-left: 1em; padding-right: 1em; text-align: center; vertical-align: top\">2800.0</td>\n",
       "        <td style=\"padding-left: 1em; padding-right: 1em; text-align: center; vertical-align: top\">5900</td>\n",
       "        <td style=\"padding-left: 1em; padding-right: 1em; text-align: center; vertical-align: top\">1</td>\n",
       "        <td style=\"padding-left: 1em; padding-right: 1em; text-align: center; vertical-align: top\">0</td>\n",
       "        <td style=\"padding-left: 1em; padding-right: 1em; text-align: center; vertical-align: top\">0</td>\n",
       "        <td style=\"padding-left: 1em; padding-right: 1em; text-align: center; vertical-align: top\">3</td>\n",
       "        <td style=\"padding-left: 1em; padding-right: 1em; text-align: center; vertical-align: top\">8</td>\n",
       "        <td style=\"padding-left: 1em; padding-right: 1em; text-align: center; vertical-align: top\">1660</td>\n",
       "    </tr>\n",
       "    <tr>\n",
       "        <td style=\"padding-left: 1em; padding-right: 1em; text-align: center; vertical-align: top\">1703050500</td>\n",
       "        <td style=\"padding-left: 1em; padding-right: 1em; text-align: center; vertical-align: top\">3.0</td>\n",
       "        <td style=\"padding-left: 1em; padding-right: 1em; text-align: center; vertical-align: top\">2.5</td>\n",
       "        <td style=\"padding-left: 1em; padding-right: 1em; text-align: center; vertical-align: top\">2490.0</td>\n",
       "        <td style=\"padding-left: 1em; padding-right: 1em; text-align: center; vertical-align: top\">5978</td>\n",
       "        <td style=\"padding-left: 1em; padding-right: 1em; text-align: center; vertical-align: top\">2</td>\n",
       "        <td style=\"padding-left: 1em; padding-right: 1em; text-align: center; vertical-align: top\">0</td>\n",
       "        <td style=\"padding-left: 1em; padding-right: 1em; text-align: center; vertical-align: top\">0</td>\n",
       "        <td style=\"padding-left: 1em; padding-right: 1em; text-align: center; vertical-align: top\">3</td>\n",
       "        <td style=\"padding-left: 1em; padding-right: 1em; text-align: center; vertical-align: top\">9</td>\n",
       "        <td style=\"padding-left: 1em; padding-right: 1em; text-align: center; vertical-align: top\">2490</td>\n",
       "    </tr>\n",
       "    <tr>\n",
       "        <td style=\"padding-left: 1em; padding-right: 1em; text-align: center; vertical-align: top\">5700002325</td>\n",
       "        <td style=\"padding-left: 1em; padding-right: 1em; text-align: center; vertical-align: top\">3.0</td>\n",
       "        <td style=\"padding-left: 1em; padding-right: 1em; text-align: center; vertical-align: top\">1.75</td>\n",
       "        <td style=\"padding-left: 1em; padding-right: 1em; text-align: center; vertical-align: top\">2340.0</td>\n",
       "        <td style=\"padding-left: 1em; padding-right: 1em; text-align: center; vertical-align: top\">4206</td>\n",
       "        <td style=\"padding-left: 1em; padding-right: 1em; text-align: center; vertical-align: top\">1</td>\n",
       "        <td style=\"padding-left: 1em; padding-right: 1em; text-align: center; vertical-align: top\">0</td>\n",
       "        <td style=\"padding-left: 1em; padding-right: 1em; text-align: center; vertical-align: top\">0</td>\n",
       "        <td style=\"padding-left: 1em; padding-right: 1em; text-align: center; vertical-align: top\">5</td>\n",
       "        <td style=\"padding-left: 1em; padding-right: 1em; text-align: center; vertical-align: top\">7</td>\n",
       "        <td style=\"padding-left: 1em; padding-right: 1em; text-align: center; vertical-align: top\">1170</td>\n",
       "    </tr>\n",
       "    <tr>\n",
       "        <td style=\"padding-left: 1em; padding-right: 1em; text-align: center; vertical-align: top\">0475000510</td>\n",
       "        <td style=\"padding-left: 1em; padding-right: 1em; text-align: center; vertical-align: top\">3.0</td>\n",
       "        <td style=\"padding-left: 1em; padding-right: 1em; text-align: center; vertical-align: top\">1.0</td>\n",
       "        <td style=\"padding-left: 1em; padding-right: 1em; text-align: center; vertical-align: top\">1320.0</td>\n",
       "        <td style=\"padding-left: 1em; padding-right: 1em; text-align: center; vertical-align: top\">5000</td>\n",
       "        <td style=\"padding-left: 1em; padding-right: 1em; text-align: center; vertical-align: top\">1</td>\n",
       "        <td style=\"padding-left: 1em; padding-right: 1em; text-align: center; vertical-align: top\">0</td>\n",
       "        <td style=\"padding-left: 1em; padding-right: 1em; text-align: center; vertical-align: top\">0</td>\n",
       "        <td style=\"padding-left: 1em; padding-right: 1em; text-align: center; vertical-align: top\">4</td>\n",
       "        <td style=\"padding-left: 1em; padding-right: 1em; text-align: center; vertical-align: top\">7</td>\n",
       "        <td style=\"padding-left: 1em; padding-right: 1em; text-align: center; vertical-align: top\">1090</td>\n",
       "    </tr>\n",
       "    <tr>\n",
       "        <td style=\"padding-left: 1em; padding-right: 1em; text-align: center; vertical-align: top\">0844001052</td>\n",
       "        <td style=\"padding-left: 1em; padding-right: 1em; text-align: center; vertical-align: top\">4.0</td>\n",
       "        <td style=\"padding-left: 1em; padding-right: 1em; text-align: center; vertical-align: top\">2.5</td>\n",
       "        <td style=\"padding-left: 1em; padding-right: 1em; text-align: center; vertical-align: top\">1904.0</td>\n",
       "        <td style=\"padding-left: 1em; padding-right: 1em; text-align: center; vertical-align: top\">8200</td>\n",
       "        <td style=\"padding-left: 1em; padding-right: 1em; text-align: center; vertical-align: top\">2</td>\n",
       "        <td style=\"padding-left: 1em; padding-right: 1em; text-align: center; vertical-align: top\">0</td>\n",
       "        <td style=\"padding-left: 1em; padding-right: 1em; text-align: center; vertical-align: top\">0</td>\n",
       "        <td style=\"padding-left: 1em; padding-right: 1em; text-align: center; vertical-align: top\">5</td>\n",
       "        <td style=\"padding-left: 1em; padding-right: 1em; text-align: center; vertical-align: top\">7</td>\n",
       "        <td style=\"padding-left: 1em; padding-right: 1em; text-align: center; vertical-align: top\">1904</td>\n",
       "    </tr>\n",
       "    <tr>\n",
       "        <td style=\"padding-left: 1em; padding-right: 1em; text-align: center; vertical-align: top\">2781280290</td>\n",
       "        <td style=\"padding-left: 1em; padding-right: 1em; text-align: center; vertical-align: top\">3.0</td>\n",
       "        <td style=\"padding-left: 1em; padding-right: 1em; text-align: center; vertical-align: top\">2.5</td>\n",
       "        <td style=\"padding-left: 1em; padding-right: 1em; text-align: center; vertical-align: top\">1610.0</td>\n",
       "        <td style=\"padding-left: 1em; padding-right: 1em; text-align: center; vertical-align: top\">3516</td>\n",
       "        <td style=\"padding-left: 1em; padding-right: 1em; text-align: center; vertical-align: top\">2</td>\n",
       "        <td style=\"padding-left: 1em; padding-right: 1em; text-align: center; vertical-align: top\">0</td>\n",
       "        <td style=\"padding-left: 1em; padding-right: 1em; text-align: center; vertical-align: top\">0</td>\n",
       "        <td style=\"padding-left: 1em; padding-right: 1em; text-align: center; vertical-align: top\">3</td>\n",
       "        <td style=\"padding-left: 1em; padding-right: 1em; text-align: center; vertical-align: top\">8</td>\n",
       "        <td style=\"padding-left: 1em; padding-right: 1em; text-align: center; vertical-align: top\">1610</td>\n",
       "    </tr>\n",
       "    <tr>\n",
       "        <td style=\"padding-left: 1em; padding-right: 1em; text-align: center; vertical-align: top\">2214800630</td>\n",
       "        <td style=\"padding-left: 1em; padding-right: 1em; text-align: center; vertical-align: top\">3.0</td>\n",
       "        <td style=\"padding-left: 1em; padding-right: 1em; text-align: center; vertical-align: top\">2.25</td>\n",
       "        <td style=\"padding-left: 1em; padding-right: 1em; text-align: center; vertical-align: top\">1560.0</td>\n",
       "        <td style=\"padding-left: 1em; padding-right: 1em; text-align: center; vertical-align: top\">8280</td>\n",
       "        <td style=\"padding-left: 1em; padding-right: 1em; text-align: center; vertical-align: top\">2</td>\n",
       "        <td style=\"padding-left: 1em; padding-right: 1em; text-align: center; vertical-align: top\">0</td>\n",
       "        <td style=\"padding-left: 1em; padding-right: 1em; text-align: center; vertical-align: top\">0</td>\n",
       "        <td style=\"padding-left: 1em; padding-right: 1em; text-align: center; vertical-align: top\">4</td>\n",
       "        <td style=\"padding-left: 1em; padding-right: 1em; text-align: center; vertical-align: top\">7</td>\n",
       "        <td style=\"padding-left: 1em; padding-right: 1em; text-align: center; vertical-align: top\">1560</td>\n",
       "    </tr>\n",
       "    <tr>\n",
       "        <td style=\"padding-left: 1em; padding-right: 1em; text-align: center; vertical-align: top\">2114700540</td>\n",
       "        <td style=\"padding-left: 1em; padding-right: 1em; text-align: center; vertical-align: top\">3.0</td>\n",
       "        <td style=\"padding-left: 1em; padding-right: 1em; text-align: center; vertical-align: top\">2.5</td>\n",
       "        <td style=\"padding-left: 1em; padding-right: 1em; text-align: center; vertical-align: top\">1320.0</td>\n",
       "        <td style=\"padding-left: 1em; padding-right: 1em; text-align: center; vertical-align: top\">4320</td>\n",
       "        <td style=\"padding-left: 1em; padding-right: 1em; text-align: center; vertical-align: top\">1</td>\n",
       "        <td style=\"padding-left: 1em; padding-right: 1em; text-align: center; vertical-align: top\">0</td>\n",
       "        <td style=\"padding-left: 1em; padding-right: 1em; text-align: center; vertical-align: top\">0</td>\n",
       "        <td style=\"padding-left: 1em; padding-right: 1em; text-align: center; vertical-align: top\">3</td>\n",
       "        <td style=\"padding-left: 1em; padding-right: 1em; text-align: center; vertical-align: top\">6</td>\n",
       "        <td style=\"padding-left: 1em; padding-right: 1em; text-align: center; vertical-align: top\">660</td>\n",
       "    </tr>\n",
       "    <tr>\n",
       "        <td style=\"padding-left: 1em; padding-right: 1em; text-align: center; vertical-align: top\">2596400050</td>\n",
       "        <td style=\"padding-left: 1em; padding-right: 1em; text-align: center; vertical-align: top\">3.0</td>\n",
       "        <td style=\"padding-left: 1em; padding-right: 1em; text-align: center; vertical-align: top\">1.0</td>\n",
       "        <td style=\"padding-left: 1em; padding-right: 1em; text-align: center; vertical-align: top\">1960.0</td>\n",
       "        <td style=\"padding-left: 1em; padding-right: 1em; text-align: center; vertical-align: top\">7955</td>\n",
       "        <td style=\"padding-left: 1em; padding-right: 1em; text-align: center; vertical-align: top\">1</td>\n",
       "        <td style=\"padding-left: 1em; padding-right: 1em; text-align: center; vertical-align: top\">0</td>\n",
       "        <td style=\"padding-left: 1em; padding-right: 1em; text-align: center; vertical-align: top\">0</td>\n",
       "        <td style=\"padding-left: 1em; padding-right: 1em; text-align: center; vertical-align: top\">4</td>\n",
       "        <td style=\"padding-left: 1em; padding-right: 1em; text-align: center; vertical-align: top\">7</td>\n",
       "        <td style=\"padding-left: 1em; padding-right: 1em; text-align: center; vertical-align: top\">1260</td>\n",
       "    </tr>\n",
       "    <tr>\n",
       "        <td style=\"padding-left: 1em; padding-right: 1em; text-align: center; vertical-align: top\">4140900050</td>\n",
       "        <td style=\"padding-left: 1em; padding-right: 1em; text-align: center; vertical-align: top\">4.0</td>\n",
       "        <td style=\"padding-left: 1em; padding-right: 1em; text-align: center; vertical-align: top\">1.75</td>\n",
       "        <td style=\"padding-left: 1em; padding-right: 1em; text-align: center; vertical-align: top\">2180.0</td>\n",
       "        <td style=\"padding-left: 1em; padding-right: 1em; text-align: center; vertical-align: top\">10200</td>\n",
       "        <td style=\"padding-left: 1em; padding-right: 1em; text-align: center; vertical-align: top\">1</td>\n",
       "        <td style=\"padding-left: 1em; padding-right: 1em; text-align: center; vertical-align: top\">0</td>\n",
       "        <td style=\"padding-left: 1em; padding-right: 1em; text-align: center; vertical-align: top\">2</td>\n",
       "        <td style=\"padding-left: 1em; padding-right: 1em; text-align: center; vertical-align: top\">3</td>\n",
       "        <td style=\"padding-left: 1em; padding-right: 1em; text-align: center; vertical-align: top\">8</td>\n",
       "        <td style=\"padding-left: 1em; padding-right: 1em; text-align: center; vertical-align: top\">2000</td>\n",
       "    </tr>\n",
       "</table>\n",
       "<table frame=\"box\" rules=\"cols\">\n",
       "    <tr>\n",
       "        <th style=\"padding-left: 1em; padding-right: 1em; text-align: center\">sqft_basement</th>\n",
       "        <th style=\"padding-left: 1em; padding-right: 1em; text-align: center\">yr_built</th>\n",
       "        <th style=\"padding-left: 1em; padding-right: 1em; text-align: center\">yr_renovated</th>\n",
       "        <th style=\"padding-left: 1em; padding-right: 1em; text-align: center\">zipcode</th>\n",
       "        <th style=\"padding-left: 1em; padding-right: 1em; text-align: center\">lat</th>\n",
       "        <th style=\"padding-left: 1em; padding-right: 1em; text-align: center\">long</th>\n",
       "        <th style=\"padding-left: 1em; padding-right: 1em; text-align: center\">sqft_living15</th>\n",
       "        <th style=\"padding-left: 1em; padding-right: 1em; text-align: center\">sqft_lot15</th>\n",
       "    </tr>\n",
       "    <tr>\n",
       "        <td style=\"padding-left: 1em; padding-right: 1em; text-align: center; vertical-align: top\">1140</td>\n",
       "        <td style=\"padding-left: 1em; padding-right: 1em; text-align: center; vertical-align: top\">1963</td>\n",
       "        <td style=\"padding-left: 1em; padding-right: 1em; text-align: center; vertical-align: top\">0</td>\n",
       "        <td style=\"padding-left: 1em; padding-right: 1em; text-align: center; vertical-align: top\">98115</td>\n",
       "        <td style=\"padding-left: 1em; padding-right: 1em; text-align: center; vertical-align: top\">47.68093246</td>\n",
       "        <td style=\"padding-left: 1em; padding-right: 1em; text-align: center; vertical-align: top\">-122.28583258</td>\n",
       "        <td style=\"padding-left: 1em; padding-right: 1em; text-align: center; vertical-align: top\">2580.0</td>\n",
       "        <td style=\"padding-left: 1em; padding-right: 1em; text-align: center; vertical-align: top\">5900.0</td>\n",
       "    </tr>\n",
       "    <tr>\n",
       "        <td style=\"padding-left: 1em; padding-right: 1em; text-align: center; vertical-align: top\">0</td>\n",
       "        <td style=\"padding-left: 1em; padding-right: 1em; text-align: center; vertical-align: top\">2003</td>\n",
       "        <td style=\"padding-left: 1em; padding-right: 1em; text-align: center; vertical-align: top\">0</td>\n",
       "        <td style=\"padding-left: 1em; padding-right: 1em; text-align: center; vertical-align: top\">98074</td>\n",
       "        <td style=\"padding-left: 1em; padding-right: 1em; text-align: center; vertical-align: top\">47.62984888</td>\n",
       "        <td style=\"padding-left: 1em; padding-right: 1em; text-align: center; vertical-align: top\">-122.02177564</td>\n",
       "        <td style=\"padding-left: 1em; padding-right: 1em; text-align: center; vertical-align: top\">2710.0</td>\n",
       "        <td style=\"padding-left: 1em; padding-right: 1em; text-align: center; vertical-align: top\">6629.0</td>\n",
       "    </tr>\n",
       "    <tr>\n",
       "        <td style=\"padding-left: 1em; padding-right: 1em; text-align: center; vertical-align: top\">1170</td>\n",
       "        <td style=\"padding-left: 1em; padding-right: 1em; text-align: center; vertical-align: top\">1917</td>\n",
       "        <td style=\"padding-left: 1em; padding-right: 1em; text-align: center; vertical-align: top\">0</td>\n",
       "        <td style=\"padding-left: 1em; padding-right: 1em; text-align: center; vertical-align: top\">98144</td>\n",
       "        <td style=\"padding-left: 1em; padding-right: 1em; text-align: center; vertical-align: top\">47.57587004</td>\n",
       "        <td style=\"padding-left: 1em; padding-right: 1em; text-align: center; vertical-align: top\">-122.28796</td>\n",
       "        <td style=\"padding-left: 1em; padding-right: 1em; text-align: center; vertical-align: top\">1360.0</td>\n",
       "        <td style=\"padding-left: 1em; padding-right: 1em; text-align: center; vertical-align: top\">4725.0</td>\n",
       "    </tr>\n",
       "    <tr>\n",
       "        <td style=\"padding-left: 1em; padding-right: 1em; text-align: center; vertical-align: top\">230</td>\n",
       "        <td style=\"padding-left: 1em; padding-right: 1em; text-align: center; vertical-align: top\">1920</td>\n",
       "        <td style=\"padding-left: 1em; padding-right: 1em; text-align: center; vertical-align: top\">0</td>\n",
       "        <td style=\"padding-left: 1em; padding-right: 1em; text-align: center; vertical-align: top\">98107</td>\n",
       "        <td style=\"padding-left: 1em; padding-right: 1em; text-align: center; vertical-align: top\">47.66737217</td>\n",
       "        <td style=\"padding-left: 1em; padding-right: 1em; text-align: center; vertical-align: top\">-122.36472902</td>\n",
       "        <td style=\"padding-left: 1em; padding-right: 1em; text-align: center; vertical-align: top\">1700.0</td>\n",
       "        <td style=\"padding-left: 1em; padding-right: 1em; text-align: center; vertical-align: top\">5000.0</td>\n",
       "    </tr>\n",
       "    <tr>\n",
       "        <td style=\"padding-left: 1em; padding-right: 1em; text-align: center; vertical-align: top\">0</td>\n",
       "        <td style=\"padding-left: 1em; padding-right: 1em; text-align: center; vertical-align: top\">1999</td>\n",
       "        <td style=\"padding-left: 1em; padding-right: 1em; text-align: center; vertical-align: top\">0</td>\n",
       "        <td style=\"padding-left: 1em; padding-right: 1em; text-align: center; vertical-align: top\">98010</td>\n",
       "        <td style=\"padding-left: 1em; padding-right: 1em; text-align: center; vertical-align: top\">47.31068733</td>\n",
       "        <td style=\"padding-left: 1em; padding-right: 1em; text-align: center; vertical-align: top\">-122.0012452</td>\n",
       "        <td style=\"padding-left: 1em; padding-right: 1em; text-align: center; vertical-align: top\">1560.0</td>\n",
       "        <td style=\"padding-left: 1em; padding-right: 1em; text-align: center; vertical-align: top\">12426.0</td>\n",
       "    </tr>\n",
       "    <tr>\n",
       "        <td style=\"padding-left: 1em; padding-right: 1em; text-align: center; vertical-align: top\">0</td>\n",
       "        <td style=\"padding-left: 1em; padding-right: 1em; text-align: center; vertical-align: top\">2006</td>\n",
       "        <td style=\"padding-left: 1em; padding-right: 1em; text-align: center; vertical-align: top\">0</td>\n",
       "        <td style=\"padding-left: 1em; padding-right: 1em; text-align: center; vertical-align: top\">98055</td>\n",
       "        <td style=\"padding-left: 1em; padding-right: 1em; text-align: center; vertical-align: top\">47.44911017</td>\n",
       "        <td style=\"padding-left: 1em; padding-right: 1em; text-align: center; vertical-align: top\">-122.1878086</td>\n",
       "        <td style=\"padding-left: 1em; padding-right: 1em; text-align: center; vertical-align: top\">1610.0</td>\n",
       "        <td style=\"padding-left: 1em; padding-right: 1em; text-align: center; vertical-align: top\">3056.0</td>\n",
       "    </tr>\n",
       "    <tr>\n",
       "        <td style=\"padding-left: 1em; padding-right: 1em; text-align: center; vertical-align: top\">0</td>\n",
       "        <td style=\"padding-left: 1em; padding-right: 1em; text-align: center; vertical-align: top\">1979</td>\n",
       "        <td style=\"padding-left: 1em; padding-right: 1em; text-align: center; vertical-align: top\">0</td>\n",
       "        <td style=\"padding-left: 1em; padding-right: 1em; text-align: center; vertical-align: top\">98001</td>\n",
       "        <td style=\"padding-left: 1em; padding-right: 1em; text-align: center; vertical-align: top\">47.33933392</td>\n",
       "        <td style=\"padding-left: 1em; padding-right: 1em; text-align: center; vertical-align: top\">-122.25864364</td>\n",
       "        <td style=\"padding-left: 1em; padding-right: 1em; text-align: center; vertical-align: top\">1920.0</td>\n",
       "        <td style=\"padding-left: 1em; padding-right: 1em; text-align: center; vertical-align: top\">8120.0</td>\n",
       "    </tr>\n",
       "    <tr>\n",
       "        <td style=\"padding-left: 1em; padding-right: 1em; text-align: center; vertical-align: top\">660</td>\n",
       "        <td style=\"padding-left: 1em; padding-right: 1em; text-align: center; vertical-align: top\">1918</td>\n",
       "        <td style=\"padding-left: 1em; padding-right: 1em; text-align: center; vertical-align: top\">0</td>\n",
       "        <td style=\"padding-left: 1em; padding-right: 1em; text-align: center; vertical-align: top\">98106</td>\n",
       "        <td style=\"padding-left: 1em; padding-right: 1em; text-align: center; vertical-align: top\">47.53271982</td>\n",
       "        <td style=\"padding-left: 1em; padding-right: 1em; text-align: center; vertical-align: top\">-122.34716948</td>\n",
       "        <td style=\"padding-left: 1em; padding-right: 1em; text-align: center; vertical-align: top\">1190.0</td>\n",
       "        <td style=\"padding-left: 1em; padding-right: 1em; text-align: center; vertical-align: top\">4200.0</td>\n",
       "    </tr>\n",
       "    <tr>\n",
       "        <td style=\"padding-left: 1em; padding-right: 1em; text-align: center; vertical-align: top\">700</td>\n",
       "        <td style=\"padding-left: 1em; padding-right: 1em; text-align: center; vertical-align: top\">1963</td>\n",
       "        <td style=\"padding-left: 1em; padding-right: 1em; text-align: center; vertical-align: top\">0</td>\n",
       "        <td style=\"padding-left: 1em; padding-right: 1em; text-align: center; vertical-align: top\">98177</td>\n",
       "        <td style=\"padding-left: 1em; padding-right: 1em; text-align: center; vertical-align: top\">47.76407345</td>\n",
       "        <td style=\"padding-left: 1em; padding-right: 1em; text-align: center; vertical-align: top\">-122.36361517</td>\n",
       "        <td style=\"padding-left: 1em; padding-right: 1em; text-align: center; vertical-align: top\">1850.0</td>\n",
       "        <td style=\"padding-left: 1em; padding-right: 1em; text-align: center; vertical-align: top\">8219.0</td>\n",
       "    </tr>\n",
       "    <tr>\n",
       "        <td style=\"padding-left: 1em; padding-right: 1em; text-align: center; vertical-align: top\">180</td>\n",
       "        <td style=\"padding-left: 1em; padding-right: 1em; text-align: center; vertical-align: top\">1966</td>\n",
       "        <td style=\"padding-left: 1em; padding-right: 1em; text-align: center; vertical-align: top\">0</td>\n",
       "        <td style=\"padding-left: 1em; padding-right: 1em; text-align: center; vertical-align: top\">98028</td>\n",
       "        <td style=\"padding-left: 1em; padding-right: 1em; text-align: center; vertical-align: top\">47.76382378</td>\n",
       "        <td style=\"padding-left: 1em; padding-right: 1em; text-align: center; vertical-align: top\">-122.27022456</td>\n",
       "        <td style=\"padding-left: 1em; padding-right: 1em; text-align: center; vertical-align: top\">2590.0</td>\n",
       "        <td style=\"padding-left: 1em; padding-right: 1em; text-align: center; vertical-align: top\">10445.0</td>\n",
       "    </tr>\n",
       "</table>\n",
       "[19396 rows x 19 columns]<br/>Note: Only the head of the SFrame is printed.<br/>You can use print_rows(num_rows=m, num_columns=n) to print more rows and columns.\n",
       "</div>"
      ],
      "text/plain": [
       "Columns:\n",
       "\tid\tstr\n",
       "\tbedrooms\tfloat\n",
       "\tbathrooms\tfloat\n",
       "\tsqft_living\tfloat\n",
       "\tsqft_lot\tint\n",
       "\tfloors\tstr\n",
       "\twaterfront\tint\n",
       "\tview\tint\n",
       "\tcondition\tint\n",
       "\tgrade\tint\n",
       "\tsqft_above\tint\n",
       "\tsqft_basement\tint\n",
       "\tyr_built\tint\n",
       "\tyr_renovated\tint\n",
       "\tzipcode\tstr\n",
       "\tlat\tfloat\n",
       "\tlong\tfloat\n",
       "\tsqft_living15\tfloat\n",
       "\tsqft_lot15\tfloat\n",
       "\n",
       "Rows: 19396\n",
       "\n",
       "Data:\n",
       "+------------+----------+-----------+-------------+----------+--------+------------+\n",
       "|     id     | bedrooms | bathrooms | sqft_living | sqft_lot | floors | waterfront |\n",
       "+------------+----------+-----------+-------------+----------+--------+------------+\n",
       "| 2780400035 |   4.0    |    2.5    |    2800.0   |   5900   |   1    |     0      |\n",
       "| 1703050500 |   3.0    |    2.5    |    2490.0   |   5978   |   2    |     0      |\n",
       "| 5700002325 |   3.0    |    1.75   |    2340.0   |   4206   |   1    |     0      |\n",
       "| 0475000510 |   3.0    |    1.0    |    1320.0   |   5000   |   1    |     0      |\n",
       "| 0844001052 |   4.0    |    2.5    |    1904.0   |   8200   |   2    |     0      |\n",
       "| 2781280290 |   3.0    |    2.5    |    1610.0   |   3516   |   2    |     0      |\n",
       "| 2214800630 |   3.0    |    2.25   |    1560.0   |   8280   |   2    |     0      |\n",
       "| 2114700540 |   3.0    |    2.5    |    1320.0   |   4320   |   1    |     0      |\n",
       "| 2596400050 |   3.0    |    1.0    |    1960.0   |   7955   |   1    |     0      |\n",
       "| 4140900050 |   4.0    |    1.75   |    2180.0   |  10200   |   1    |     0      |\n",
       "+------------+----------+-----------+-------------+----------+--------+------------+\n",
       "+------+-----------+-------+------------+---------------+----------+--------------+\n",
       "| view | condition | grade | sqft_above | sqft_basement | yr_built | yr_renovated |\n",
       "+------+-----------+-------+------------+---------------+----------+--------------+\n",
       "|  0   |     3     |   8   |    1660    |      1140     |   1963   |      0       |\n",
       "|  0   |     3     |   9   |    2490    |       0       |   2003   |      0       |\n",
       "|  0   |     5     |   7   |    1170    |      1170     |   1917   |      0       |\n",
       "|  0   |     4     |   7   |    1090    |      230      |   1920   |      0       |\n",
       "|  0   |     5     |   7   |    1904    |       0       |   1999   |      0       |\n",
       "|  0   |     3     |   8   |    1610    |       0       |   2006   |      0       |\n",
       "|  0   |     4     |   7   |    1560    |       0       |   1979   |      0       |\n",
       "|  0   |     3     |   6   |    660     |      660      |   1918   |      0       |\n",
       "|  0   |     4     |   7   |    1260    |      700      |   1963   |      0       |\n",
       "|  2   |     3     |   8   |    2000    |      180      |   1966   |      0       |\n",
       "+------+-----------+-------+------------+---------------+----------+--------------+\n",
       "+---------+-------------+---------------+---------------+------------+\n",
       "| zipcode |     lat     |      long     | sqft_living15 | sqft_lot15 |\n",
       "+---------+-------------+---------------+---------------+------------+\n",
       "|  98115  | 47.68093246 | -122.28583258 |     2580.0    |   5900.0   |\n",
       "|  98074  | 47.62984888 | -122.02177564 |     2710.0    |   6629.0   |\n",
       "|  98144  | 47.57587004 |   -122.28796  |     1360.0    |   4725.0   |\n",
       "|  98107  | 47.66737217 | -122.36472902 |     1700.0    |   5000.0   |\n",
       "|  98010  | 47.31068733 |  -122.0012452 |     1560.0    |  12426.0   |\n",
       "|  98055  | 47.44911017 |  -122.1878086 |     1610.0    |   3056.0   |\n",
       "|  98001  | 47.33933392 | -122.25864364 |     1920.0    |   8120.0   |\n",
       "|  98106  | 47.53271982 | -122.34716948 |     1190.0    |   4200.0   |\n",
       "|  98177  | 47.76407345 | -122.36361517 |     1850.0    |   8219.0   |\n",
       "|  98028  | 47.76382378 | -122.27022456 |     2590.0    |  10445.0   |\n",
       "+---------+-------------+---------------+---------------+------------+\n",
       "[19396 rows x 19 columns]\n",
       "Note: Only the head of the SFrame is printed.\n",
       "You can use print_rows(num_rows=m, num_columns=n) to print more rows and columns."
      ]
     },
     "execution_count": 417,
     "metadata": {},
     "output_type": "execute_result"
    }
   ],
   "source": [
    "temp_set = train_valid_shuffled\n",
    "temp_set.remove_column('price')"
   ]
  },
  {
   "cell_type": "code",
   "execution_count": 418,
   "metadata": {
    "collapsed": false
   },
   "outputs": [],
   "source": [
    "my_2_features = temp_set.column_names()"
   ]
  },
  {
   "cell_type": "code",
   "execution_count": 419,
   "metadata": {
    "collapsed": false
   },
   "outputs": [
    {
     "data": {
      "text/plain": [
       "['id',\n",
       " 'bedrooms',\n",
       " 'bathrooms',\n",
       " 'sqft_living',\n",
       " 'sqft_lot',\n",
       " 'floors',\n",
       " 'waterfront',\n",
       " 'view',\n",
       " 'condition',\n",
       " 'grade',\n",
       " 'sqft_above',\n",
       " 'sqft_basement',\n",
       " 'yr_built',\n",
       " 'yr_renovated',\n",
       " 'zipcode',\n",
       " 'lat',\n",
       " 'long',\n",
       " 'sqft_living15',\n",
       " 'sqft_lot15']"
      ]
     },
     "execution_count": 419,
     "metadata": {},
     "output_type": "execute_result"
    }
   ],
   "source": [
    "my_2_features"
   ]
  },
  {
   "cell_type": "code",
   "execution_count": 425,
   "metadata": {
    "collapsed": false
   },
   "outputs": [],
   "source": [
    "def k_fold_cross_validation(k, l2_penalty, train_valid_shuffled, output_name, features_list):\n",
    "    next_mse = 0.0\n",
    "    validation_error_set = []\n",
    "    for i in range(k):\n",
    "        #print i\n",
    "        #print train_valid_shuffled[i]\n",
    "        the_twoset = here_is_your_set(k,train_valid_shuffled,i+1)\n",
    "        \n",
    "        #print the_twoset\n",
    "\n",
    "        my_validation_set = the_twoset[0]\n",
    "        train_set = the_twoset[1]\n",
    "\n",
    "        model = graphlab.linear_regression.create(train_set, target = output_name,\n",
    "                                                  l2_penalty = l2_penalty ,\n",
    "                                                  validation_set = None, verbose = False)\n",
    "\n",
    "        validation_error_all = model.predict(validation_set) - validation_set[output_name]\n",
    "        square_it = validation_error_all ** 2\n",
    "        validation_error = square_it.sum()\n",
    "        #validation_error_set .append([validation_error,'k=='+str(i+1)])\n",
    "        next_mse += validation_error\n",
    "    l2_penalty_mse = next_mse / (len(train_valid_shuffled)/k)\n",
    "    \n",
    "    return next_mse\n",
    "    #print len(validation_set)\n",
    "    #print len(train_set)"
   ]
  },
  {
   "cell_type": "code",
   "execution_count": 383,
   "metadata": {
    "collapsed": false
   },
   "outputs": [
    {
     "data": {
      "text/plain": [
       "['id',\n",
       " 'price',\n",
       " 'bedrooms',\n",
       " 'bathrooms',\n",
       " 'sqft_living',\n",
       " 'sqft_lot',\n",
       " 'floors',\n",
       " 'waterfront',\n",
       " 'view',\n",
       " 'condition',\n",
       " 'grade',\n",
       " 'sqft_above',\n",
       " 'sqft_basement',\n",
       " 'yr_built',\n",
       " 'yr_renovated',\n",
       " 'zipcode',\n",
       " 'lat',\n",
       " 'long',\n",
       " 'sqft_living15',\n",
       " 'sqft_lot15']"
      ]
     },
     "execution_count": 383,
     "metadata": {},
     "output_type": "execute_result"
    }
   ],
   "source": [
    "my_2_features"
   ]
  },
  {
   "cell_type": "code",
   "execution_count": null,
   "metadata": {
    "collapsed": true
   },
   "outputs": [],
   "source": [
    "poly15_data"
   ]
  },
  {
   "cell_type": "code",
   "execution_count": 384,
   "metadata": {
    "collapsed": false
   },
   "outputs": [],
   "source": [
    "l2_penalty_set = numpy.logspace(1, 7, num=13)"
   ]
  },
  {
   "cell_type": "code",
   "execution_count": 385,
   "metadata": {
    "collapsed": false
   },
   "outputs": [
    {
     "data": {
      "text/plain": [
       "array([  1.00000000e+01,   3.16227766e+01,   1.00000000e+02,\n",
       "         3.16227766e+02,   1.00000000e+03,   3.16227766e+03,\n",
       "         1.00000000e+04,   3.16227766e+04,   1.00000000e+05,\n",
       "         3.16227766e+05,   1.00000000e+06,   3.16227766e+06,\n",
       "         1.00000000e+07])"
      ]
     },
     "execution_count": 385,
     "metadata": {},
     "output_type": "execute_result"
    }
   ],
   "source": [
    "l2_penalty_set"
   ]
  },
  {
   "cell_type": "code",
   "execution_count": 426,
   "metadata": {
    "collapsed": false,
    "scrolled": true
   },
   "outputs": [
    {
     "name": "stdout",
     "output_type": "stream",
     "text": [
      "1.01795649438e+14     10.0\n",
      "1.01841564219e+14     31.6227766017\n",
      "1.02005946749e+14     100.0\n",
      "1.02728349408e+14     316.227766017\n",
      "1.06878495247e+14     1000.0\n",
      "1.27679931797e+14     3162.27766017\n",
      "3.20606262904e+14     10000.0\n",
      "7.46751246808e+14     31622.7766017\n",
      "1.54310700913e+15     100000.0\n",
      "2.13482084971e+15     316227.766017\n",
      "2.42699183305e+15     1000000.0\n",
      "2.53451965435e+15     3162277.66017\n",
      "2.57025004076e+15     10000000.0\n",
      "[101795649437780.98, 10.0]\n"
     ]
    }
   ],
   "source": [
    "choose_min = []\n",
    "for item in l2_penalty_set:\n",
    "    find_mink_set = []\n",
    "    _find_mink = k_fold_cross_validation(10, item, train_valid_shuffled, 'price', my_2_features)\n",
    "    #_find_mink = min(_find_mink)\n",
    "    find_mink_set .append (_find_mink)\n",
    "    #print find_mink_set,'  ',min(find_mink_set)\n",
    "    \n",
    "    our_min_item = min(find_mink_set)\n",
    "    #our_min_item.append(item)\n",
    "    \n",
    "    choose_min.append([our_min_item,item])\n",
    "    print min(find_mink_set),'   ',item\n",
    "print min(choose_min)"
   ]
  },
  {
   "cell_type": "markdown",
   "metadata": {},
   "source": [
    "Once we have a function to compute the average validation error for a model, we can write a loop to find the model that minimizes the average validation error. Write a loop that does the following:\n",
    "* We will again be aiming to fit a 15th-order polynomial model using the `sqft_living` input\n",
    "* For `l2_penalty` in [10^1, 10^1.5, 10^2, 10^2.5, ..., 10^7] (to get this in Python, you can use this Numpy function: `np.logspace(1, 7, num=13)`.)\n",
    "    * Run 10-fold cross-validation with `l2_penalty`\n",
    "* Report which L2 penalty produced the lowest average validation error.\n",
    "\n",
    "Note: since the degree of the polynomial is now fixed to 15, to make things faster, you should generate polynomial features in advance and re-use them throughout the loop. Make sure to use `train_valid_shuffled` when generating polynomial features!"
   ]
  },
  {
   "cell_type": "code",
   "execution_count": null,
   "metadata": {
    "collapsed": true
   },
   "outputs": [],
   "source": []
  },
  {
   "cell_type": "markdown",
   "metadata": {},
   "source": [
    "***QUIZ QUESTIONS:  What is the best value for the L2 penalty according to 10-fold validation?***"
   ]
  },
  {
   "cell_type": "markdown",
   "metadata": {},
   "source": [
    "You may find it useful to plot the k-fold cross-validation errors you have obtained to better understand the behavior of the method.  "
   ]
  },
  {
   "cell_type": "code",
   "execution_count": 392,
   "metadata": {
    "collapsed": false
   },
   "outputs": [
    {
     "data": {
      "image/png": "[encoded data removed]",
      "text/plain": [
       "<matplotlib.figure.Figure at 0x1de3a940>"
      ]
     },
     "metadata": {},
     "output_type": "display_data"
    }
   ],
   "source": [
    "# Plot the l2_penalty values in the x axis and the cross-validation error in the y axis.\n",
    "# Using plt.xscale('log') will make your plot more intuitive.\n",
    "\n",
    "plt.plot(l2_penalty_set,choose_min,'k-')\n",
    "plt.xlabel('$\\ell_2$ penalty')\n",
    "plt.ylabel('LOO cross validation error')\n",
    "plt.xscale('log')\n",
    "plt.yscale('log')"
   ]
  },
  {
   "cell_type": "markdown",
   "metadata": {},
   "source": [
    "Once you found the best value for the L2 penalty using cross-validation, it is important to retrain a final model on all of the training data using this value of `l2_penalty`.  This way, your final model will be trained on the entire dataset."
   ]
  },
  {
   "cell_type": "code",
   "execution_count": 441,
   "metadata": {
    "collapsed": false
   },
   "outputs": [
    {
     "data": {
      "text/html": [
       "<div style=\"max-height:1000px;max-width:1500px;overflow:auto;\"><table frame=\"box\" rules=\"cols\">\n",
       "    <tr>\n",
       "        <th style=\"padding-left: 1em; padding-right: 1em; text-align: center\">id</th>\n",
       "        <th style=\"padding-left: 1em; padding-right: 1em; text-align: center\">price</th>\n",
       "        <th style=\"padding-left: 1em; padding-right: 1em; text-align: center\">bedrooms</th>\n",
       "        <th style=\"padding-left: 1em; padding-right: 1em; text-align: center\">bathrooms</th>\n",
       "        <th style=\"padding-left: 1em; padding-right: 1em; text-align: center\">sqft_living</th>\n",
       "        <th style=\"padding-left: 1em; padding-right: 1em; text-align: center\">sqft_lot</th>\n",
       "        <th style=\"padding-left: 1em; padding-right: 1em; text-align: center\">floors</th>\n",
       "        <th style=\"padding-left: 1em; padding-right: 1em; text-align: center\">waterfront</th>\n",
       "        <th style=\"padding-left: 1em; padding-right: 1em; text-align: center\">view</th>\n",
       "        <th style=\"padding-left: 1em; padding-right: 1em; text-align: center\">condition</th>\n",
       "        <th style=\"padding-left: 1em; padding-right: 1em; text-align: center\">grade</th>\n",
       "    </tr>\n",
       "    <tr>\n",
       "        <td style=\"padding-left: 1em; padding-right: 1em; text-align: center; vertical-align: top\">3980300371</td>\n",
       "        <td style=\"padding-left: 1em; padding-right: 1em; text-align: center; vertical-align: top\">142000.0</td>\n",
       "        <td style=\"padding-left: 1em; padding-right: 1em; text-align: center; vertical-align: top\">0.0</td>\n",
       "        <td style=\"padding-left: 1em; padding-right: 1em; text-align: center; vertical-align: top\">0.0</td>\n",
       "        <td style=\"padding-left: 1em; padding-right: 1em; text-align: center; vertical-align: top\">290.0</td>\n",
       "        <td style=\"padding-left: 1em; padding-right: 1em; text-align: center; vertical-align: top\">20875</td>\n",
       "        <td style=\"padding-left: 1em; padding-right: 1em; text-align: center; vertical-align: top\">1</td>\n",
       "        <td style=\"padding-left: 1em; padding-right: 1em; text-align: center; vertical-align: top\">0</td>\n",
       "        <td style=\"padding-left: 1em; padding-right: 1em; text-align: center; vertical-align: top\">0</td>\n",
       "        <td style=\"padding-left: 1em; padding-right: 1em; text-align: center; vertical-align: top\">1</td>\n",
       "        <td style=\"padding-left: 1em; padding-right: 1em; text-align: center; vertical-align: top\">1</td>\n",
       "    </tr>\n",
       "    <tr>\n",
       "        <td style=\"padding-left: 1em; padding-right: 1em; text-align: center; vertical-align: top\">2856101479</td>\n",
       "        <td style=\"padding-left: 1em; padding-right: 1em; text-align: center; vertical-align: top\">276000.0</td>\n",
       "        <td style=\"padding-left: 1em; padding-right: 1em; text-align: center; vertical-align: top\">1.0</td>\n",
       "        <td style=\"padding-left: 1em; padding-right: 1em; text-align: center; vertical-align: top\">0.75</td>\n",
       "        <td style=\"padding-left: 1em; padding-right: 1em; text-align: center; vertical-align: top\">370.0</td>\n",
       "        <td style=\"padding-left: 1em; padding-right: 1em; text-align: center; vertical-align: top\">1801</td>\n",
       "        <td style=\"padding-left: 1em; padding-right: 1em; text-align: center; vertical-align: top\">1</td>\n",
       "        <td style=\"padding-left: 1em; padding-right: 1em; text-align: center; vertical-align: top\">0</td>\n",
       "        <td style=\"padding-left: 1em; padding-right: 1em; text-align: center; vertical-align: top\">0</td>\n",
       "        <td style=\"padding-left: 1em; padding-right: 1em; text-align: center; vertical-align: top\">5</td>\n",
       "        <td style=\"padding-left: 1em; padding-right: 1em; text-align: center; vertical-align: top\">5</td>\n",
       "    </tr>\n",
       "    <tr>\n",
       "        <td style=\"padding-left: 1em; padding-right: 1em; text-align: center; vertical-align: top\">1723049033</td>\n",
       "        <td style=\"padding-left: 1em; padding-right: 1em; text-align: center; vertical-align: top\">245000.0</td>\n",
       "        <td style=\"padding-left: 1em; padding-right: 1em; text-align: center; vertical-align: top\">1.0</td>\n",
       "        <td style=\"padding-left: 1em; padding-right: 1em; text-align: center; vertical-align: top\">0.75</td>\n",
       "        <td style=\"padding-left: 1em; padding-right: 1em; text-align: center; vertical-align: top\">380.0</td>\n",
       "        <td style=\"padding-left: 1em; padding-right: 1em; text-align: center; vertical-align: top\">15000</td>\n",
       "        <td style=\"padding-left: 1em; padding-right: 1em; text-align: center; vertical-align: top\">1</td>\n",
       "        <td style=\"padding-left: 1em; padding-right: 1em; text-align: center; vertical-align: top\">0</td>\n",
       "        <td style=\"padding-left: 1em; padding-right: 1em; text-align: center; vertical-align: top\">0</td>\n",
       "        <td style=\"padding-left: 1em; padding-right: 1em; text-align: center; vertical-align: top\">3</td>\n",
       "        <td style=\"padding-left: 1em; padding-right: 1em; text-align: center; vertical-align: top\">5</td>\n",
       "    </tr>\n",
       "    <tr>\n",
       "        <td style=\"padding-left: 1em; padding-right: 1em; text-align: center; vertical-align: top\">1222029077</td>\n",
       "        <td style=\"padding-left: 1em; padding-right: 1em; text-align: center; vertical-align: top\">265000.0</td>\n",
       "        <td style=\"padding-left: 1em; padding-right: 1em; text-align: center; vertical-align: top\">0.0</td>\n",
       "        <td style=\"padding-left: 1em; padding-right: 1em; text-align: center; vertical-align: top\">0.75</td>\n",
       "        <td style=\"padding-left: 1em; padding-right: 1em; text-align: center; vertical-align: top\">384.0</td>\n",
       "        <td style=\"padding-left: 1em; padding-right: 1em; text-align: center; vertical-align: top\">213444</td>\n",
       "        <td style=\"padding-left: 1em; padding-right: 1em; text-align: center; vertical-align: top\">1</td>\n",
       "        <td style=\"padding-left: 1em; padding-right: 1em; text-align: center; vertical-align: top\">0</td>\n",
       "        <td style=\"padding-left: 1em; padding-right: 1em; text-align: center; vertical-align: top\">0</td>\n",
       "        <td style=\"padding-left: 1em; padding-right: 1em; text-align: center; vertical-align: top\">3</td>\n",
       "        <td style=\"padding-left: 1em; padding-right: 1em; text-align: center; vertical-align: top\">4</td>\n",
       "    </tr>\n",
       "    <tr>\n",
       "        <td style=\"padding-left: 1em; padding-right: 1em; text-align: center; vertical-align: top\">6896300380</td>\n",
       "        <td style=\"padding-left: 1em; padding-right: 1em; text-align: center; vertical-align: top\">228000.0</td>\n",
       "        <td style=\"padding-left: 1em; padding-right: 1em; text-align: center; vertical-align: top\">0.0</td>\n",
       "        <td style=\"padding-left: 1em; padding-right: 1em; text-align: center; vertical-align: top\">1.0</td>\n",
       "        <td style=\"padding-left: 1em; padding-right: 1em; text-align: center; vertical-align: top\">390.0</td>\n",
       "        <td style=\"padding-left: 1em; padding-right: 1em; text-align: center; vertical-align: top\">5900</td>\n",
       "        <td style=\"padding-left: 1em; padding-right: 1em; text-align: center; vertical-align: top\">1</td>\n",
       "        <td style=\"padding-left: 1em; padding-right: 1em; text-align: center; vertical-align: top\">0</td>\n",
       "        <td style=\"padding-left: 1em; padding-right: 1em; text-align: center; vertical-align: top\">0</td>\n",
       "        <td style=\"padding-left: 1em; padding-right: 1em; text-align: center; vertical-align: top\">2</td>\n",
       "        <td style=\"padding-left: 1em; padding-right: 1em; text-align: center; vertical-align: top\">4</td>\n",
       "    </tr>\n",
       "    <tr>\n",
       "        <td style=\"padding-left: 1em; padding-right: 1em; text-align: center; vertical-align: top\">9266700190</td>\n",
       "        <td style=\"padding-left: 1em; padding-right: 1em; text-align: center; vertical-align: top\">245000.0</td>\n",
       "        <td style=\"padding-left: 1em; padding-right: 1em; text-align: center; vertical-align: top\">1.0</td>\n",
       "        <td style=\"padding-left: 1em; padding-right: 1em; text-align: center; vertical-align: top\">1.0</td>\n",
       "        <td style=\"padding-left: 1em; padding-right: 1em; text-align: center; vertical-align: top\">390.0</td>\n",
       "        <td style=\"padding-left: 1em; padding-right: 1em; text-align: center; vertical-align: top\">2000</td>\n",
       "        <td style=\"padding-left: 1em; padding-right: 1em; text-align: center; vertical-align: top\">1</td>\n",
       "        <td style=\"padding-left: 1em; padding-right: 1em; text-align: center; vertical-align: top\">0</td>\n",
       "        <td style=\"padding-left: 1em; padding-right: 1em; text-align: center; vertical-align: top\">0</td>\n",
       "        <td style=\"padding-left: 1em; padding-right: 1em; text-align: center; vertical-align: top\">4</td>\n",
       "        <td style=\"padding-left: 1em; padding-right: 1em; text-align: center; vertical-align: top\">6</td>\n",
       "    </tr>\n",
       "    <tr>\n",
       "        <td style=\"padding-left: 1em; padding-right: 1em; text-align: center; vertical-align: top\">6303400395</td>\n",
       "        <td style=\"padding-left: 1em; padding-right: 1em; text-align: center; vertical-align: top\">325000.0</td>\n",
       "        <td style=\"padding-left: 1em; padding-right: 1em; text-align: center; vertical-align: top\">1.0</td>\n",
       "        <td style=\"padding-left: 1em; padding-right: 1em; text-align: center; vertical-align: top\">0.75</td>\n",
       "        <td style=\"padding-left: 1em; padding-right: 1em; text-align: center; vertical-align: top\">410.0</td>\n",
       "        <td style=\"padding-left: 1em; padding-right: 1em; text-align: center; vertical-align: top\">8636</td>\n",
       "        <td style=\"padding-left: 1em; padding-right: 1em; text-align: center; vertical-align: top\">1</td>\n",
       "        <td style=\"padding-left: 1em; padding-right: 1em; text-align: center; vertical-align: top\">0</td>\n",
       "        <td style=\"padding-left: 1em; padding-right: 1em; text-align: center; vertical-align: top\">0</td>\n",
       "        <td style=\"padding-left: 1em; padding-right: 1em; text-align: center; vertical-align: top\">2</td>\n",
       "        <td style=\"padding-left: 1em; padding-right: 1em; text-align: center; vertical-align: top\">4</td>\n",
       "    </tr>\n",
       "    <tr>\n",
       "        <td style=\"padding-left: 1em; padding-right: 1em; text-align: center; vertical-align: top\">4322200105</td>\n",
       "        <td style=\"padding-left: 1em; padding-right: 1em; text-align: center; vertical-align: top\">229050.0</td>\n",
       "        <td style=\"padding-left: 1em; padding-right: 1em; text-align: center; vertical-align: top\">1.0</td>\n",
       "        <td style=\"padding-left: 1em; padding-right: 1em; text-align: center; vertical-align: top\">1.0</td>\n",
       "        <td style=\"padding-left: 1em; padding-right: 1em; text-align: center; vertical-align: top\">420.0</td>\n",
       "        <td style=\"padding-left: 1em; padding-right: 1em; text-align: center; vertical-align: top\">3298</td>\n",
       "        <td style=\"padding-left: 1em; padding-right: 1em; text-align: center; vertical-align: top\">1</td>\n",
       "        <td style=\"padding-left: 1em; padding-right: 1em; text-align: center; vertical-align: top\">0</td>\n",
       "        <td style=\"padding-left: 1em; padding-right: 1em; text-align: center; vertical-align: top\">0</td>\n",
       "        <td style=\"padding-left: 1em; padding-right: 1em; text-align: center; vertical-align: top\">4</td>\n",
       "        <td style=\"padding-left: 1em; padding-right: 1em; text-align: center; vertical-align: top\">4</td>\n",
       "    </tr>\n",
       "    <tr>\n",
       "        <td style=\"padding-left: 1em; padding-right: 1em; text-align: center; vertical-align: top\">7549801385</td>\n",
       "        <td style=\"padding-left: 1em; padding-right: 1em; text-align: center; vertical-align: top\">280000.0</td>\n",
       "        <td style=\"padding-left: 1em; padding-right: 1em; text-align: center; vertical-align: top\">1.0</td>\n",
       "        <td style=\"padding-left: 1em; padding-right: 1em; text-align: center; vertical-align: top\">0.75</td>\n",
       "        <td style=\"padding-left: 1em; padding-right: 1em; text-align: center; vertical-align: top\">420.0</td>\n",
       "        <td style=\"padding-left: 1em; padding-right: 1em; text-align: center; vertical-align: top\">6720</td>\n",
       "        <td style=\"padding-left: 1em; padding-right: 1em; text-align: center; vertical-align: top\">1</td>\n",
       "        <td style=\"padding-left: 1em; padding-right: 1em; text-align: center; vertical-align: top\">0</td>\n",
       "        <td style=\"padding-left: 1em; padding-right: 1em; text-align: center; vertical-align: top\">0</td>\n",
       "        <td style=\"padding-left: 1em; padding-right: 1em; text-align: center; vertical-align: top\">3</td>\n",
       "        <td style=\"padding-left: 1em; padding-right: 1em; text-align: center; vertical-align: top\">5</td>\n",
       "    </tr>\n",
       "    <tr>\n",
       "        <td style=\"padding-left: 1em; padding-right: 1em; text-align: center; vertical-align: top\">3523029041</td>\n",
       "        <td style=\"padding-left: 1em; padding-right: 1em; text-align: center; vertical-align: top\">290000.0</td>\n",
       "        <td style=\"padding-left: 1em; padding-right: 1em; text-align: center; vertical-align: top\">2.0</td>\n",
       "        <td style=\"padding-left: 1em; padding-right: 1em; text-align: center; vertical-align: top\">0.75</td>\n",
       "        <td style=\"padding-left: 1em; padding-right: 1em; text-align: center; vertical-align: top\">440.0</td>\n",
       "        <td style=\"padding-left: 1em; padding-right: 1em; text-align: center; vertical-align: top\">8313</td>\n",
       "        <td style=\"padding-left: 1em; padding-right: 1em; text-align: center; vertical-align: top\">1</td>\n",
       "        <td style=\"padding-left: 1em; padding-right: 1em; text-align: center; vertical-align: top\">1</td>\n",
       "        <td style=\"padding-left: 1em; padding-right: 1em; text-align: center; vertical-align: top\">3</td>\n",
       "        <td style=\"padding-left: 1em; padding-right: 1em; text-align: center; vertical-align: top\">4</td>\n",
       "        <td style=\"padding-left: 1em; padding-right: 1em; text-align: center; vertical-align: top\">5</td>\n",
       "    </tr>\n",
       "</table>\n",
       "<table frame=\"box\" rules=\"cols\">\n",
       "    <tr>\n",
       "        <th style=\"padding-left: 1em; padding-right: 1em; text-align: center\">sqft_above</th>\n",
       "        <th style=\"padding-left: 1em; padding-right: 1em; text-align: center\">sqft_basement</th>\n",
       "        <th style=\"padding-left: 1em; padding-right: 1em; text-align: center\">yr_built</th>\n",
       "        <th style=\"padding-left: 1em; padding-right: 1em; text-align: center\">yr_renovated</th>\n",
       "        <th style=\"padding-left: 1em; padding-right: 1em; text-align: center\">zipcode</th>\n",
       "        <th style=\"padding-left: 1em; padding-right: 1em; text-align: center\">lat</th>\n",
       "        <th style=\"padding-left: 1em; padding-right: 1em; text-align: center\">long</th>\n",
       "        <th style=\"padding-left: 1em; padding-right: 1em; text-align: center\">sqft_living15</th>\n",
       "    </tr>\n",
       "    <tr>\n",
       "        <td style=\"padding-left: 1em; padding-right: 1em; text-align: center; vertical-align: top\">290</td>\n",
       "        <td style=\"padding-left: 1em; padding-right: 1em; text-align: center; vertical-align: top\">0</td>\n",
       "        <td style=\"padding-left: 1em; padding-right: 1em; text-align: center; vertical-align: top\">1963</td>\n",
       "        <td style=\"padding-left: 1em; padding-right: 1em; text-align: center; vertical-align: top\">0</td>\n",
       "        <td style=\"padding-left: 1em; padding-right: 1em; text-align: center; vertical-align: top\">98024</td>\n",
       "        <td style=\"padding-left: 1em; padding-right: 1em; text-align: center; vertical-align: top\">47.53077245</td>\n",
       "        <td style=\"padding-left: 1em; padding-right: 1em; text-align: center; vertical-align: top\">-121.88842327</td>\n",
       "        <td style=\"padding-left: 1em; padding-right: 1em; text-align: center; vertical-align: top\">1620.0</td>\n",
       "    </tr>\n",
       "    <tr>\n",
       "        <td style=\"padding-left: 1em; padding-right: 1em; text-align: center; vertical-align: top\">370</td>\n",
       "        <td style=\"padding-left: 1em; padding-right: 1em; text-align: center; vertical-align: top\">0</td>\n",
       "        <td style=\"padding-left: 1em; padding-right: 1em; text-align: center; vertical-align: top\">1923</td>\n",
       "        <td style=\"padding-left: 1em; padding-right: 1em; text-align: center; vertical-align: top\">0</td>\n",
       "        <td style=\"padding-left: 1em; padding-right: 1em; text-align: center; vertical-align: top\">98117</td>\n",
       "        <td style=\"padding-left: 1em; padding-right: 1em; text-align: center; vertical-align: top\">47.67782145</td>\n",
       "        <td style=\"padding-left: 1em; padding-right: 1em; text-align: center; vertical-align: top\">-122.38911208</td>\n",
       "        <td style=\"padding-left: 1em; padding-right: 1em; text-align: center; vertical-align: top\">1340.0</td>\n",
       "    </tr>\n",
       "    <tr>\n",
       "        <td style=\"padding-left: 1em; padding-right: 1em; text-align: center; vertical-align: top\">380</td>\n",
       "        <td style=\"padding-left: 1em; padding-right: 1em; text-align: center; vertical-align: top\">0</td>\n",
       "        <td style=\"padding-left: 1em; padding-right: 1em; text-align: center; vertical-align: top\">1963</td>\n",
       "        <td style=\"padding-left: 1em; padding-right: 1em; text-align: center; vertical-align: top\">0</td>\n",
       "        <td style=\"padding-left: 1em; padding-right: 1em; text-align: center; vertical-align: top\">98168</td>\n",
       "        <td style=\"padding-left: 1em; padding-right: 1em; text-align: center; vertical-align: top\">47.48103428</td>\n",
       "        <td style=\"padding-left: 1em; padding-right: 1em; text-align: center; vertical-align: top\">-122.322601</td>\n",
       "        <td style=\"padding-left: 1em; padding-right: 1em; text-align: center; vertical-align: top\">1170.0</td>\n",
       "    </tr>\n",
       "    <tr>\n",
       "        <td style=\"padding-left: 1em; padding-right: 1em; text-align: center; vertical-align: top\">384</td>\n",
       "        <td style=\"padding-left: 1em; padding-right: 1em; text-align: center; vertical-align: top\">0</td>\n",
       "        <td style=\"padding-left: 1em; padding-right: 1em; text-align: center; vertical-align: top\">2003</td>\n",
       "        <td style=\"padding-left: 1em; padding-right: 1em; text-align: center; vertical-align: top\">0</td>\n",
       "        <td style=\"padding-left: 1em; padding-right: 1em; text-align: center; vertical-align: top\">98070</td>\n",
       "        <td style=\"padding-left: 1em; padding-right: 1em; text-align: center; vertical-align: top\">47.41772688</td>\n",
       "        <td style=\"padding-left: 1em; padding-right: 1em; text-align: center; vertical-align: top\">-122.49121696</td>\n",
       "        <td style=\"padding-left: 1em; padding-right: 1em; text-align: center; vertical-align: top\">1920.0</td>\n",
       "    </tr>\n",
       "    <tr>\n",
       "        <td style=\"padding-left: 1em; padding-right: 1em; text-align: center; vertical-align: top\">390</td>\n",
       "        <td style=\"padding-left: 1em; padding-right: 1em; text-align: center; vertical-align: top\">0</td>\n",
       "        <td style=\"padding-left: 1em; padding-right: 1em; text-align: center; vertical-align: top\">1953</td>\n",
       "        <td style=\"padding-left: 1em; padding-right: 1em; text-align: center; vertical-align: top\">0</td>\n",
       "        <td style=\"padding-left: 1em; padding-right: 1em; text-align: center; vertical-align: top\">98118</td>\n",
       "        <td style=\"padding-left: 1em; padding-right: 1em; text-align: center; vertical-align: top\">47.52604001</td>\n",
       "        <td style=\"padding-left: 1em; padding-right: 1em; text-align: center; vertical-align: top\">-122.26142752</td>\n",
       "        <td style=\"padding-left: 1em; padding-right: 1em; text-align: center; vertical-align: top\">2170.0</td>\n",
       "    </tr>\n",
       "    <tr>\n",
       "        <td style=\"padding-left: 1em; padding-right: 1em; text-align: center; vertical-align: top\">390</td>\n",
       "        <td style=\"padding-left: 1em; padding-right: 1em; text-align: center; vertical-align: top\">0</td>\n",
       "        <td style=\"padding-left: 1em; padding-right: 1em; text-align: center; vertical-align: top\">1920</td>\n",
       "        <td style=\"padding-left: 1em; padding-right: 1em; text-align: center; vertical-align: top\">0</td>\n",
       "        <td style=\"padding-left: 1em; padding-right: 1em; text-align: center; vertical-align: top\">98103</td>\n",
       "        <td style=\"padding-left: 1em; padding-right: 1em; text-align: center; vertical-align: top\">47.69377314</td>\n",
       "        <td style=\"padding-left: 1em; padding-right: 1em; text-align: center; vertical-align: top\">-122.34662226</td>\n",
       "        <td style=\"padding-left: 1em; padding-right: 1em; text-align: center; vertical-align: top\">1340.0</td>\n",
       "    </tr>\n",
       "    <tr>\n",
       "        <td style=\"padding-left: 1em; padding-right: 1em; text-align: center; vertical-align: top\">410</td>\n",
       "        <td style=\"padding-left: 1em; padding-right: 1em; text-align: center; vertical-align: top\">0</td>\n",
       "        <td style=\"padding-left: 1em; padding-right: 1em; text-align: center; vertical-align: top\">1953</td>\n",
       "        <td style=\"padding-left: 1em; padding-right: 1em; text-align: center; vertical-align: top\">0</td>\n",
       "        <td style=\"padding-left: 1em; padding-right: 1em; text-align: center; vertical-align: top\">98146</td>\n",
       "        <td style=\"padding-left: 1em; padding-right: 1em; text-align: center; vertical-align: top\">47.5076723</td>\n",
       "        <td style=\"padding-left: 1em; padding-right: 1em; text-align: center; vertical-align: top\">-122.35672193</td>\n",
       "        <td style=\"padding-left: 1em; padding-right: 1em; text-align: center; vertical-align: top\">1190.0</td>\n",
       "    </tr>\n",
       "    <tr>\n",
       "        <td style=\"padding-left: 1em; padding-right: 1em; text-align: center; vertical-align: top\">420</td>\n",
       "        <td style=\"padding-left: 1em; padding-right: 1em; text-align: center; vertical-align: top\">0</td>\n",
       "        <td style=\"padding-left: 1em; padding-right: 1em; text-align: center; vertical-align: top\">1949</td>\n",
       "        <td style=\"padding-left: 1em; padding-right: 1em; text-align: center; vertical-align: top\">0</td>\n",
       "        <td style=\"padding-left: 1em; padding-right: 1em; text-align: center; vertical-align: top\">98136</td>\n",
       "        <td style=\"padding-left: 1em; padding-right: 1em; text-align: center; vertical-align: top\">47.5374761</td>\n",
       "        <td style=\"padding-left: 1em; padding-right: 1em; text-align: center; vertical-align: top\">-122.391385</td>\n",
       "        <td style=\"padding-left: 1em; padding-right: 1em; text-align: center; vertical-align: top\">1460.0</td>\n",
       "    </tr>\n",
       "    <tr>\n",
       "        <td style=\"padding-left: 1em; padding-right: 1em; text-align: center; vertical-align: top\">420</td>\n",
       "        <td style=\"padding-left: 1em; padding-right: 1em; text-align: center; vertical-align: top\">0</td>\n",
       "        <td style=\"padding-left: 1em; padding-right: 1em; text-align: center; vertical-align: top\">1922</td>\n",
       "        <td style=\"padding-left: 1em; padding-right: 1em; text-align: center; vertical-align: top\">0</td>\n",
       "        <td style=\"padding-left: 1em; padding-right: 1em; text-align: center; vertical-align: top\">98108</td>\n",
       "        <td style=\"padding-left: 1em; padding-right: 1em; text-align: center; vertical-align: top\">47.55198122</td>\n",
       "        <td style=\"padding-left: 1em; padding-right: 1em; text-align: center; vertical-align: top\">-122.31082137</td>\n",
       "        <td style=\"padding-left: 1em; padding-right: 1em; text-align: center; vertical-align: top\">1420.0</td>\n",
       "    </tr>\n",
       "    <tr>\n",
       "        <td style=\"padding-left: 1em; padding-right: 1em; text-align: center; vertical-align: top\">440</td>\n",
       "        <td style=\"padding-left: 1em; padding-right: 1em; text-align: center; vertical-align: top\">0</td>\n",
       "        <td style=\"padding-left: 1em; padding-right: 1em; text-align: center; vertical-align: top\">1943</td>\n",
       "        <td style=\"padding-left: 1em; padding-right: 1em; text-align: center; vertical-align: top\">0</td>\n",
       "        <td style=\"padding-left: 1em; padding-right: 1em; text-align: center; vertical-align: top\">98070</td>\n",
       "        <td style=\"padding-left: 1em; padding-right: 1em; text-align: center; vertical-align: top\">47.43386642</td>\n",
       "        <td style=\"padding-left: 1em; padding-right: 1em; text-align: center; vertical-align: top\">-122.5117671</td>\n",
       "        <td style=\"padding-left: 1em; padding-right: 1em; text-align: center; vertical-align: top\">880.0</td>\n",
       "    </tr>\n",
       "</table>\n",
       "<table frame=\"box\" rules=\"cols\">\n",
       "    <tr>\n",
       "        <th style=\"padding-left: 1em; padding-right: 1em; text-align: center\">sqft_lot15</th>\n",
       "    </tr>\n",
       "    <tr>\n",
       "        <td style=\"padding-left: 1em; padding-right: 1em; text-align: center; vertical-align: top\">22850.0</td>\n",
       "    </tr>\n",
       "    <tr>\n",
       "        <td style=\"padding-left: 1em; padding-right: 1em; text-align: center; vertical-align: top\">5000.0</td>\n",
       "    </tr>\n",
       "    <tr>\n",
       "        <td style=\"padding-left: 1em; padding-right: 1em; text-align: center; vertical-align: top\">15000.0</td>\n",
       "    </tr>\n",
       "    <tr>\n",
       "        <td style=\"padding-left: 1em; padding-right: 1em; text-align: center; vertical-align: top\">224341.0</td>\n",
       "    </tr>\n",
       "    <tr>\n",
       "        <td style=\"padding-left: 1em; padding-right: 1em; text-align: center; vertical-align: top\">6000.0</td>\n",
       "    </tr>\n",
       "    <tr>\n",
       "        <td style=\"padding-left: 1em; padding-right: 1em; text-align: center; vertical-align: top\">5100.0</td>\n",
       "    </tr>\n",
       "    <tr>\n",
       "        <td style=\"padding-left: 1em; padding-right: 1em; text-align: center; vertical-align: top\">8636.0</td>\n",
       "    </tr>\n",
       "    <tr>\n",
       "        <td style=\"padding-left: 1em; padding-right: 1em; text-align: center; vertical-align: top\">4975.0</td>\n",
       "    </tr>\n",
       "    <tr>\n",
       "        <td style=\"padding-left: 1em; padding-right: 1em; text-align: center; vertical-align: top\">6720.0</td>\n",
       "    </tr>\n",
       "    <tr>\n",
       "        <td style=\"padding-left: 1em; padding-right: 1em; text-align: center; vertical-align: top\">26289.0</td>\n",
       "    </tr>\n",
       "</table>\n",
       "[19396 rows x 20 columns]<br/>Note: Only the head of the SFrame is printed.<br/>You can use print_rows(num_rows=m, num_columns=n) to print more rows and columns.\n",
       "</div>"
      ],
      "text/plain": [
       "Columns:\n",
       "\tid\tstr\n",
       "\tprice\tfloat\n",
       "\tbedrooms\tfloat\n",
       "\tbathrooms\tfloat\n",
       "\tsqft_living\tfloat\n",
       "\tsqft_lot\tint\n",
       "\tfloors\tstr\n",
       "\twaterfront\tint\n",
       "\tview\tint\n",
       "\tcondition\tint\n",
       "\tgrade\tint\n",
       "\tsqft_above\tint\n",
       "\tsqft_basement\tint\n",
       "\tyr_built\tint\n",
       "\tyr_renovated\tint\n",
       "\tzipcode\tstr\n",
       "\tlat\tfloat\n",
       "\tlong\tfloat\n",
       "\tsqft_living15\tfloat\n",
       "\tsqft_lot15\tfloat\n",
       "\n",
       "Rows: 19396\n",
       "\n",
       "Data:\n",
       "+------------+----------+----------+-----------+-------------+----------+--------+\n",
       "|     id     |  price   | bedrooms | bathrooms | sqft_living | sqft_lot | floors |\n",
       "+------------+----------+----------+-----------+-------------+----------+--------+\n",
       "| 3980300371 | 142000.0 |   0.0    |    0.0    |    290.0    |  20875   |   1    |\n",
       "| 2856101479 | 276000.0 |   1.0    |    0.75   |    370.0    |   1801   |   1    |\n",
       "| 1723049033 | 245000.0 |   1.0    |    0.75   |    380.0    |  15000   |   1    |\n",
       "| 1222029077 | 265000.0 |   0.0    |    0.75   |    384.0    |  213444  |   1    |\n",
       "| 6896300380 | 228000.0 |   0.0    |    1.0    |    390.0    |   5900   |   1    |\n",
       "| 9266700190 | 245000.0 |   1.0    |    1.0    |    390.0    |   2000   |   1    |\n",
       "| 6303400395 | 325000.0 |   1.0    |    0.75   |    410.0    |   8636   |   1    |\n",
       "| 4322200105 | 229050.0 |   1.0    |    1.0    |    420.0    |   3298   |   1    |\n",
       "| 7549801385 | 280000.0 |   1.0    |    0.75   |    420.0    |   6720   |   1    |\n",
       "| 3523029041 | 290000.0 |   2.0    |    0.75   |    440.0    |   8313   |   1    |\n",
       "+------------+----------+----------+-----------+-------------+----------+--------+\n",
       "+------------+------+-----------+-------+------------+---------------+----------+\n",
       "| waterfront | view | condition | grade | sqft_above | sqft_basement | yr_built |\n",
       "+------------+------+-----------+-------+------------+---------------+----------+\n",
       "|     0      |  0   |     1     |   1   |    290     |       0       |   1963   |\n",
       "|     0      |  0   |     5     |   5   |    370     |       0       |   1923   |\n",
       "|     0      |  0   |     3     |   5   |    380     |       0       |   1963   |\n",
       "|     0      |  0   |     3     |   4   |    384     |       0       |   2003   |\n",
       "|     0      |  0   |     2     |   4   |    390     |       0       |   1953   |\n",
       "|     0      |  0   |     4     |   6   |    390     |       0       |   1920   |\n",
       "|     0      |  0   |     2     |   4   |    410     |       0       |   1953   |\n",
       "|     0      |  0   |     4     |   4   |    420     |       0       |   1949   |\n",
       "|     0      |  0   |     3     |   5   |    420     |       0       |   1922   |\n",
       "|     1      |  3   |     4     |   5   |    440     |       0       |   1943   |\n",
       "+------------+------+-----------+-------+------------+---------------+----------+\n",
       "+--------------+---------+-------------+---------------+---------------+\n",
       "| yr_renovated | zipcode |     lat     |      long     | sqft_living15 |\n",
       "+--------------+---------+-------------+---------------+---------------+\n",
       "|      0       |  98024  | 47.53077245 | -121.88842327 |     1620.0    |\n",
       "|      0       |  98117  | 47.67782145 | -122.38911208 |     1340.0    |\n",
       "|      0       |  98168  | 47.48103428 |  -122.322601  |     1170.0    |\n",
       "|      0       |  98070  | 47.41772688 | -122.49121696 |     1920.0    |\n",
       "|      0       |  98118  | 47.52604001 | -122.26142752 |     2170.0    |\n",
       "|      0       |  98103  | 47.69377314 | -122.34662226 |     1340.0    |\n",
       "|      0       |  98146  |  47.5076723 | -122.35672193 |     1190.0    |\n",
       "|      0       |  98136  |  47.5374761 |  -122.391385  |     1460.0    |\n",
       "|      0       |  98108  | 47.55198122 | -122.31082137 |     1420.0    |\n",
       "|      0       |  98070  | 47.43386642 |  -122.5117671 |     880.0     |\n",
       "+--------------+---------+-------------+---------------+---------------+\n",
       "+------------+\n",
       "| sqft_lot15 |\n",
       "+------------+\n",
       "|  22850.0   |\n",
       "|   5000.0   |\n",
       "|  15000.0   |\n",
       "|  224341.0  |\n",
       "|   6000.0   |\n",
       "|   5100.0   |\n",
       "|   8636.0   |\n",
       "|   4975.0   |\n",
       "|   6720.0   |\n",
       "|  26289.0   |\n",
       "+------------+\n",
       "[19396 rows x 20 columns]\n",
       "Note: Only the head of the SFrame is printed.\n",
       "You can use print_rows(num_rows=m, num_columns=n) to print more rows and columns."
      ]
     },
     "execution_count": 441,
     "metadata": {},
     "output_type": "execute_result"
    }
   ],
   "source": [
    "train_valid.remove_column('date')"
   ]
  },
  {
   "cell_type": "code",
   "execution_count": 447,
   "metadata": {
    "collapsed": false
   },
   "outputs": [
    {
     "name": "stdout",
     "output_type": "stream",
     "text": [
      "8.52979952445e+13\n"
     ]
    }
   ],
   "source": [
    "model = graphlab.linear_regression.create(train_valid, target = 'price',\n",
    "                                                  l2_penalty = 3.16227766e+03 ,\n",
    "                                                  validation_set = None, verbose = False)\n",
    "raw_ress = model.predict(test)-test['price']\n",
    "raw_res2 = raw_ress**2\n",
    "print sum(raw_res2)"
   ]
  },
  {
   "cell_type": "code",
   "execution_count": 446,
   "metadata": {
    "collapsed": false
   },
   "outputs": [
    {
     "name": "stdout",
     "output_type": "stream",
     "text": [
      "8.52979952445e+13\n"
     ]
    }
   ],
   "source": [
    "raw_ress = model.predict(test)-test['price']\n",
    "raw_res2 = raw_ress**2\n",
    "print sum(raw_res2)"
   ]
  },
  {
   "cell_type": "markdown",
   "metadata": {},
   "source": [
    "***QUIZ QUESTION: Using the best L2 penalty found above, train a model using all training data. What is the RSS on the TEST data of the model you learn with this L2 penalty? ***"
   ]
  },
  {
   "cell_type": "code",
   "execution_count": null,
   "metadata": {
    "collapsed": true
   },
   "outputs": [],
   "source": []
  }
 ],
 "metadata": {
  "kernelspec": {
   "display_name": "Python 2",
   "language": "python",
   "name": "python2"
  },
  "language_info": {
   "codemirror_mode": {
    "name": "ipython",
    "version": 2
   },
   "file_extension": ".py",
   "mimetype": "text/x-python",
   "name": "python",
   "nbconvert_exporter": "python",
   "pygments_lexer": "ipython2",
   "version": "2.7.11"
  }
 },
 "nbformat": 4,
 "nbformat_minor": 0
}
